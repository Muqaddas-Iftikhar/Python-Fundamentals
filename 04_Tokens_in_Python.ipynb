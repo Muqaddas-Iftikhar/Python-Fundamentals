{
 "cells": [
  {
   "cell_type": "markdown",
   "id": "78943d23",
   "metadata": {},
   "source": [
    "# <center>TOKENS IN PYTHON</center>\n",
    "Smallest meaningul component in a program.\n",
    "1. keywords\n",
    "2. Identifiers\n",
    "3. Literals\n",
    "4. Operators"
   ]
  },
  {
   "cell_type": "markdown",
   "id": "40c59886",
   "metadata": {},
   "source": [
    "# Keywords:\n",
    "These are special reserved words. These are False, Truw, class, Finally, Is, Return, None, Continue, For, While, Lambda, Try, except, def, Global, local, If, elif, else, as, Yield, Or, and, not, from, with, del, Nonlocal and many more."
   ]
  },
  {
   "cell_type": "markdown",
   "id": "d33a0026",
   "metadata": {},
   "source": [
    "# Identifiers:\n",
    "These are names used for variables, functions or objects.\n",
    "**Rules:**\n",
    "1. No special character except _(underscore).\n",
    "2. Identifiers are case sensitive.\n",
    "3. First letter cannot be a digit."
   ]
  },
  {
   "cell_type": "code",
   "execution_count": 3,
   "id": "9ca729bb",
   "metadata": {},
   "outputs": [
    {
     "name": "stdout",
     "output_type": "stream",
     "text": [
      "I am Lisa\n"
     ]
    }
   ],
   "source": [
    "Lisa='I am Lisa'\n",
    "print(Lisa)"
   ]
  },
  {
   "cell_type": "code",
   "execution_count": 4,
   "id": "e70382ba",
   "metadata": {},
   "outputs": [
    {
     "name": "stdout",
     "output_type": "stream",
     "text": [
      "I am Lisa\n"
     ]
    }
   ],
   "source": [
    "lisa='I am Lisa'\n",
    "print(lisa)"
   ]
  },
  {
   "cell_type": "markdown",
   "id": "98df80cb",
   "metadata": {},
   "source": [
    "# Literals:\n",
    "Literals are constant in Python. These cannot be changed."
   ]
  },
  {
   "cell_type": "code",
   "execution_count": 5,
   "id": "121ab19f",
   "metadata": {},
   "outputs": [],
   "source": [
    "a1='Python'"
   ]
  },
  {
   "cell_type": "code",
   "execution_count": 6,
   "id": "75f7c108",
   "metadata": {},
   "outputs": [],
   "source": [
    "a1=123"
   ]
  },
  {
   "cell_type": "code",
   "execution_count": 7,
   "id": "81c53545",
   "metadata": {},
   "outputs": [],
   "source": [
    "a1=True"
   ]
  },
  {
   "cell_type": "code",
   "execution_count": null,
   "id": "388a0cbc",
   "metadata": {},
   "outputs": [],
   "source": []
  }
 ],
 "metadata": {
  "kernelspec": {
   "display_name": "Python 3 (ipykernel)",
   "language": "python",
   "name": "python3"
  },
  "language_info": {
   "codemirror_mode": {
    "name": "ipython",
    "version": 3
   },
   "file_extension": ".py",
   "mimetype": "text/x-python",
   "name": "python",
   "nbconvert_exporter": "python",
   "pygments_lexer": "ipython3",
   "version": "3.10.9"
  }
 },
 "nbformat": 4,
 "nbformat_minor": 5
}
