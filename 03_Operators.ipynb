{
 "cells": [
  {
   "cell_type": "markdown",
   "id": "df8c7b3a",
   "metadata": {},
   "source": [
    "# <center> OPERATORS IN PYTHON </CENTER>\n",
    "There are three types of operators in python. These are:\n",
    "1. ***Arithmetic Operators*** (It includes addition, Subtraction, multiplication and division)\n",
    "2. ***Relational Operators*** (It is also called Comparison Operators i.e. <, >, <=, >=, ==, !=)\n",
    "3. ***Logical Operators*** (It includes AND, OR and NOT operators)"
   ]
  },
  {
   "cell_type": "markdown",
   "id": "7aad6b7d",
   "metadata": {},
   "source": [
    "# <center> ARITHEMATIC OPERATORS </center>"
   ]
  },
  {
   "cell_type": "markdown",
   "id": "89a6f6b9",
   "metadata": {},
   "source": [
    "# Addition:"
   ]
  },
  {
   "cell_type": "code",
   "execution_count": 1,
   "id": "3c1ba912",
   "metadata": {},
   "outputs": [],
   "source": [
    "a=10\n",
    "b=20"
   ]
  },
  {
   "cell_type": "code",
   "execution_count": 2,
   "id": "bf098e84",
   "metadata": {},
   "outputs": [
    {
     "name": "stdout",
     "output_type": "stream",
     "text": [
      "30\n"
     ]
    }
   ],
   "source": [
    "print(a+b)"
   ]
  },
  {
   "cell_type": "markdown",
   "id": "d40a16fa",
   "metadata": {},
   "source": [
    "# Subtraction:"
   ]
  },
  {
   "cell_type": "code",
   "execution_count": 3,
   "id": "fd9f14e1",
   "metadata": {},
   "outputs": [
    {
     "name": "stdout",
     "output_type": "stream",
     "text": [
      "-10\n"
     ]
    }
   ],
   "source": [
    "print(a-b)"
   ]
  },
  {
   "cell_type": "code",
   "execution_count": 4,
   "id": "773b55b4",
   "metadata": {},
   "outputs": [
    {
     "name": "stdout",
     "output_type": "stream",
     "text": [
      "10\n"
     ]
    }
   ],
   "source": [
    "print(b-a)"
   ]
  },
  {
   "cell_type": "markdown",
   "id": "5926f37c",
   "metadata": {},
   "source": [
    "# Multiplication:"
   ]
  },
  {
   "cell_type": "code",
   "execution_count": 5,
   "id": "158df4a6",
   "metadata": {},
   "outputs": [
    {
     "name": "stdout",
     "output_type": "stream",
     "text": [
      "200\n"
     ]
    }
   ],
   "source": [
    "print(a*b)"
   ]
  },
  {
   "cell_type": "markdown",
   "id": "037a9342",
   "metadata": {},
   "source": [
    "# Division:"
   ]
  },
  {
   "cell_type": "code",
   "execution_count": 6,
   "id": "e1e60946",
   "metadata": {},
   "outputs": [
    {
     "name": "stdout",
     "output_type": "stream",
     "text": [
      "0.5\n"
     ]
    }
   ],
   "source": [
    "print(a/b)"
   ]
  },
  {
   "cell_type": "code",
   "execution_count": 7,
   "id": "c6a33097",
   "metadata": {},
   "outputs": [
    {
     "name": "stdout",
     "output_type": "stream",
     "text": [
      "2.0\n"
     ]
    }
   ],
   "source": [
    "print(b/a)"
   ]
  },
  {
   "cell_type": "markdown",
   "id": "580064df",
   "metadata": {},
   "source": [
    "# Percentage:"
   ]
  },
  {
   "cell_type": "code",
   "execution_count": 8,
   "id": "a6e7cd86",
   "metadata": {},
   "outputs": [
    {
     "name": "stdout",
     "output_type": "stream",
     "text": [
      "10\n"
     ]
    }
   ],
   "source": [
    "print(a%b)"
   ]
  },
  {
   "cell_type": "code",
   "execution_count": 9,
   "id": "a5587d63",
   "metadata": {},
   "outputs": [
    {
     "name": "stdout",
     "output_type": "stream",
     "text": [
      "0\n"
     ]
    }
   ],
   "source": [
    "print(b%a)"
   ]
  },
  {
   "cell_type": "markdown",
   "id": "51e6d366",
   "metadata": {},
   "source": [
    "# <center> RELATIONAL OPERATORS </CENTER>"
   ]
  },
  {
   "cell_type": "markdown",
   "id": "3ff35936",
   "metadata": {},
   "source": [
    "# Greater than:"
   ]
  },
  {
   "cell_type": "code",
   "execution_count": 10,
   "id": "fb44d214",
   "metadata": {},
   "outputs": [
    {
     "data": {
      "text/plain": [
       "False"
      ]
     },
     "execution_count": 10,
     "metadata": {},
     "output_type": "execute_result"
    }
   ],
   "source": [
    "a>b"
   ]
  },
  {
   "cell_type": "markdown",
   "id": "4fd182b0",
   "metadata": {},
   "source": [
    "# Less than:"
   ]
  },
  {
   "cell_type": "code",
   "execution_count": 11,
   "id": "6162f3fe",
   "metadata": {},
   "outputs": [
    {
     "data": {
      "text/plain": [
       "True"
      ]
     },
     "execution_count": 11,
     "metadata": {},
     "output_type": "execute_result"
    }
   ],
   "source": [
    "a<b"
   ]
  },
  {
   "cell_type": "markdown",
   "id": "33d95761",
   "metadata": {},
   "source": [
    "# Equal To:"
   ]
  },
  {
   "cell_type": "code",
   "execution_count": 12,
   "id": "f30a5a3a",
   "metadata": {},
   "outputs": [
    {
     "data": {
      "text/plain": [
       "False"
      ]
     },
     "execution_count": 12,
     "metadata": {},
     "output_type": "execute_result"
    }
   ],
   "source": [
    "a==b"
   ]
  },
  {
   "cell_type": "markdown",
   "id": "220e3d4c",
   "metadata": {},
   "source": [
    "# Not Equal to:"
   ]
  },
  {
   "cell_type": "code",
   "execution_count": 13,
   "id": "6c9b369b",
   "metadata": {},
   "outputs": [
    {
     "data": {
      "text/plain": [
       "True"
      ]
     },
     "execution_count": 13,
     "metadata": {},
     "output_type": "execute_result"
    }
   ],
   "source": [
    "a!=b"
   ]
  },
  {
   "cell_type": "markdown",
   "id": "1614db2d",
   "metadata": {},
   "source": [
    "# Greater than or equal to:"
   ]
  },
  {
   "cell_type": "code",
   "execution_count": 14,
   "id": "8e1eacf9",
   "metadata": {},
   "outputs": [
    {
     "data": {
      "text/plain": [
       "False"
      ]
     },
     "execution_count": 14,
     "metadata": {},
     "output_type": "execute_result"
    }
   ],
   "source": [
    "a>=b"
   ]
  },
  {
   "cell_type": "markdown",
   "id": "fb985c0f",
   "metadata": {},
   "source": [
    "# Less than or equal to:"
   ]
  },
  {
   "cell_type": "code",
   "execution_count": 15,
   "id": "dcb3e12e",
   "metadata": {},
   "outputs": [
    {
     "data": {
      "text/plain": [
       "True"
      ]
     },
     "execution_count": 15,
     "metadata": {},
     "output_type": "execute_result"
    }
   ],
   "source": [
    "a<=b"
   ]
  },
  {
   "cell_type": "code",
   "execution_count": 16,
   "id": "153e6c58",
   "metadata": {},
   "outputs": [],
   "source": [
    "a=100\n",
    "b=100"
   ]
  },
  {
   "cell_type": "code",
   "execution_count": 17,
   "id": "0671f8fa",
   "metadata": {},
   "outputs": [
    {
     "data": {
      "text/plain": [
       "True"
      ]
     },
     "execution_count": 17,
     "metadata": {},
     "output_type": "execute_result"
    }
   ],
   "source": [
    "a==b"
   ]
  },
  {
   "cell_type": "code",
   "execution_count": 18,
   "id": "5d00978e",
   "metadata": {},
   "outputs": [
    {
     "data": {
      "text/plain": [
       "False"
      ]
     },
     "execution_count": 18,
     "metadata": {},
     "output_type": "execute_result"
    }
   ],
   "source": [
    "a!=b"
   ]
  },
  {
   "cell_type": "markdown",
   "id": "157bc661",
   "metadata": {},
   "source": [
    "# <center> LOGICAL OPERATORS </CENTER>"
   ]
  },
  {
   "cell_type": "markdown",
   "id": "83a407ac",
   "metadata": {},
   "source": [
    "# AND Operator:\n",
    "It gives the True result when both of its conditions are True, otherwise False."
   ]
  },
  {
   "cell_type": "code",
   "execution_count": 19,
   "id": "742771b6",
   "metadata": {},
   "outputs": [],
   "source": [
    "a=True\n",
    "b=False"
   ]
  },
  {
   "cell_type": "code",
   "execution_count": 20,
   "id": "9646e7d3",
   "metadata": {},
   "outputs": [
    {
     "data": {
      "text/plain": [
       "False"
      ]
     },
     "execution_count": 20,
     "metadata": {},
     "output_type": "execute_result"
    }
   ],
   "source": [
    "a&b"
   ]
  },
  {
   "cell_type": "code",
   "execution_count": 21,
   "id": "77859e98",
   "metadata": {},
   "outputs": [
    {
     "data": {
      "text/plain": [
       "False"
      ]
     },
     "execution_count": 21,
     "metadata": {},
     "output_type": "execute_result"
    }
   ],
   "source": [
    "a and b"
   ]
  },
  {
   "cell_type": "code",
   "execution_count": 22,
   "id": "18eccdae",
   "metadata": {},
   "outputs": [
    {
     "data": {
      "text/plain": [
       "False"
      ]
     },
     "execution_count": 22,
     "metadata": {},
     "output_type": "execute_result"
    }
   ],
   "source": [
    "b&a"
   ]
  },
  {
   "cell_type": "code",
   "execution_count": 23,
   "id": "bd521b4d",
   "metadata": {},
   "outputs": [
    {
     "data": {
      "text/plain": [
       "False"
      ]
     },
     "execution_count": 23,
     "metadata": {},
     "output_type": "execute_result"
    }
   ],
   "source": [
    "b and a"
   ]
  },
  {
   "cell_type": "code",
   "execution_count": 24,
   "id": "116863fb",
   "metadata": {},
   "outputs": [
    {
     "data": {
      "text/plain": [
       "True"
      ]
     },
     "execution_count": 24,
     "metadata": {},
     "output_type": "execute_result"
    }
   ],
   "source": [
    "a&a"
   ]
  },
  {
   "cell_type": "code",
   "execution_count": 25,
   "id": "2bb5632a",
   "metadata": {},
   "outputs": [
    {
     "data": {
      "text/plain": [
       "True"
      ]
     },
     "execution_count": 25,
     "metadata": {},
     "output_type": "execute_result"
    }
   ],
   "source": [
    "a and a"
   ]
  },
  {
   "cell_type": "code",
   "execution_count": 26,
   "id": "b023a7cf",
   "metadata": {},
   "outputs": [
    {
     "data": {
      "text/plain": [
       "False"
      ]
     },
     "execution_count": 26,
     "metadata": {},
     "output_type": "execute_result"
    }
   ],
   "source": [
    "b & b"
   ]
  },
  {
   "cell_type": "code",
   "execution_count": 27,
   "id": "4fee47bb",
   "metadata": {},
   "outputs": [
    {
     "data": {
      "text/plain": [
       "False"
      ]
     },
     "execution_count": 27,
     "metadata": {},
     "output_type": "execute_result"
    }
   ],
   "source": [
    "b and b"
   ]
  },
  {
   "cell_type": "markdown",
   "id": "2f25bb19",
   "metadata": {},
   "source": [
    "# OR Operator:\n",
    "It gives the True result when both or any of its conditions are True, otherwise False."
   ]
  },
  {
   "cell_type": "code",
   "execution_count": 28,
   "id": "3e1bf8a9",
   "metadata": {},
   "outputs": [
    {
     "data": {
      "text/plain": [
       "True"
      ]
     },
     "execution_count": 28,
     "metadata": {},
     "output_type": "execute_result"
    }
   ],
   "source": [
    "a|b"
   ]
  },
  {
   "cell_type": "code",
   "execution_count": 29,
   "id": "e8d17241",
   "metadata": {},
   "outputs": [
    {
     "data": {
      "text/plain": [
       "True"
      ]
     },
     "execution_count": 29,
     "metadata": {},
     "output_type": "execute_result"
    }
   ],
   "source": [
    "b|a"
   ]
  },
  {
   "cell_type": "code",
   "execution_count": 32,
   "id": "13ef33fe",
   "metadata": {},
   "outputs": [
    {
     "data": {
      "text/plain": [
       "False"
      ]
     },
     "execution_count": 32,
     "metadata": {},
     "output_type": "execute_result"
    }
   ],
   "source": [
    "b|b"
   ]
  },
  {
   "cell_type": "code",
   "execution_count": 31,
   "id": "576903f4",
   "metadata": {},
   "outputs": [
    {
     "data": {
      "text/plain": [
       "True"
      ]
     },
     "execution_count": 31,
     "metadata": {},
     "output_type": "execute_result"
    }
   ],
   "source": [
    "a|a"
   ]
  },
  {
   "cell_type": "code",
   "execution_count": null,
   "id": "2e9297d1",
   "metadata": {},
   "outputs": [],
   "source": []
  }
 ],
 "metadata": {
  "kernelspec": {
   "display_name": "Python 3 (ipykernel)",
   "language": "python",
   "name": "python3"
  },
  "language_info": {
   "codemirror_mode": {
    "name": "ipython",
    "version": 3
   },
   "file_extension": ".py",
   "mimetype": "text/x-python",
   "name": "python",
   "nbconvert_exporter": "python",
   "pygments_lexer": "ipython3",
   "version": "3.10.9"
  }
 },
 "nbformat": 4,
 "nbformat_minor": 5
}
