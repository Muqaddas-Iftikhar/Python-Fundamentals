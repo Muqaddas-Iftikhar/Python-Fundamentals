{
 "cells": [
  {
   "cell_type": "markdown",
   "id": "d8d449ef",
   "metadata": {},
   "source": [
    "# <center> LOADING DATA WITH PANDAS </center>"
   ]
  },
  {
   "cell_type": "code",
   "execution_count": 1,
   "id": "6fac11a5",
   "metadata": {},
   "outputs": [],
   "source": [
    "import pandas as pd"
   ]
  },
  {
   "cell_type": "code",
   "execution_count": 4,
   "id": "18c7793e",
   "metadata": {},
   "outputs": [],
   "source": [
    "df=pd.DataFrame({'a':[11, 21, 31], 'b':[21, 22, 23]})"
   ]
  },
  {
   "cell_type": "code",
   "execution_count": 5,
   "id": "d769d263",
   "metadata": {},
   "outputs": [
    {
     "name": "stdout",
     "output_type": "stream",
     "text": [
      "    a   b\n",
      "0  11  21\n",
      "1  21  22\n",
      "2  31  23\n"
     ]
    }
   ],
   "source": [
    "print(df)"
   ]
  },
  {
   "cell_type": "code",
   "execution_count": 6,
   "id": "a62f2269",
   "metadata": {},
   "outputs": [
    {
     "data": {
      "text/html": [
       "<div>\n",
       "<style scoped>\n",
       "    .dataframe tbody tr th:only-of-type {\n",
       "        vertical-align: middle;\n",
       "    }\n",
       "\n",
       "    .dataframe tbody tr th {\n",
       "        vertical-align: top;\n",
       "    }\n",
       "\n",
       "    .dataframe thead th {\n",
       "        text-align: right;\n",
       "    }\n",
       "</style>\n",
       "<table border=\"1\" class=\"dataframe\">\n",
       "  <thead>\n",
       "    <tr style=\"text-align: right;\">\n",
       "      <th></th>\n",
       "      <th>a</th>\n",
       "      <th>b</th>\n",
       "    </tr>\n",
       "  </thead>\n",
       "  <tbody>\n",
       "    <tr>\n",
       "      <th>0</th>\n",
       "      <td>11</td>\n",
       "      <td>21</td>\n",
       "    </tr>\n",
       "    <tr>\n",
       "      <th>1</th>\n",
       "      <td>21</td>\n",
       "      <td>22</td>\n",
       "    </tr>\n",
       "    <tr>\n",
       "      <th>2</th>\n",
       "      <td>31</td>\n",
       "      <td>23</td>\n",
       "    </tr>\n",
       "  </tbody>\n",
       "</table>\n",
       "</div>"
      ],
      "text/plain": [
       "    a   b\n",
       "0  11  21\n",
       "1  21  22\n",
       "2  31  23"
      ]
     },
     "execution_count": 6,
     "metadata": {},
     "output_type": "execute_result"
    }
   ],
   "source": [
    "df.head(3)"
   ]
  },
  {
   "cell_type": "code",
   "execution_count": 7,
   "id": "5f85e2eb",
   "metadata": {},
   "outputs": [
    {
     "data": {
      "text/plain": [
       "0    11\n",
       "1    21\n",
       "2    31\n",
       "Name: a, dtype: int64"
      ]
     },
     "execution_count": 7,
     "metadata": {},
     "output_type": "execute_result"
    }
   ],
   "source": [
    "df['a']"
   ]
  },
  {
   "cell_type": "code",
   "execution_count": 9,
   "id": "4f174b8c",
   "metadata": {},
   "outputs": [
    {
     "data": {
      "text/plain": [
       "0    21\n",
       "1    22\n",
       "2    23\n",
       "Name: b, dtype: int64"
      ]
     },
     "execution_count": 9,
     "metadata": {},
     "output_type": "execute_result"
    }
   ],
   "source": [
    "df['b']"
   ]
  },
  {
   "cell_type": "code",
   "execution_count": 10,
   "id": "0f8f3b2c",
   "metadata": {},
   "outputs": [],
   "source": [
    "import pandas as pd"
   ]
  },
  {
   "cell_type": "code",
   "execution_count": 11,
   "id": "d6bc4410",
   "metadata": {},
   "outputs": [],
   "source": [
    "df=pd.DataFrame({'a':[1, 2, 1], 'b':[1, 1, 1]})"
   ]
  },
  {
   "cell_type": "code",
   "execution_count": 12,
   "id": "6d562cd4",
   "metadata": {},
   "outputs": [
    {
     "name": "stdout",
     "output_type": "stream",
     "text": [
      "   a  b\n",
      "0  1  1\n",
      "1  2  1\n",
      "2  1  1\n"
     ]
    }
   ],
   "source": [
    "print(df)"
   ]
  },
  {
   "cell_type": "code",
   "execution_count": 13,
   "id": "7bd23f44",
   "metadata": {},
   "outputs": [
    {
     "data": {
      "text/plain": [
       "array([1, 2], dtype=int64)"
      ]
     },
     "execution_count": 13,
     "metadata": {},
     "output_type": "execute_result"
    }
   ],
   "source": [
    "df['a'].unique()"
   ]
  },
  {
   "cell_type": "code",
   "execution_count": 14,
   "id": "cfd1ea66",
   "metadata": {},
   "outputs": [
    {
     "data": {
      "text/plain": [
       "0     True\n",
       "1    False\n",
       "2     True\n",
       "Name: a, dtype: bool"
      ]
     },
     "execution_count": 14,
     "metadata": {},
     "output_type": "execute_result"
    }
   ],
   "source": [
    "df['a']<2"
   ]
  },
  {
   "cell_type": "code",
   "execution_count": 15,
   "id": "599c3b14",
   "metadata": {},
   "outputs": [
    {
     "data": {
      "text/html": [
       "<div>\n",
       "<style scoped>\n",
       "    .dataframe tbody tr th:only-of-type {\n",
       "        vertical-align: middle;\n",
       "    }\n",
       "\n",
       "    .dataframe tbody tr th {\n",
       "        vertical-align: top;\n",
       "    }\n",
       "\n",
       "    .dataframe thead th {\n",
       "        text-align: right;\n",
       "    }\n",
       "</style>\n",
       "<table border=\"1\" class=\"dataframe\">\n",
       "  <thead>\n",
       "    <tr style=\"text-align: right;\">\n",
       "      <th></th>\n",
       "      <th>a</th>\n",
       "      <th>b</th>\n",
       "    </tr>\n",
       "  </thead>\n",
       "  <tbody>\n",
       "    <tr>\n",
       "      <th>0</th>\n",
       "      <td>1</td>\n",
       "      <td>1</td>\n",
       "    </tr>\n",
       "    <tr>\n",
       "      <th>2</th>\n",
       "      <td>1</td>\n",
       "      <td>1</td>\n",
       "    </tr>\n",
       "  </tbody>\n",
       "</table>\n",
       "</div>"
      ],
      "text/plain": [
       "   a  b\n",
       "0  1  1\n",
       "2  1  1"
      ]
     },
     "execution_count": 15,
     "metadata": {},
     "output_type": "execute_result"
    }
   ],
   "source": [
    "df[df['a']<2]"
   ]
  },
  {
   "cell_type": "code",
   "execution_count": 17,
   "id": "996219f3",
   "metadata": {},
   "outputs": [],
   "source": [
    "df=pd.DataFrame({'Artist':['Michael Jackson', 'AC/DC', 'Pink Floyd', 'Whitney Houston', 'Meat Loaf', 'Eagles','Bee Gees', 'Fleetwood Mac'],\n",
    "             'Album':['Thriller', 'Back in Black', 'The Dark side of the Moon', 'The Bodyguard', 'Bat out of hell', \"Their Greatest Hits (1971-1975)\", 'Saturday Night Fever', 'Rumours'],\n",
    "             'Released':[1982, 1980, 1973, 1992, 1977, 1976, 1977, 1977],\n",
    "             'Length':[\"00:42:19\", \"00:42:11\", \"00:42:49\", \"00:57:44\", \"00:46:33\", \"00:43:08\", \"1:15:54\", \"00:40:01\"],\n",
    "             'Genre':['Pop, rock, R&B', 'Hard rock', 'Progressive rock', 'Soundtrack/R&B, soul, pop', 'Hard rock, Progressive rock', 'Rock, soft rock, folk rock', 'Disco', 'Soft rock'],\n",
    "             \"Music Recoding Sales(millions)\":[46, 24.1, 24.2, 26.1, 20.6, 32.2, 20.6, 27.9],\n",
    "             \"Claimed Sales (millions)\":[65, 50, 45, 50, 43, 42, 40, 40],\n",
    "             \"Released Sountracks\":[\"30-Nov-82\", \"25-Jul-80\", \"01-Mar-73\", \"25-Jul-80  Y\", \"21-Oct-77\", \"17-Feb-76\", \"15-Nov-77  Y\", \"04-Feb-77\"],\n",
    "             \"Rating(friends)\":[10.0, 8.5, 9.5, 7.0, 7.0, 9.5, 9.0, 9.5]})"
   ]
  },
  {
   "cell_type": "code",
   "execution_count": 18,
   "id": "14da5e6b",
   "metadata": {},
   "outputs": [
    {
     "data": {
      "text/html": [
       "<div>\n",
       "<style scoped>\n",
       "    .dataframe tbody tr th:only-of-type {\n",
       "        vertical-align: middle;\n",
       "    }\n",
       "\n",
       "    .dataframe tbody tr th {\n",
       "        vertical-align: top;\n",
       "    }\n",
       "\n",
       "    .dataframe thead th {\n",
       "        text-align: right;\n",
       "    }\n",
       "</style>\n",
       "<table border=\"1\" class=\"dataframe\">\n",
       "  <thead>\n",
       "    <tr style=\"text-align: right;\">\n",
       "      <th></th>\n",
       "      <th>Artist</th>\n",
       "      <th>Album</th>\n",
       "      <th>Released</th>\n",
       "      <th>Length</th>\n",
       "      <th>Genre</th>\n",
       "      <th>Music Recoding Sales(millions)</th>\n",
       "      <th>Claimed Sales (millions)</th>\n",
       "      <th>Released Sountracks</th>\n",
       "      <th>Rating(friends)</th>\n",
       "    </tr>\n",
       "  </thead>\n",
       "  <tbody>\n",
       "    <tr>\n",
       "      <th>0</th>\n",
       "      <td>Michael Jackson</td>\n",
       "      <td>Thriller</td>\n",
       "      <td>1982</td>\n",
       "      <td>00:42:19</td>\n",
       "      <td>Pop, rock, R&amp;B</td>\n",
       "      <td>46.0</td>\n",
       "      <td>65</td>\n",
       "      <td>30-Nov-82</td>\n",
       "      <td>10.0</td>\n",
       "    </tr>\n",
       "    <tr>\n",
       "      <th>1</th>\n",
       "      <td>AC/DC</td>\n",
       "      <td>Back in Black</td>\n",
       "      <td>1980</td>\n",
       "      <td>00:42:11</td>\n",
       "      <td>Hard rock</td>\n",
       "      <td>24.1</td>\n",
       "      <td>50</td>\n",
       "      <td>25-Jul-80</td>\n",
       "      <td>8.5</td>\n",
       "    </tr>\n",
       "    <tr>\n",
       "      <th>2</th>\n",
       "      <td>Pink Floyd</td>\n",
       "      <td>The Dark side of the Moon</td>\n",
       "      <td>1973</td>\n",
       "      <td>00:42:49</td>\n",
       "      <td>Progressive rock</td>\n",
       "      <td>24.2</td>\n",
       "      <td>45</td>\n",
       "      <td>01-Mar-73</td>\n",
       "      <td>9.5</td>\n",
       "    </tr>\n",
       "    <tr>\n",
       "      <th>3</th>\n",
       "      <td>Whitney Houston</td>\n",
       "      <td>The Bodyguard</td>\n",
       "      <td>1992</td>\n",
       "      <td>00:57:44</td>\n",
       "      <td>Soundtrack/R&amp;B, soul, pop</td>\n",
       "      <td>26.1</td>\n",
       "      <td>50</td>\n",
       "      <td>25-Jul-80  Y</td>\n",
       "      <td>7.0</td>\n",
       "    </tr>\n",
       "    <tr>\n",
       "      <th>4</th>\n",
       "      <td>Meat Loaf</td>\n",
       "      <td>Bat out of hell</td>\n",
       "      <td>1977</td>\n",
       "      <td>00:46:33</td>\n",
       "      <td>Hard rock, Progressive rock</td>\n",
       "      <td>20.6</td>\n",
       "      <td>43</td>\n",
       "      <td>21-Oct-77</td>\n",
       "      <td>7.0</td>\n",
       "    </tr>\n",
       "    <tr>\n",
       "      <th>5</th>\n",
       "      <td>Eagles</td>\n",
       "      <td>Their Greatest Hits (1971-1975)</td>\n",
       "      <td>1976</td>\n",
       "      <td>00:43:08</td>\n",
       "      <td>Rock, soft rock, folk rock</td>\n",
       "      <td>32.2</td>\n",
       "      <td>42</td>\n",
       "      <td>17-Feb-76</td>\n",
       "      <td>9.5</td>\n",
       "    </tr>\n",
       "    <tr>\n",
       "      <th>6</th>\n",
       "      <td>Bee Gees</td>\n",
       "      <td>Saturday Night Fever</td>\n",
       "      <td>1977</td>\n",
       "      <td>1:15:54</td>\n",
       "      <td>Disco</td>\n",
       "      <td>20.6</td>\n",
       "      <td>40</td>\n",
       "      <td>15-Nov-77  Y</td>\n",
       "      <td>9.0</td>\n",
       "    </tr>\n",
       "    <tr>\n",
       "      <th>7</th>\n",
       "      <td>Fleetwood Mac</td>\n",
       "      <td>Rumours</td>\n",
       "      <td>1977</td>\n",
       "      <td>00:40:01</td>\n",
       "      <td>Soft rock</td>\n",
       "      <td>27.9</td>\n",
       "      <td>40</td>\n",
       "      <td>04-Feb-77</td>\n",
       "      <td>9.5</td>\n",
       "    </tr>\n",
       "  </tbody>\n",
       "</table>\n",
       "</div>"
      ],
      "text/plain": [
       "            Artist                            Album  Released    Length  \\\n",
       "0  Michael Jackson                         Thriller      1982  00:42:19   \n",
       "1            AC/DC                    Back in Black      1980  00:42:11   \n",
       "2       Pink Floyd        The Dark side of the Moon      1973  00:42:49   \n",
       "3  Whitney Houston                    The Bodyguard      1992  00:57:44   \n",
       "4        Meat Loaf                  Bat out of hell      1977  00:46:33   \n",
       "5           Eagles  Their Greatest Hits (1971-1975)      1976  00:43:08   \n",
       "6         Bee Gees             Saturday Night Fever      1977   1:15:54   \n",
       "7    Fleetwood Mac                          Rumours      1977  00:40:01   \n",
       "\n",
       "                         Genre  Music Recoding Sales(millions)  \\\n",
       "0               Pop, rock, R&B                            46.0   \n",
       "1                    Hard rock                            24.1   \n",
       "2             Progressive rock                            24.2   \n",
       "3    Soundtrack/R&B, soul, pop                            26.1   \n",
       "4  Hard rock, Progressive rock                            20.6   \n",
       "5   Rock, soft rock, folk rock                            32.2   \n",
       "6                        Disco                            20.6   \n",
       "7                    Soft rock                            27.9   \n",
       "\n",
       "   Claimed Sales (millions) Released Sountracks  Rating(friends)  \n",
       "0                        65           30-Nov-82             10.0  \n",
       "1                        50           25-Jul-80              8.5  \n",
       "2                        45           01-Mar-73              9.5  \n",
       "3                        50        25-Jul-80  Y              7.0  \n",
       "4                        43           21-Oct-77              7.0  \n",
       "5                        42           17-Feb-76              9.5  \n",
       "6                        40        15-Nov-77  Y              9.0  \n",
       "7                        40           04-Feb-77              9.5  "
      ]
     },
     "execution_count": 18,
     "metadata": {},
     "output_type": "execute_result"
    }
   ],
   "source": [
    "df"
   ]
  },
  {
   "cell_type": "code",
   "execution_count": 19,
   "id": "d954361b",
   "metadata": {},
   "outputs": [
    {
     "data": {
      "text/html": [
       "<div>\n",
       "<style scoped>\n",
       "    .dataframe tbody tr th:only-of-type {\n",
       "        vertical-align: middle;\n",
       "    }\n",
       "\n",
       "    .dataframe tbody tr th {\n",
       "        vertical-align: top;\n",
       "    }\n",
       "\n",
       "    .dataframe thead th {\n",
       "        text-align: right;\n",
       "    }\n",
       "</style>\n",
       "<table border=\"1\" class=\"dataframe\">\n",
       "  <thead>\n",
       "    <tr style=\"text-align: right;\">\n",
       "      <th></th>\n",
       "      <th>Artist</th>\n",
       "      <th>Album</th>\n",
       "      <th>Released</th>\n",
       "      <th>Length</th>\n",
       "      <th>Genre</th>\n",
       "      <th>Music Recoding Sales(millions)</th>\n",
       "      <th>Claimed Sales (millions)</th>\n",
       "      <th>Released Sountracks</th>\n",
       "      <th>Rating(friends)</th>\n",
       "    </tr>\n",
       "  </thead>\n",
       "  <tbody>\n",
       "    <tr>\n",
       "      <th>0</th>\n",
       "      <td>Michael Jackson</td>\n",
       "      <td>Thriller</td>\n",
       "      <td>1982</td>\n",
       "      <td>00:42:19</td>\n",
       "      <td>Pop, rock, R&amp;B</td>\n",
       "      <td>46.0</td>\n",
       "      <td>65</td>\n",
       "      <td>30-Nov-82</td>\n",
       "      <td>10.0</td>\n",
       "    </tr>\n",
       "    <tr>\n",
       "      <th>1</th>\n",
       "      <td>AC/DC</td>\n",
       "      <td>Back in Black</td>\n",
       "      <td>1980</td>\n",
       "      <td>00:42:11</td>\n",
       "      <td>Hard rock</td>\n",
       "      <td>24.1</td>\n",
       "      <td>50</td>\n",
       "      <td>25-Jul-80</td>\n",
       "      <td>8.5</td>\n",
       "    </tr>\n",
       "    <tr>\n",
       "      <th>2</th>\n",
       "      <td>Pink Floyd</td>\n",
       "      <td>The Dark side of the Moon</td>\n",
       "      <td>1973</td>\n",
       "      <td>00:42:49</td>\n",
       "      <td>Progressive rock</td>\n",
       "      <td>24.2</td>\n",
       "      <td>45</td>\n",
       "      <td>01-Mar-73</td>\n",
       "      <td>9.5</td>\n",
       "    </tr>\n",
       "    <tr>\n",
       "      <th>3</th>\n",
       "      <td>Whitney Houston</td>\n",
       "      <td>The Bodyguard</td>\n",
       "      <td>1992</td>\n",
       "      <td>00:57:44</td>\n",
       "      <td>Soundtrack/R&amp;B, soul, pop</td>\n",
       "      <td>26.1</td>\n",
       "      <td>50</td>\n",
       "      <td>25-Jul-80  Y</td>\n",
       "      <td>7.0</td>\n",
       "    </tr>\n",
       "    <tr>\n",
       "      <th>4</th>\n",
       "      <td>Meat Loaf</td>\n",
       "      <td>Bat out of hell</td>\n",
       "      <td>1977</td>\n",
       "      <td>00:46:33</td>\n",
       "      <td>Hard rock, Progressive rock</td>\n",
       "      <td>20.6</td>\n",
       "      <td>43</td>\n",
       "      <td>21-Oct-77</td>\n",
       "      <td>7.0</td>\n",
       "    </tr>\n",
       "  </tbody>\n",
       "</table>\n",
       "</div>"
      ],
      "text/plain": [
       "            Artist                      Album  Released    Length  \\\n",
       "0  Michael Jackson                   Thriller      1982  00:42:19   \n",
       "1            AC/DC              Back in Black      1980  00:42:11   \n",
       "2       Pink Floyd  The Dark side of the Moon      1973  00:42:49   \n",
       "3  Whitney Houston              The Bodyguard      1992  00:57:44   \n",
       "4        Meat Loaf            Bat out of hell      1977  00:46:33   \n",
       "\n",
       "                         Genre  Music Recoding Sales(millions)  \\\n",
       "0               Pop, rock, R&B                            46.0   \n",
       "1                    Hard rock                            24.1   \n",
       "2             Progressive rock                            24.2   \n",
       "3    Soundtrack/R&B, soul, pop                            26.1   \n",
       "4  Hard rock, Progressive rock                            20.6   \n",
       "\n",
       "   Claimed Sales (millions) Released Sountracks  Rating(friends)  \n",
       "0                        65           30-Nov-82             10.0  \n",
       "1                        50           25-Jul-80              8.5  \n",
       "2                        45           01-Mar-73              9.5  \n",
       "3                        50        25-Jul-80  Y              7.0  \n",
       "4                        43           21-Oct-77              7.0  "
      ]
     },
     "execution_count": 19,
     "metadata": {},
     "output_type": "execute_result"
    }
   ],
   "source": [
    "df.head()"
   ]
  },
  {
   "cell_type": "code",
   "execution_count": 20,
   "id": "ce189ba7",
   "metadata": {},
   "outputs": [
    {
     "data": {
      "text/html": [
       "<div>\n",
       "<style scoped>\n",
       "    .dataframe tbody tr th:only-of-type {\n",
       "        vertical-align: middle;\n",
       "    }\n",
       "\n",
       "    .dataframe tbody tr th {\n",
       "        vertical-align: top;\n",
       "    }\n",
       "\n",
       "    .dataframe thead th {\n",
       "        text-align: right;\n",
       "    }\n",
       "</style>\n",
       "<table border=\"1\" class=\"dataframe\">\n",
       "  <thead>\n",
       "    <tr style=\"text-align: right;\">\n",
       "      <th></th>\n",
       "      <th>Artist</th>\n",
       "      <th>Album</th>\n",
       "      <th>Released</th>\n",
       "      <th>Length</th>\n",
       "      <th>Genre</th>\n",
       "      <th>Music Recoding Sales(millions)</th>\n",
       "      <th>Claimed Sales (millions)</th>\n",
       "      <th>Released Sountracks</th>\n",
       "      <th>Rating(friends)</th>\n",
       "    </tr>\n",
       "  </thead>\n",
       "  <tbody>\n",
       "    <tr>\n",
       "      <th>3</th>\n",
       "      <td>Whitney Houston</td>\n",
       "      <td>The Bodyguard</td>\n",
       "      <td>1992</td>\n",
       "      <td>00:57:44</td>\n",
       "      <td>Soundtrack/R&amp;B, soul, pop</td>\n",
       "      <td>26.1</td>\n",
       "      <td>50</td>\n",
       "      <td>25-Jul-80  Y</td>\n",
       "      <td>7.0</td>\n",
       "    </tr>\n",
       "    <tr>\n",
       "      <th>4</th>\n",
       "      <td>Meat Loaf</td>\n",
       "      <td>Bat out of hell</td>\n",
       "      <td>1977</td>\n",
       "      <td>00:46:33</td>\n",
       "      <td>Hard rock, Progressive rock</td>\n",
       "      <td>20.6</td>\n",
       "      <td>43</td>\n",
       "      <td>21-Oct-77</td>\n",
       "      <td>7.0</td>\n",
       "    </tr>\n",
       "    <tr>\n",
       "      <th>5</th>\n",
       "      <td>Eagles</td>\n",
       "      <td>Their Greatest Hits (1971-1975)</td>\n",
       "      <td>1976</td>\n",
       "      <td>00:43:08</td>\n",
       "      <td>Rock, soft rock, folk rock</td>\n",
       "      <td>32.2</td>\n",
       "      <td>42</td>\n",
       "      <td>17-Feb-76</td>\n",
       "      <td>9.5</td>\n",
       "    </tr>\n",
       "    <tr>\n",
       "      <th>6</th>\n",
       "      <td>Bee Gees</td>\n",
       "      <td>Saturday Night Fever</td>\n",
       "      <td>1977</td>\n",
       "      <td>1:15:54</td>\n",
       "      <td>Disco</td>\n",
       "      <td>20.6</td>\n",
       "      <td>40</td>\n",
       "      <td>15-Nov-77  Y</td>\n",
       "      <td>9.0</td>\n",
       "    </tr>\n",
       "    <tr>\n",
       "      <th>7</th>\n",
       "      <td>Fleetwood Mac</td>\n",
       "      <td>Rumours</td>\n",
       "      <td>1977</td>\n",
       "      <td>00:40:01</td>\n",
       "      <td>Soft rock</td>\n",
       "      <td>27.9</td>\n",
       "      <td>40</td>\n",
       "      <td>04-Feb-77</td>\n",
       "      <td>9.5</td>\n",
       "    </tr>\n",
       "  </tbody>\n",
       "</table>\n",
       "</div>"
      ],
      "text/plain": [
       "            Artist                            Album  Released    Length  \\\n",
       "3  Whitney Houston                    The Bodyguard      1992  00:57:44   \n",
       "4        Meat Loaf                  Bat out of hell      1977  00:46:33   \n",
       "5           Eagles  Their Greatest Hits (1971-1975)      1976  00:43:08   \n",
       "6         Bee Gees             Saturday Night Fever      1977   1:15:54   \n",
       "7    Fleetwood Mac                          Rumours      1977  00:40:01   \n",
       "\n",
       "                         Genre  Music Recoding Sales(millions)  \\\n",
       "3    Soundtrack/R&B, soul, pop                            26.1   \n",
       "4  Hard rock, Progressive rock                            20.6   \n",
       "5   Rock, soft rock, folk rock                            32.2   \n",
       "6                        Disco                            20.6   \n",
       "7                    Soft rock                            27.9   \n",
       "\n",
       "   Claimed Sales (millions) Released Sountracks  Rating(friends)  \n",
       "3                        50        25-Jul-80  Y              7.0  \n",
       "4                        43           21-Oct-77              7.0  \n",
       "5                        42           17-Feb-76              9.5  \n",
       "6                        40        15-Nov-77  Y              9.0  \n",
       "7                        40           04-Feb-77              9.5  "
      ]
     },
     "execution_count": 20,
     "metadata": {},
     "output_type": "execute_result"
    }
   ],
   "source": [
    "df.tail()"
   ]
  },
  {
   "cell_type": "code",
   "execution_count": 21,
   "id": "3b8d1028",
   "metadata": {},
   "outputs": [
    {
     "data": {
      "text/plain": [
       "(8, 9)"
      ]
     },
     "execution_count": 21,
     "metadata": {},
     "output_type": "execute_result"
    }
   ],
   "source": [
    "df.shape"
   ]
  },
  {
   "cell_type": "code",
   "execution_count": 24,
   "id": "7dc517d3",
   "metadata": {},
   "outputs": [],
   "source": [
    "x=df[['Length']]"
   ]
  },
  {
   "cell_type": "code",
   "execution_count": 25,
   "id": "25b213df",
   "metadata": {},
   "outputs": [
    {
     "data": {
      "text/html": [
       "<div>\n",
       "<style scoped>\n",
       "    .dataframe tbody tr th:only-of-type {\n",
       "        vertical-align: middle;\n",
       "    }\n",
       "\n",
       "    .dataframe tbody tr th {\n",
       "        vertical-align: top;\n",
       "    }\n",
       "\n",
       "    .dataframe thead th {\n",
       "        text-align: right;\n",
       "    }\n",
       "</style>\n",
       "<table border=\"1\" class=\"dataframe\">\n",
       "  <thead>\n",
       "    <tr style=\"text-align: right;\">\n",
       "      <th></th>\n",
       "      <th>Length</th>\n",
       "    </tr>\n",
       "  </thead>\n",
       "  <tbody>\n",
       "    <tr>\n",
       "      <th>0</th>\n",
       "      <td>00:42:19</td>\n",
       "    </tr>\n",
       "    <tr>\n",
       "      <th>1</th>\n",
       "      <td>00:42:11</td>\n",
       "    </tr>\n",
       "    <tr>\n",
       "      <th>2</th>\n",
       "      <td>00:42:49</td>\n",
       "    </tr>\n",
       "    <tr>\n",
       "      <th>3</th>\n",
       "      <td>00:57:44</td>\n",
       "    </tr>\n",
       "    <tr>\n",
       "      <th>4</th>\n",
       "      <td>00:46:33</td>\n",
       "    </tr>\n",
       "    <tr>\n",
       "      <th>5</th>\n",
       "      <td>00:43:08</td>\n",
       "    </tr>\n",
       "    <tr>\n",
       "      <th>6</th>\n",
       "      <td>1:15:54</td>\n",
       "    </tr>\n",
       "    <tr>\n",
       "      <th>7</th>\n",
       "      <td>00:40:01</td>\n",
       "    </tr>\n",
       "  </tbody>\n",
       "</table>\n",
       "</div>"
      ],
      "text/plain": [
       "     Length\n",
       "0  00:42:19\n",
       "1  00:42:11\n",
       "2  00:42:49\n",
       "3  00:57:44\n",
       "4  00:46:33\n",
       "5  00:43:08\n",
       "6   1:15:54\n",
       "7  00:40:01"
      ]
     },
     "execution_count": 25,
     "metadata": {},
     "output_type": "execute_result"
    }
   ],
   "source": [
    "x"
   ]
  },
  {
   "cell_type": "code",
   "execution_count": 26,
   "id": "8e5c7aaa",
   "metadata": {},
   "outputs": [],
   "source": [
    "x=df['Length']"
   ]
  },
  {
   "cell_type": "code",
   "execution_count": 27,
   "id": "3d8916ee",
   "metadata": {},
   "outputs": [
    {
     "data": {
      "text/plain": [
       "0    00:42:19\n",
       "1    00:42:11\n",
       "2    00:42:49\n",
       "3    00:57:44\n",
       "4    00:46:33\n",
       "5    00:43:08\n",
       "6     1:15:54\n",
       "7    00:40:01\n",
       "Name: Length, dtype: object"
      ]
     },
     "execution_count": 27,
     "metadata": {},
     "output_type": "execute_result"
    }
   ],
   "source": [
    "x"
   ]
  },
  {
   "cell_type": "code",
   "execution_count": 28,
   "id": "42fc65b8",
   "metadata": {},
   "outputs": [],
   "source": [
    "x=df[['Artist']]"
   ]
  },
  {
   "cell_type": "code",
   "execution_count": 29,
   "id": "0da196f2",
   "metadata": {},
   "outputs": [
    {
     "data": {
      "text/html": [
       "<div>\n",
       "<style scoped>\n",
       "    .dataframe tbody tr th:only-of-type {\n",
       "        vertical-align: middle;\n",
       "    }\n",
       "\n",
       "    .dataframe tbody tr th {\n",
       "        vertical-align: top;\n",
       "    }\n",
       "\n",
       "    .dataframe thead th {\n",
       "        text-align: right;\n",
       "    }\n",
       "</style>\n",
       "<table border=\"1\" class=\"dataframe\">\n",
       "  <thead>\n",
       "    <tr style=\"text-align: right;\">\n",
       "      <th></th>\n",
       "      <th>Artist</th>\n",
       "    </tr>\n",
       "  </thead>\n",
       "  <tbody>\n",
       "    <tr>\n",
       "      <th>0</th>\n",
       "      <td>Michael Jackson</td>\n",
       "    </tr>\n",
       "    <tr>\n",
       "      <th>1</th>\n",
       "      <td>AC/DC</td>\n",
       "    </tr>\n",
       "    <tr>\n",
       "      <th>2</th>\n",
       "      <td>Pink Floyd</td>\n",
       "    </tr>\n",
       "    <tr>\n",
       "      <th>3</th>\n",
       "      <td>Whitney Houston</td>\n",
       "    </tr>\n",
       "    <tr>\n",
       "      <th>4</th>\n",
       "      <td>Meat Loaf</td>\n",
       "    </tr>\n",
       "    <tr>\n",
       "      <th>5</th>\n",
       "      <td>Eagles</td>\n",
       "    </tr>\n",
       "    <tr>\n",
       "      <th>6</th>\n",
       "      <td>Bee Gees</td>\n",
       "    </tr>\n",
       "    <tr>\n",
       "      <th>7</th>\n",
       "      <td>Fleetwood Mac</td>\n",
       "    </tr>\n",
       "  </tbody>\n",
       "</table>\n",
       "</div>"
      ],
      "text/plain": [
       "            Artist\n",
       "0  Michael Jackson\n",
       "1            AC/DC\n",
       "2       Pink Floyd\n",
       "3  Whitney Houston\n",
       "4        Meat Loaf\n",
       "5           Eagles\n",
       "6         Bee Gees\n",
       "7    Fleetwood Mac"
      ]
     },
     "execution_count": 29,
     "metadata": {},
     "output_type": "execute_result"
    }
   ],
   "source": [
    "x"
   ]
  },
  {
   "cell_type": "code",
   "execution_count": 30,
   "id": "9e5c92c8",
   "metadata": {},
   "outputs": [
    {
     "data": {
      "text/plain": [
       "pandas.core.frame.DataFrame"
      ]
     },
     "execution_count": 30,
     "metadata": {},
     "output_type": "execute_result"
    }
   ],
   "source": [
    "type(x)"
   ]
  },
  {
   "cell_type": "code",
   "execution_count": 31,
   "id": "6a10eb91",
   "metadata": {},
   "outputs": [],
   "source": [
    "y=df[['Artist', 'Length', 'Genre']]"
   ]
  },
  {
   "cell_type": "code",
   "execution_count": 32,
   "id": "91195c9b",
   "metadata": {},
   "outputs": [
    {
     "data": {
      "text/html": [
       "<div>\n",
       "<style scoped>\n",
       "    .dataframe tbody tr th:only-of-type {\n",
       "        vertical-align: middle;\n",
       "    }\n",
       "\n",
       "    .dataframe tbody tr th {\n",
       "        vertical-align: top;\n",
       "    }\n",
       "\n",
       "    .dataframe thead th {\n",
       "        text-align: right;\n",
       "    }\n",
       "</style>\n",
       "<table border=\"1\" class=\"dataframe\">\n",
       "  <thead>\n",
       "    <tr style=\"text-align: right;\">\n",
       "      <th></th>\n",
       "      <th>Artist</th>\n",
       "      <th>Length</th>\n",
       "      <th>Genre</th>\n",
       "    </tr>\n",
       "  </thead>\n",
       "  <tbody>\n",
       "    <tr>\n",
       "      <th>0</th>\n",
       "      <td>Michael Jackson</td>\n",
       "      <td>00:42:19</td>\n",
       "      <td>Pop, rock, R&amp;B</td>\n",
       "    </tr>\n",
       "    <tr>\n",
       "      <th>1</th>\n",
       "      <td>AC/DC</td>\n",
       "      <td>00:42:11</td>\n",
       "      <td>Hard rock</td>\n",
       "    </tr>\n",
       "    <tr>\n",
       "      <th>2</th>\n",
       "      <td>Pink Floyd</td>\n",
       "      <td>00:42:49</td>\n",
       "      <td>Progressive rock</td>\n",
       "    </tr>\n",
       "    <tr>\n",
       "      <th>3</th>\n",
       "      <td>Whitney Houston</td>\n",
       "      <td>00:57:44</td>\n",
       "      <td>Soundtrack/R&amp;B, soul, pop</td>\n",
       "    </tr>\n",
       "    <tr>\n",
       "      <th>4</th>\n",
       "      <td>Meat Loaf</td>\n",
       "      <td>00:46:33</td>\n",
       "      <td>Hard rock, Progressive rock</td>\n",
       "    </tr>\n",
       "    <tr>\n",
       "      <th>5</th>\n",
       "      <td>Eagles</td>\n",
       "      <td>00:43:08</td>\n",
       "      <td>Rock, soft rock, folk rock</td>\n",
       "    </tr>\n",
       "    <tr>\n",
       "      <th>6</th>\n",
       "      <td>Bee Gees</td>\n",
       "      <td>1:15:54</td>\n",
       "      <td>Disco</td>\n",
       "    </tr>\n",
       "    <tr>\n",
       "      <th>7</th>\n",
       "      <td>Fleetwood Mac</td>\n",
       "      <td>00:40:01</td>\n",
       "      <td>Soft rock</td>\n",
       "    </tr>\n",
       "  </tbody>\n",
       "</table>\n",
       "</div>"
      ],
      "text/plain": [
       "            Artist    Length                        Genre\n",
       "0  Michael Jackson  00:42:19               Pop, rock, R&B\n",
       "1            AC/DC  00:42:11                    Hard rock\n",
       "2       Pink Floyd  00:42:49             Progressive rock\n",
       "3  Whitney Houston  00:57:44    Soundtrack/R&B, soul, pop\n",
       "4        Meat Loaf  00:46:33  Hard rock, Progressive rock\n",
       "5           Eagles  00:43:08   Rock, soft rock, folk rock\n",
       "6         Bee Gees   1:15:54                        Disco\n",
       "7    Fleetwood Mac  00:40:01                    Soft rock"
      ]
     },
     "execution_count": 32,
     "metadata": {},
     "output_type": "execute_result"
    }
   ],
   "source": [
    "y"
   ]
  },
  {
   "cell_type": "code",
   "execution_count": 34,
   "id": "79881761",
   "metadata": {},
   "outputs": [
    {
     "data": {
      "text/plain": [
       "'Michael Jackson'"
      ]
     },
     "execution_count": 34,
     "metadata": {},
     "output_type": "execute_result"
    }
   ],
   "source": [
    "df.iloc[0, 0]"
   ]
  },
  {
   "cell_type": "code",
   "execution_count": 35,
   "id": "89e9e2f3",
   "metadata": {},
   "outputs": [
    {
     "data": {
      "text/plain": [
       "'AC/DC'"
      ]
     },
     "execution_count": 35,
     "metadata": {},
     "output_type": "execute_result"
    }
   ],
   "source": [
    "df.iloc[1, 0]"
   ]
  },
  {
   "cell_type": "code",
   "execution_count": 36,
   "id": "ca59a362",
   "metadata": {},
   "outputs": [
    {
     "data": {
      "text/plain": [
       "24.2"
      ]
     },
     "execution_count": 36,
     "metadata": {},
     "output_type": "execute_result"
    }
   ],
   "source": [
    "df.iloc[2, 5]"
   ]
  },
  {
   "cell_type": "code",
   "execution_count": 37,
   "id": "8dd07eec",
   "metadata": {},
   "outputs": [
    {
     "data": {
      "text/plain": [
       "1980"
      ]
     },
     "execution_count": 37,
     "metadata": {},
     "output_type": "execute_result"
    }
   ],
   "source": [
    "df.iloc[1, 2]"
   ]
  },
  {
   "cell_type": "code",
   "execution_count": 38,
   "id": "6389b271",
   "metadata": {},
   "outputs": [
    {
     "data": {
      "text/plain": [
       "1982"
      ]
     },
     "execution_count": 38,
     "metadata": {},
     "output_type": "execute_result"
    }
   ],
   "source": [
    "df.iloc[0, 2]"
   ]
  },
  {
   "cell_type": "code",
   "execution_count": 39,
   "id": "09f897cb",
   "metadata": {},
   "outputs": [
    {
     "data": {
      "text/plain": [
       "'Pink Floyd'"
      ]
     },
     "execution_count": 39,
     "metadata": {},
     "output_type": "execute_result"
    }
   ],
   "source": [
    "df.iloc[2, 0]"
   ]
  },
  {
   "cell_type": "code",
   "execution_count": 40,
   "id": "e0b6445c",
   "metadata": {},
   "outputs": [
    {
     "data": {
      "text/plain": [
       "'AC/DC'"
      ]
     },
     "execution_count": 40,
     "metadata": {},
     "output_type": "execute_result"
    }
   ],
   "source": [
    "df.loc[1, 'Artist']"
   ]
  },
  {
   "cell_type": "code",
   "execution_count": 41,
   "id": "88937aff",
   "metadata": {},
   "outputs": [
    {
     "data": {
      "text/plain": [
       "1982"
      ]
     },
     "execution_count": 41,
     "metadata": {},
     "output_type": "execute_result"
    }
   ],
   "source": [
    "df.loc[0, 'Released']"
   ]
  },
  {
   "cell_type": "code",
   "execution_count": 42,
   "id": "d261f6cc",
   "metadata": {},
   "outputs": [
    {
     "data": {
      "text/html": [
       "<div>\n",
       "<style scoped>\n",
       "    .dataframe tbody tr th:only-of-type {\n",
       "        vertical-align: middle;\n",
       "    }\n",
       "\n",
       "    .dataframe tbody tr th {\n",
       "        vertical-align: top;\n",
       "    }\n",
       "\n",
       "    .dataframe thead th {\n",
       "        text-align: right;\n",
       "    }\n",
       "</style>\n",
       "<table border=\"1\" class=\"dataframe\">\n",
       "  <thead>\n",
       "    <tr style=\"text-align: right;\">\n",
       "      <th></th>\n",
       "      <th>Artist</th>\n",
       "      <th>Album</th>\n",
       "      <th>Released</th>\n",
       "    </tr>\n",
       "  </thead>\n",
       "  <tbody>\n",
       "    <tr>\n",
       "      <th>0</th>\n",
       "      <td>Michael Jackson</td>\n",
       "      <td>Thriller</td>\n",
       "      <td>1982</td>\n",
       "    </tr>\n",
       "    <tr>\n",
       "      <th>1</th>\n",
       "      <td>AC/DC</td>\n",
       "      <td>Back in Black</td>\n",
       "      <td>1980</td>\n",
       "    </tr>\n",
       "  </tbody>\n",
       "</table>\n",
       "</div>"
      ],
      "text/plain": [
       "            Artist          Album  Released\n",
       "0  Michael Jackson       Thriller      1982\n",
       "1            AC/DC  Back in Black      1980"
      ]
     },
     "execution_count": 42,
     "metadata": {},
     "output_type": "execute_result"
    }
   ],
   "source": [
    "df.iloc[0:2, 0:3]"
   ]
  },
  {
   "cell_type": "code",
   "execution_count": 43,
   "id": "07285603",
   "metadata": {},
   "outputs": [
    {
     "data": {
      "text/html": [
       "<div>\n",
       "<style scoped>\n",
       "    .dataframe tbody tr th:only-of-type {\n",
       "        vertical-align: middle;\n",
       "    }\n",
       "\n",
       "    .dataframe tbody tr th {\n",
       "        vertical-align: top;\n",
       "    }\n",
       "\n",
       "    .dataframe thead th {\n",
       "        text-align: right;\n",
       "    }\n",
       "</style>\n",
       "<table border=\"1\" class=\"dataframe\">\n",
       "  <thead>\n",
       "    <tr style=\"text-align: right;\">\n",
       "      <th></th>\n",
       "      <th>Artist</th>\n",
       "      <th>Album</th>\n",
       "      <th>Released</th>\n",
       "      <th>Length</th>\n",
       "      <th>Genre</th>\n",
       "      <th>Music Recoding Sales(millions)</th>\n",
       "      <th>Claimed Sales (millions)</th>\n",
       "      <th>Released Sountracks</th>\n",
       "      <th>Rating(friends)</th>\n",
       "    </tr>\n",
       "  </thead>\n",
       "  <tbody>\n",
       "    <tr>\n",
       "      <th>0</th>\n",
       "      <td>Michael Jackson</td>\n",
       "      <td>Thriller</td>\n",
       "      <td>1982</td>\n",
       "      <td>00:42:19</td>\n",
       "      <td>Pop, rock, R&amp;B</td>\n",
       "      <td>46.0</td>\n",
       "      <td>65</td>\n",
       "      <td>30-Nov-82</td>\n",
       "      <td>10.0</td>\n",
       "    </tr>\n",
       "    <tr>\n",
       "      <th>1</th>\n",
       "      <td>AC/DC</td>\n",
       "      <td>Back in Black</td>\n",
       "      <td>1980</td>\n",
       "      <td>00:42:11</td>\n",
       "      <td>Hard rock</td>\n",
       "      <td>24.1</td>\n",
       "      <td>50</td>\n",
       "      <td>25-Jul-80</td>\n",
       "      <td>8.5</td>\n",
       "    </tr>\n",
       "  </tbody>\n",
       "</table>\n",
       "</div>"
      ],
      "text/plain": [
       "            Artist          Album  Released    Length           Genre  \\\n",
       "0  Michael Jackson       Thriller      1982  00:42:19  Pop, rock, R&B   \n",
       "1            AC/DC  Back in Black      1980  00:42:11       Hard rock   \n",
       "\n",
       "   Music Recoding Sales(millions)  Claimed Sales (millions)  \\\n",
       "0                            46.0                        65   \n",
       "1                            24.1                        50   \n",
       "\n",
       "  Released Sountracks  Rating(friends)  \n",
       "0           30-Nov-82             10.0  \n",
       "1           25-Jul-80              8.5  "
      ]
     },
     "execution_count": 43,
     "metadata": {},
     "output_type": "execute_result"
    }
   ],
   "source": [
    "df.iloc[0:2]"
   ]
  },
  {
   "cell_type": "code",
   "execution_count": 46,
   "id": "5040e0a0",
   "metadata": {},
   "outputs": [
    {
     "data": {
      "text/html": [
       "<div>\n",
       "<style scoped>\n",
       "    .dataframe tbody tr th:only-of-type {\n",
       "        vertical-align: middle;\n",
       "    }\n",
       "\n",
       "    .dataframe tbody tr th {\n",
       "        vertical-align: top;\n",
       "    }\n",
       "\n",
       "    .dataframe thead th {\n",
       "        text-align: right;\n",
       "    }\n",
       "</style>\n",
       "<table border=\"1\" class=\"dataframe\">\n",
       "  <thead>\n",
       "    <tr style=\"text-align: right;\">\n",
       "      <th></th>\n",
       "      <th>Artist</th>\n",
       "      <th>Album</th>\n",
       "      <th>Released</th>\n",
       "    </tr>\n",
       "  </thead>\n",
       "  <tbody>\n",
       "    <tr>\n",
       "      <th>0</th>\n",
       "      <td>Michael Jackson</td>\n",
       "      <td>Thriller</td>\n",
       "      <td>1982</td>\n",
       "    </tr>\n",
       "    <tr>\n",
       "      <th>1</th>\n",
       "      <td>AC/DC</td>\n",
       "      <td>Back in Black</td>\n",
       "      <td>1980</td>\n",
       "    </tr>\n",
       "    <tr>\n",
       "      <th>2</th>\n",
       "      <td>Pink Floyd</td>\n",
       "      <td>The Dark side of the Moon</td>\n",
       "      <td>1973</td>\n",
       "    </tr>\n",
       "  </tbody>\n",
       "</table>\n",
       "</div>"
      ],
      "text/plain": [
       "            Artist                      Album  Released\n",
       "0  Michael Jackson                   Thriller      1982\n",
       "1            AC/DC              Back in Black      1980\n",
       "2       Pink Floyd  The Dark side of the Moon      1973"
      ]
     },
     "execution_count": 46,
     "metadata": {},
     "output_type": "execute_result"
    }
   ],
   "source": [
    "df.loc[0:2, 'Artist': 'Released']"
   ]
  },
  {
   "cell_type": "code",
   "execution_count": 48,
   "id": "0aaa0c15",
   "metadata": {},
   "outputs": [],
   "source": [
    "q=df[['Rating(friends)']]"
   ]
  },
  {
   "cell_type": "code",
   "execution_count": 49,
   "id": "8d0be545",
   "metadata": {},
   "outputs": [
    {
     "data": {
      "text/html": [
       "<div>\n",
       "<style scoped>\n",
       "    .dataframe tbody tr th:only-of-type {\n",
       "        vertical-align: middle;\n",
       "    }\n",
       "\n",
       "    .dataframe tbody tr th {\n",
       "        vertical-align: top;\n",
       "    }\n",
       "\n",
       "    .dataframe thead th {\n",
       "        text-align: right;\n",
       "    }\n",
       "</style>\n",
       "<table border=\"1\" class=\"dataframe\">\n",
       "  <thead>\n",
       "    <tr style=\"text-align: right;\">\n",
       "      <th></th>\n",
       "      <th>Rating(friends)</th>\n",
       "    </tr>\n",
       "  </thead>\n",
       "  <tbody>\n",
       "    <tr>\n",
       "      <th>0</th>\n",
       "      <td>10.0</td>\n",
       "    </tr>\n",
       "    <tr>\n",
       "      <th>1</th>\n",
       "      <td>8.5</td>\n",
       "    </tr>\n",
       "    <tr>\n",
       "      <th>2</th>\n",
       "      <td>9.5</td>\n",
       "    </tr>\n",
       "    <tr>\n",
       "      <th>3</th>\n",
       "      <td>7.0</td>\n",
       "    </tr>\n",
       "    <tr>\n",
       "      <th>4</th>\n",
       "      <td>7.0</td>\n",
       "    </tr>\n",
       "    <tr>\n",
       "      <th>5</th>\n",
       "      <td>9.5</td>\n",
       "    </tr>\n",
       "    <tr>\n",
       "      <th>6</th>\n",
       "      <td>9.0</td>\n",
       "    </tr>\n",
       "    <tr>\n",
       "      <th>7</th>\n",
       "      <td>9.5</td>\n",
       "    </tr>\n",
       "  </tbody>\n",
       "</table>\n",
       "</div>"
      ],
      "text/plain": [
       "   Rating(friends)\n",
       "0             10.0\n",
       "1              8.5\n",
       "2              9.5\n",
       "3              7.0\n",
       "4              7.0\n",
       "5              9.5\n",
       "6              9.0\n",
       "7              9.5"
      ]
     },
     "execution_count": 49,
     "metadata": {},
     "output_type": "execute_result"
    }
   ],
   "source": [
    "q"
   ]
  },
  {
   "cell_type": "code",
   "execution_count": 55,
   "id": "be49f298",
   "metadata": {},
   "outputs": [],
   "source": [
    "q=df[[\"Released\",'Artist']]"
   ]
  },
  {
   "cell_type": "code",
   "execution_count": 56,
   "id": "93e45241",
   "metadata": {},
   "outputs": [
    {
     "data": {
      "text/html": [
       "<div>\n",
       "<style scoped>\n",
       "    .dataframe tbody tr th:only-of-type {\n",
       "        vertical-align: middle;\n",
       "    }\n",
       "\n",
       "    .dataframe tbody tr th {\n",
       "        vertical-align: top;\n",
       "    }\n",
       "\n",
       "    .dataframe thead th {\n",
       "        text-align: right;\n",
       "    }\n",
       "</style>\n",
       "<table border=\"1\" class=\"dataframe\">\n",
       "  <thead>\n",
       "    <tr style=\"text-align: right;\">\n",
       "      <th></th>\n",
       "      <th>Released</th>\n",
       "      <th>Artist</th>\n",
       "    </tr>\n",
       "  </thead>\n",
       "  <tbody>\n",
       "    <tr>\n",
       "      <th>0</th>\n",
       "      <td>1982</td>\n",
       "      <td>Michael Jackson</td>\n",
       "    </tr>\n",
       "    <tr>\n",
       "      <th>1</th>\n",
       "      <td>1980</td>\n",
       "      <td>AC/DC</td>\n",
       "    </tr>\n",
       "    <tr>\n",
       "      <th>2</th>\n",
       "      <td>1973</td>\n",
       "      <td>Pink Floyd</td>\n",
       "    </tr>\n",
       "    <tr>\n",
       "      <th>3</th>\n",
       "      <td>1992</td>\n",
       "      <td>Whitney Houston</td>\n",
       "    </tr>\n",
       "    <tr>\n",
       "      <th>4</th>\n",
       "      <td>1977</td>\n",
       "      <td>Meat Loaf</td>\n",
       "    </tr>\n",
       "    <tr>\n",
       "      <th>5</th>\n",
       "      <td>1976</td>\n",
       "      <td>Eagles</td>\n",
       "    </tr>\n",
       "    <tr>\n",
       "      <th>6</th>\n",
       "      <td>1977</td>\n",
       "      <td>Bee Gees</td>\n",
       "    </tr>\n",
       "    <tr>\n",
       "      <th>7</th>\n",
       "      <td>1977</td>\n",
       "      <td>Fleetwood Mac</td>\n",
       "    </tr>\n",
       "  </tbody>\n",
       "</table>\n",
       "</div>"
      ],
      "text/plain": [
       "   Released           Artist\n",
       "0      1982  Michael Jackson\n",
       "1      1980            AC/DC\n",
       "2      1973       Pink Floyd\n",
       "3      1992  Whitney Houston\n",
       "4      1977        Meat Loaf\n",
       "5      1976           Eagles\n",
       "6      1977         Bee Gees\n",
       "7      1977    Fleetwood Mac"
      ]
     },
     "execution_count": 56,
     "metadata": {},
     "output_type": "execute_result"
    }
   ],
   "source": [
    "q"
   ]
  },
  {
   "cell_type": "code",
   "execution_count": 58,
   "id": "9335a165",
   "metadata": {},
   "outputs": [
    {
     "data": {
      "text/plain": [
       "1980"
      ]
     },
     "execution_count": 58,
     "metadata": {},
     "output_type": "execute_result"
    }
   ],
   "source": [
    "df.iloc[1, 2]"
   ]
  },
  {
   "cell_type": "code",
   "execution_count": 59,
   "id": "44d014f7",
   "metadata": {},
   "outputs": [],
   "source": [
    "new_index=['a', 'b', 'c', 'd', 'e', 'f', 'g', 'h']"
   ]
  },
  {
   "cell_type": "code",
   "execution_count": 60,
   "id": "f342f2a4",
   "metadata": {},
   "outputs": [
    {
     "data": {
      "text/plain": [
       "['a', 'b', 'c', 'd', 'e', 'f', 'g', 'h']"
      ]
     },
     "execution_count": 60,
     "metadata": {},
     "output_type": "execute_result"
    }
   ],
   "source": [
    "new_index"
   ]
  },
  {
   "cell_type": "code",
   "execution_count": 62,
   "id": "f36598ed",
   "metadata": {},
   "outputs": [],
   "source": [
    "df_new=df"
   ]
  },
  {
   "cell_type": "code",
   "execution_count": 63,
   "id": "be5e8ed7",
   "metadata": {},
   "outputs": [],
   "source": [
    "df_new.index=new_index"
   ]
  },
  {
   "cell_type": "code",
   "execution_count": 64,
   "id": "0b85fbf0",
   "metadata": {},
   "outputs": [
    {
     "data": {
      "text/plain": [
       "'Michael Jackson'"
      ]
     },
     "execution_count": 64,
     "metadata": {},
     "output_type": "execute_result"
    }
   ],
   "source": [
    "df_new.loc['a', 'Artist']"
   ]
  },
  {
   "cell_type": "code",
   "execution_count": 65,
   "id": "7567e13e",
   "metadata": {},
   "outputs": [
    {
     "data": {
      "text/plain": [
       "a    Michael Jackson\n",
       "b              AC/DC\n",
       "c         Pink Floyd\n",
       "d    Whitney Houston\n",
       "Name: Artist, dtype: object"
      ]
     },
     "execution_count": 65,
     "metadata": {},
     "output_type": "execute_result"
    }
   ],
   "source": [
    "df_new.loc['a':'d', 'Artist']"
   ]
  },
  {
   "cell_type": "code",
   "execution_count": 66,
   "id": "557ef276",
   "metadata": {},
   "outputs": [],
   "source": [
    "import pandas as banana\n",
    "\n",
    "df=banana.DataFrame({'a':[11,21,31],'b':[21,22,23]})"
   ]
  },
  {
   "cell_type": "code",
   "execution_count": 67,
   "id": "1d6b009c",
   "metadata": {},
   "outputs": [
    {
     "data": {
      "text/html": [
       "<div>\n",
       "<style scoped>\n",
       "    .dataframe tbody tr th:only-of-type {\n",
       "        vertical-align: middle;\n",
       "    }\n",
       "\n",
       "    .dataframe tbody tr th {\n",
       "        vertical-align: top;\n",
       "    }\n",
       "\n",
       "    .dataframe thead th {\n",
       "        text-align: right;\n",
       "    }\n",
       "</style>\n",
       "<table border=\"1\" class=\"dataframe\">\n",
       "  <thead>\n",
       "    <tr style=\"text-align: right;\">\n",
       "      <th></th>\n",
       "      <th>a</th>\n",
       "      <th>b</th>\n",
       "    </tr>\n",
       "  </thead>\n",
       "  <tbody>\n",
       "    <tr>\n",
       "      <th>0</th>\n",
       "      <td>11</td>\n",
       "      <td>21</td>\n",
       "    </tr>\n",
       "    <tr>\n",
       "      <th>1</th>\n",
       "      <td>21</td>\n",
       "      <td>22</td>\n",
       "    </tr>\n",
       "    <tr>\n",
       "      <th>2</th>\n",
       "      <td>31</td>\n",
       "      <td>23</td>\n",
       "    </tr>\n",
       "  </tbody>\n",
       "</table>\n",
       "</div>"
      ],
      "text/plain": [
       "    a   b\n",
       "0  11  21\n",
       "1  21  22\n",
       "2  31  23"
      ]
     },
     "execution_count": 67,
     "metadata": {},
     "output_type": "execute_result"
    }
   ],
   "source": [
    "df.head()"
   ]
  },
  {
   "cell_type": "code",
   "execution_count": null,
   "id": "66cd73f5",
   "metadata": {},
   "outputs": [],
   "source": []
  }
 ],
 "metadata": {
  "kernelspec": {
   "display_name": "Python 3 (ipykernel)",
   "language": "python",
   "name": "python3"
  },
  "language_info": {
   "codemirror_mode": {
    "name": "ipython",
    "version": 3
   },
   "file_extension": ".py",
   "mimetype": "text/x-python",
   "name": "python",
   "nbconvert_exporter": "python",
   "pygments_lexer": "ipython3",
   "version": "3.10.9"
  }
 },
 "nbformat": 4,
 "nbformat_minor": 5
}
