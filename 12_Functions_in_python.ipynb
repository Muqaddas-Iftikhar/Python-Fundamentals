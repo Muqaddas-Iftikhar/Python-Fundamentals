{
 "cells": [
  {
   "cell_type": "markdown",
   "id": "da41977f",
   "metadata": {},
   "source": [
    "# Functions in Python:"
   ]
  },
  {
   "cell_type": "code",
   "execution_count": 1,
   "id": "6ec36ec1",
   "metadata": {},
   "outputs": [],
   "source": [
    "def f(a, b):\n",
    "    c=a*b\n",
    "    return c"
   ]
  },
  {
   "cell_type": "code",
   "execution_count": 4,
   "id": "45201b46",
   "metadata": {},
   "outputs": [
    {
     "name": "stdout",
     "output_type": "stream",
     "text": [
      "Correct.\n"
     ]
    }
   ],
   "source": [
    "a=4\n",
    "b=2\n",
    "if a*b==f(a,b):\n",
    "    print(\"Correct.\")\n",
    "else:\n",
    "          print(\"Incorrect.\")"
   ]
  },
  {
   "cell_type": "code",
   "execution_count": 5,
   "id": "6ff8b416",
   "metadata": {},
   "outputs": [],
   "source": [
    "def g(c):\n",
    "    return c"
   ]
  },
  {
   "cell_type": "code",
   "execution_count": 6,
   "id": "ff550ac1",
   "metadata": {},
   "outputs": [
    {
     "name": "stdout",
     "output_type": "stream",
     "text": [
      "Incorrect.\n"
     ]
    }
   ],
   "source": [
    "c=[1, 2, 3, 4, 5]\n",
    "if sum(c)==g(c):\n",
    "    print(\"Correct.\")\n",
    "else:\n",
    "    print(\"Incorrect.\")"
   ]
  },
  {
   "cell_type": "code",
   "execution_count": 9,
   "id": "656c5f0f",
   "metadata": {},
   "outputs": [
    {
     "name": "stdout",
     "output_type": "stream",
     "text": [
      "10\n"
     ]
    }
   ],
   "source": [
    "def f(*x):\n",
    "\n",
    "    return sum(x)\n",
    "result=f(1, 2, 3, 4)\n",
    "print(result)"
   ]
  },
  {
   "cell_type": "code",
   "execution_count": 13,
   "id": "f8725331",
   "metadata": {},
   "outputs": [
    {
     "name": "stdout",
     "output_type": "stream",
     "text": [
      "1 2\n",
      "2 3\n"
     ]
    },
    {
     "data": {
      "text/plain": [
       "3"
      ]
     },
     "execution_count": 13,
     "metadata": {},
     "output_type": "execute_result"
    }
   ],
   "source": [
    "def add(a):\n",
    "    b=a+1\n",
    "    print(a, b)\n",
    "    return b\n",
    "add(1)\n",
    "add(2)"
   ]
  },
  {
   "cell_type": "code",
   "execution_count": 12,
   "id": "545c0775",
   "metadata": {},
   "outputs": [
    {
     "name": "stdout",
     "output_type": "stream",
     "text": [
      "Help on function add in module __main__:\n",
      "\n",
      "add(a)\n",
      "\n"
     ]
    }
   ],
   "source": [
    "help(add)"
   ]
  },
  {
   "cell_type": "code",
   "execution_count": 21,
   "id": "1d16e59f",
   "metadata": {},
   "outputs": [
    {
     "name": "stdout",
     "output_type": "stream",
     "text": [
      "24\n",
      "6\n",
      "8.975\n",
      "Python Python \n"
     ]
    }
   ],
   "source": [
    "def multiply(a, b):\n",
    "    c=a*b\n",
    "    return c\n",
    "result=multiply(12, 2)\n",
    "result1=multiply(2, 3)\n",
    "result2=multiply(2.5, 3.59)\n",
    "result3=multiply(2, 'Python ')\n",
    "print(result)\n",
    "print(result1)\n",
    "print(result2)\n",
    "print(result3)"
   ]
  },
  {
   "cell_type": "code",
   "execution_count": 17,
   "id": "0f1b887b",
   "metadata": {},
   "outputs": [
    {
     "name": "stdout",
     "output_type": "stream",
     "text": [
      "24\n"
     ]
    }
   ],
   "source": [
    "a=12\n",
    "b=2\n",
    "c=a*b\n",
    "print(c)"
   ]
  },
  {
   "cell_type": "code",
   "execution_count": 22,
   "id": "88f0e38c",
   "metadata": {},
   "outputs": [],
   "source": [
    "def square(a):\n",
    "    b=1\n",
    "    c=a*a+b\n",
    "    print(a, 'if you square +1', c)\n",
    "    return c"
   ]
  },
  {
   "cell_type": "code",
   "execution_count": 24,
   "id": "3a2a7ab4",
   "metadata": {},
   "outputs": [
    {
     "name": "stdout",
     "output_type": "stream",
     "text": [
      "3 if you square +1 10\n",
      "2 if you square +1 5\n"
     ]
    },
    {
     "data": {
      "text/plain": [
       "5"
      ]
     },
     "execution_count": 24,
     "metadata": {},
     "output_type": "execute_result"
    }
   ],
   "source": [
    "x=3\n",
    "y=square(x)\n",
    "y\n",
    "square(2)"
   ]
  },
  {
   "cell_type": "code",
   "execution_count": 29,
   "id": "3cba0545",
   "metadata": {},
   "outputs": [
    {
     "name": "stdout",
     "output_type": "stream",
     "text": [
      "Michael JAkson\n",
      "Michael Jackson\n",
      "Michael JAkson\n",
      "None\n",
      "Michael Jackson\n",
      "None\n"
     ]
    }
   ],
   "source": [
    "def MJ():\n",
    "    print('Michael JAkson')\n",
    "def MJ1():\n",
    "    print('Michael Jackson')\n",
    "    return None\n",
    "MJ()\n",
    "MJ1()\n",
    "print(MJ())\n",
    "print(MJ1())"
   ]
  },
  {
   "cell_type": "code",
   "execution_count": 30,
   "id": "4cc67db0",
   "metadata": {},
   "outputs": [],
   "source": [
    "def concatenate(a, b):\n",
    "    sum=a+b\n",
    "    return sum"
   ]
  },
  {
   "cell_type": "code",
   "execution_count": 33,
   "id": "18893a1d",
   "metadata": {},
   "outputs": [
    {
     "name": "stdout",
     "output_type": "stream",
     "text": [
      "It's Python\n"
     ]
    }
   ],
   "source": [
    "total_sum=concatenate(\"It's\", \" Python\")\n",
    "print(total_sum)"
   ]
  },
  {
   "cell_type": "code",
   "execution_count": 34,
   "id": "4c52b5f1",
   "metadata": {},
   "outputs": [
    {
     "data": {
      "text/plain": [
       "5"
      ]
     },
     "execution_count": 34,
     "metadata": {},
     "output_type": "execute_result"
    }
   ],
   "source": [
    "a1=4\n",
    "b1=5\n",
    "c1=a1+b1+2*a1*b1-1\n",
    "if c1<0:\n",
    "    c1=0\n",
    "else:\n",
    "    c1=5\n",
    "c1    "
   ]
  },
  {
   "cell_type": "code",
   "execution_count": 35,
   "id": "a3eb8c79",
   "metadata": {},
   "outputs": [],
   "source": [
    "def Equation(a, b):\n",
    "    c=a+b+2*a*b-1\n",
    "    if c<0:\n",
    "        c=0\n",
    "    else:\n",
    "        c=5\n",
    "    return c    "
   ]
  },
  {
   "cell_type": "code",
   "execution_count": 37,
   "id": "65f961a6",
   "metadata": {},
   "outputs": [
    {
     "name": "stdout",
     "output_type": "stream",
     "text": [
      "5\n"
     ]
    }
   ],
   "source": [
    "a=4\n",
    "b=5\n",
    "c1=Equation(a, b)\n",
    "print(c1)"
   ]
  },
  {
   "cell_type": "code",
   "execution_count": 39,
   "id": "fb636787",
   "metadata": {},
   "outputs": [
    {
     "name": "stdout",
     "output_type": "stream",
     "text": [
      "[10.0, 8.5, 9.5, 7.0, 7.0, 9.0, 9.5]\n"
     ]
    }
   ],
   "source": [
    "album_ratings=[10.0, 8.5, 9.5, 7.0, 7.0, 9.0, 9.5]\n",
    "print(album_ratings)"
   ]
  },
  {
   "cell_type": "code",
   "execution_count": 40,
   "id": "1b48b1d5",
   "metadata": {},
   "outputs": [
    {
     "data": {
      "text/plain": [
       "60.5"
      ]
     },
     "execution_count": 40,
     "metadata": {},
     "output_type": "execute_result"
    }
   ],
   "source": [
    "sum(album_ratings)"
   ]
  },
  {
   "cell_type": "code",
   "execution_count": 41,
   "id": "a2e283e9",
   "metadata": {},
   "outputs": [
    {
     "data": {
      "text/plain": [
       "7"
      ]
     },
     "execution_count": 41,
     "metadata": {},
     "output_type": "execute_result"
    }
   ],
   "source": [
    "len(album_ratings)"
   ]
  },
  {
   "cell_type": "code",
   "execution_count": 47,
   "id": "0c4bfb2a",
   "metadata": {},
   "outputs": [
    {
     "name": "stdout",
     "output_type": "stream",
     "text": [
      "Michael Jackson Thriller 1980\n",
      "Oldie\n"
     ]
    }
   ],
   "source": [
    "def type_of_album(artist, album, year_released):\n",
    "    print(artist, album, year_released)\n",
    "    if year_released>1980:\n",
    "        return \"Modern\"\n",
    "    else:\n",
    "        return \"Oldie\"\n",
    "x=type_of_album(\"Michael Jackson\", \"Thriller\",  1980)\n",
    "print(x)"
   ]
  },
  {
   "cell_type": "code",
   "execution_count": 48,
   "id": "6e76b637",
   "metadata": {},
   "outputs": [],
   "source": [
    "def printList(the_list):\n",
    "    for element in the_list:\n",
    "        print(element)"
   ]
  },
  {
   "cell_type": "code",
   "execution_count": 49,
   "id": "750f000e",
   "metadata": {},
   "outputs": [
    {
     "name": "stdout",
     "output_type": "stream",
     "text": [
      "1\n",
      "1\n",
      "the man\n",
      "abc\n"
     ]
    }
   ],
   "source": [
    "printList(['1', 1, 'the man', 'abc'])"
   ]
  },
  {
   "cell_type": "code",
   "execution_count": 50,
   "id": "3111d825",
   "metadata": {},
   "outputs": [
    {
     "data": {
      "text/plain": [
       "'string matched'"
      ]
     },
     "execution_count": 50,
     "metadata": {},
     "output_type": "execute_result"
    }
   ],
   "source": [
    "string=\"Michael Jackson is the best\"\n",
    "def check_string(text):\n",
    "    if text in string:\n",
    "        return 'string matched'\n",
    "    else:\n",
    "        return 'string not matched'\n",
    "check_string(string)    "
   ]
  },
  {
   "cell_type": "code",
   "execution_count": 51,
   "id": "c417a4d9",
   "metadata": {},
   "outputs": [
    {
     "name": "stdout",
     "output_type": "stream",
     "text": [
      "String matched.\n"
     ]
    }
   ],
   "source": [
    "def compareStrings(x, y):\n",
    "    if x==y:\n",
    "        return 1\n",
    "string1=\"Michael Jackson is the best\"    \n",
    "string2=\"Michael Jackson is the best\"\n",
    "check=compareStrings(string1, string2)\n",
    "if check==1:\n",
    "    print('String matched.')\n",
    "else:\n",
    "    print('String not matched.')"
   ]
  },
  {
   "cell_type": "code",
   "execution_count": 54,
   "id": "c156b004",
   "metadata": {},
   "outputs": [
    {
     "name": "stdout",
     "output_type": "stream",
     "text": [
      "{'abcdefghijklmnopqrstuvwxyz': 1, 'abc': 1}\n"
     ]
    }
   ],
   "source": [
    "def freq(string):\n",
    "    words=[]\n",
    "    words=string.split()\n",
    "    dict={}\n",
    "    for key in words:\n",
    "        dict[key]=words.count(key)\n",
    "    print(dict) \n",
    "freq('abcdefghijklmnopqrstuvwxyz abc')    "
   ]
  },
  {
   "cell_type": "code",
   "execution_count": 56,
   "id": "80095606",
   "metadata": {},
   "outputs": [
    {
     "name": "stdout",
     "output_type": "stream",
     "text": [
      "Bad\n",
      "good\n"
     ]
    }
   ],
   "source": [
    "def isgoodrating(rating=4):\n",
    "    if rating<7:\n",
    "        print(\"Bad\")\n",
    "    else:\n",
    "        print('good')\n",
    "isgoodrating()\n",
    "isgoodrating(10)"
   ]
  },
  {
   "cell_type": "code",
   "execution_count": 58,
   "id": "f4725354",
   "metadata": {},
   "outputs": [
    {
     "name": "stdout",
     "output_type": "stream",
     "text": [
      "MJ\n"
     ]
    }
   ],
   "source": [
    "artist='MJ'\n",
    "def printer1(artist):\n",
    "    internal_var1=artist\n",
    "    print(artist)\n",
    "printer1(artist)    "
   ]
  },
  {
   "cell_type": "code",
   "execution_count": 59,
   "id": "6354b8c9",
   "metadata": {},
   "outputs": [
    {
     "name": "stdout",
     "output_type": "stream",
     "text": [
      "6.0\n"
     ]
    }
   ],
   "source": [
    "def divide(a, b):\n",
    "    c=a/b\n",
    "    return c\n",
    "result=divide(12, 2)\n",
    "print(result)"
   ]
  },
  {
   "cell_type": "code",
   "execution_count": 60,
   "id": "4de2addd",
   "metadata": {},
   "outputs": [
    {
     "name": "stdout",
     "output_type": "stream",
     "text": [
      "it'sPython\n"
     ]
    }
   ],
   "source": [
    "def con(a, b):\n",
    "    return a+b\n",
    "result=con(\"it's\", ' Python')\n",
    "print(result)"
   ]
  },
  {
   "cell_type": "code",
   "execution_count": null,
   "id": "af7c4cf9",
   "metadata": {},
   "outputs": [],
   "source": []
  }
 ],
 "metadata": {
  "kernelspec": {
   "display_name": "Python 3 (ipykernel)",
   "language": "python",
   "name": "python3"
  },
  "language_info": {
   "codemirror_mode": {
    "name": "ipython",
    "version": 3
   },
   "file_extension": ".py",
   "mimetype": "text/x-python",
   "name": "python",
   "nbconvert_exporter": "python",
   "pygments_lexer": "ipython3",
   "version": "3.10.9"
  }
 },
 "nbformat": 4,
 "nbformat_minor": 5
}
