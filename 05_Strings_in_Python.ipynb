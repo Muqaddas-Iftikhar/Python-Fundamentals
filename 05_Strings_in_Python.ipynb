{
 "cells": [
  {
   "cell_type": "markdown",
   "id": "e325a081",
   "metadata": {},
   "source": [
    "# <center> STRINGS IN PYTHON </CENTER>\n",
    "Strings are sequence of characters enclosed within single quotes(''), double(\"\") or triple quotes (''' ''')"
   ]
  },
  {
   "cell_type": "code",
   "execution_count": 1,
   "id": "2e6e7d9e",
   "metadata": {},
   "outputs": [
    {
     "data": {
      "text/plain": [
       "'Hello, Python!'"
      ]
     },
     "execution_count": 1,
     "metadata": {},
     "output_type": "execute_result"
    }
   ],
   "source": [
    "s1='Hello, Python!'\n",
    "s1"
   ]
  },
  {
   "cell_type": "code",
   "execution_count": 2,
   "id": "b965099d",
   "metadata": {},
   "outputs": [
    {
     "data": {
      "text/plain": [
       "str"
      ]
     },
     "execution_count": 2,
     "metadata": {},
     "output_type": "execute_result"
    }
   ],
   "source": [
    "type(s1)"
   ]
  },
  {
   "cell_type": "code",
   "execution_count": 4,
   "id": "f8901ce0",
   "metadata": {},
   "outputs": [
    {
     "data": {
      "text/plain": [
       "'Hello, Python World!'"
      ]
     },
     "execution_count": 4,
     "metadata": {},
     "output_type": "execute_result"
    }
   ],
   "source": [
    "s1=\"Hello, Python World!\"\n",
    "s1"
   ]
  },
  {
   "cell_type": "code",
   "execution_count": 5,
   "id": "55dfcf97",
   "metadata": {},
   "outputs": [
    {
     "data": {
      "text/plain": [
       "str"
      ]
     },
     "execution_count": 5,
     "metadata": {},
     "output_type": "execute_result"
    }
   ],
   "source": [
    "type(s1)"
   ]
  },
  {
   "cell_type": "code",
   "execution_count": 6,
   "id": "ef620fef",
   "metadata": {},
   "outputs": [
    {
     "data": {
      "text/plain": [
       "'This is python programming language.'"
      ]
     },
     "execution_count": 6,
     "metadata": {},
     "output_type": "execute_result"
    }
   ],
   "source": [
    "s1=\"\"\"This is python programming language.\"\"\"\n",
    "s1"
   ]
  },
  {
   "cell_type": "code",
   "execution_count": 7,
   "id": "6f5a8ad4",
   "metadata": {},
   "outputs": [
    {
     "data": {
      "text/plain": [
       "str"
      ]
     },
     "execution_count": 7,
     "metadata": {},
     "output_type": "execute_result"
    }
   ],
   "source": [
    "type(s1)"
   ]
  },
  {
   "cell_type": "markdown",
   "id": "3d589860",
   "metadata": {},
   "source": [
    "# Extracting Individual Characters:\n",
    "We use indexing to extract individual character from the string. Indexing always starts from the zero."
   ]
  },
  {
   "cell_type": "code",
   "execution_count": 13,
   "id": "11ee4bb4",
   "metadata": {},
   "outputs": [
    {
     "data": {
      "text/plain": [
       "'M'"
      ]
     },
     "execution_count": 13,
     "metadata": {},
     "output_type": "execute_result"
    }
   ],
   "source": [
    "my_string=\"My name is Muqaddas\"\n",
    "my_string[0] # positive indexing"
   ]
  },
  {
   "cell_type": "code",
   "execution_count": 14,
   "id": "1e82c465",
   "metadata": {},
   "outputs": [
    {
     "data": {
      "text/plain": [
       "'s'"
      ]
     },
     "execution_count": 14,
     "metadata": {},
     "output_type": "execute_result"
    }
   ],
   "source": [
    "my_string[-1] # Negative indexing"
   ]
  },
  {
   "cell_type": "code",
   "execution_count": 15,
   "id": "375852be",
   "metadata": {},
   "outputs": [
    {
     "data": {
      "text/plain": [
       "'a'"
      ]
     },
     "execution_count": 15,
     "metadata": {},
     "output_type": "execute_result"
    }
   ],
   "source": [
    "my_string[4]"
   ]
  },
  {
   "cell_type": "markdown",
   "id": "e402b454",
   "metadata": {},
   "source": [
    "# Substring:"
   ]
  },
  {
   "cell_type": "code",
   "execution_count": 16,
   "id": "32a1da74",
   "metadata": {},
   "outputs": [
    {
     "data": {
      "text/plain": [
       "'Muqaddas'"
      ]
     },
     "execution_count": 16,
     "metadata": {},
     "output_type": "execute_result"
    }
   ],
   "source": [
    "my_string[11:]"
   ]
  },
  {
   "cell_type": "code",
   "execution_count": 17,
   "id": "14c9d8a7",
   "metadata": {},
   "outputs": [
    {
     "data": {
      "text/plain": [
       "'nam'"
      ]
     },
     "execution_count": 17,
     "metadata": {},
     "output_type": "execute_result"
    }
   ],
   "source": [
    "my_string[3:6]"
   ]
  },
  {
   "cell_type": "markdown",
   "id": "9bf67122",
   "metadata": {},
   "source": [
    "# <center> STRING FUNCTIONS </CENTER>\n",
    "In Strings, different kinds of fucntions are used for different purposes. These are built-in functions. These are as follows:"
   ]
  },
  {
   "cell_type": "markdown",
   "id": "35759bb8",
   "metadata": {},
   "source": [
    "# Length:"
   ]
  },
  {
   "cell_type": "code",
   "execution_count": 18,
   "id": "5c45dc29",
   "metadata": {},
   "outputs": [
    {
     "data": {
      "text/plain": [
       "'My name is Muqaddas'"
      ]
     },
     "execution_count": 18,
     "metadata": {},
     "output_type": "execute_result"
    }
   ],
   "source": [
    "my_string"
   ]
  },
  {
   "cell_type": "code",
   "execution_count": 19,
   "id": "7023efdf",
   "metadata": {},
   "outputs": [
    {
     "data": {
      "text/plain": [
       "19"
      ]
     },
     "execution_count": 19,
     "metadata": {},
     "output_type": "execute_result"
    }
   ],
   "source": [
    "len(my_string)"
   ]
  },
  {
   "cell_type": "code",
   "execution_count": 40,
   "id": "e4561588",
   "metadata": {},
   "outputs": [
    {
     "name": "stdout",
     "output_type": "stream",
     "text": [
      "OpenAI\n"
     ]
    }
   ],
   "source": [
    "word=\"OpenAI\"\n",
    "print(word)"
   ]
  },
  {
   "cell_type": "code",
   "execution_count": 41,
   "id": "b4025db7",
   "metadata": {},
   "outputs": [
    {
     "data": {
      "text/plain": [
       "6"
      ]
     },
     "execution_count": 41,
     "metadata": {},
     "output_type": "execute_result"
    }
   ],
   "source": [
    "len(word)"
   ]
  },
  {
   "cell_type": "markdown",
   "id": "26c2164b",
   "metadata": {},
   "source": [
    "# Lower Case:"
   ]
  },
  {
   "cell_type": "code",
   "execution_count": 20,
   "id": "04d59303",
   "metadata": {},
   "outputs": [
    {
     "data": {
      "text/plain": [
       "'my name is muqaddas'"
      ]
     },
     "execution_count": 20,
     "metadata": {},
     "output_type": "execute_result"
    }
   ],
   "source": [
    "my_string.lower()"
   ]
  },
  {
   "cell_type": "markdown",
   "id": "6c732713",
   "metadata": {},
   "source": [
    "# Upper Case:"
   ]
  },
  {
   "cell_type": "code",
   "execution_count": 42,
   "id": "1ad8a3ec",
   "metadata": {},
   "outputs": [
    {
     "name": "stdout",
     "output_type": "stream",
     "text": [
      "OPENAI\n"
     ]
    }
   ],
   "source": [
    "word=\"OpenAI\"\n",
    "print(word.upper())"
   ]
  },
  {
   "cell_type": "code",
   "execution_count": 21,
   "id": "b246a4da",
   "metadata": {},
   "outputs": [
    {
     "data": {
      "text/plain": [
       "'MY NAME IS MUQADDAS'"
      ]
     },
     "execution_count": 21,
     "metadata": {},
     "output_type": "execute_result"
    }
   ],
   "source": [
    "my_string.upper()"
   ]
  },
  {
   "cell_type": "markdown",
   "id": "513ede4c",
   "metadata": {},
   "source": [
    "# Replacing a Substring:"
   ]
  },
  {
   "cell_type": "code",
   "execution_count": 26,
   "id": "cb53a56e",
   "metadata": {},
   "outputs": [
    {
     "data": {
      "text/plain": [
       "'My name is JENIFER'"
      ]
     },
     "execution_count": 26,
     "metadata": {},
     "output_type": "execute_result"
    }
   ],
   "source": [
    "my_string.replace('Muqaddas', 'JENIFER')"
   ]
  },
  {
   "cell_type": "code",
   "execution_count": 51,
   "id": "2685ac4d",
   "metadata": {},
   "outputs": [
    {
     "name": "stdout",
     "output_type": "stream",
     "text": [
      "old house, old car\n"
     ]
    }
   ],
   "source": [
    "sentence='old house, old car'\n",
    "print(sentence)"
   ]
  },
  {
   "cell_type": "code",
   "execution_count": 52,
   "id": "0c895c5d",
   "metadata": {},
   "outputs": [
    {
     "name": "stdout",
     "output_type": "stream",
     "text": [
      "new house, new car\n"
     ]
    }
   ],
   "source": [
    "print(sentence.replace('old', 'new'))"
   ]
  },
  {
   "cell_type": "markdown",
   "id": "21605a6d",
   "metadata": {},
   "source": [
    "# Count:"
   ]
  },
  {
   "cell_type": "code",
   "execution_count": 27,
   "id": "b7373f44",
   "metadata": {},
   "outputs": [
    {
     "data": {
      "text/plain": [
       "2"
      ]
     },
     "execution_count": 27,
     "metadata": {},
     "output_type": "execute_result"
    }
   ],
   "source": [
    "my_string.count('d')"
   ]
  },
  {
   "cell_type": "code",
   "execution_count": 29,
   "id": "952c1a24",
   "metadata": {},
   "outputs": [
    {
     "data": {
      "text/plain": [
       "1"
      ]
     },
     "execution_count": 29,
     "metadata": {},
     "output_type": "execute_result"
    }
   ],
   "source": [
    "my_string.count('Muqaddas')"
   ]
  },
  {
   "cell_type": "markdown",
   "id": "c177cc26",
   "metadata": {},
   "source": [
    "# Finding index of substring:"
   ]
  },
  {
   "cell_type": "code",
   "execution_count": 32,
   "id": "d390b442",
   "metadata": {
    "scrolled": true
   },
   "outputs": [
    {
     "data": {
      "text/plain": [
       "9"
      ]
     },
     "execution_count": 32,
     "metadata": {},
     "output_type": "execute_result"
    }
   ],
   "source": [
    "s1='This is sparta!!!'\n",
    "s1.find('p')"
   ]
  },
  {
   "cell_type": "code",
   "execution_count": 53,
   "id": "121131db",
   "metadata": {},
   "outputs": [
    {
     "name": "stdout",
     "output_type": "stream",
     "text": [
      "4\n"
     ]
    }
   ],
   "source": [
    "word=\"OpenAI\"\n",
    "print(word.find('AI'))"
   ]
  },
  {
   "cell_type": "markdown",
   "id": "67439073",
   "metadata": {},
   "source": [
    "# Splitting a string:"
   ]
  },
  {
   "cell_type": "code",
   "execution_count": 39,
   "id": "f2fc659b",
   "metadata": {},
   "outputs": [
    {
     "name": "stdout",
     "output_type": "stream",
     "text": [
      "I like apples, oranges and bananas.\n"
     ]
    }
   ],
   "source": [
    "fruit='I like apples, oranges and bananas.'\n",
    "fruit.split(',')\n",
    "print(fruit)"
   ]
  },
  {
   "cell_type": "code",
   "execution_count": 47,
   "id": "0d215d2e",
   "metadata": {},
   "outputs": [
    {
     "name": "stdout",
     "output_type": "stream",
     "text": [
      "['Apple', 'Banana', 'Orange']\n"
     ]
    }
   ],
   "source": [
    "fruits=\"Apple Banana Orange\"\n",
    "print(fruits.split(' '))"
   ]
  },
  {
   "cell_type": "markdown",
   "id": "45bf6b2a",
   "metadata": {},
   "source": [
    "# Join:"
   ]
  },
  {
   "cell_type": "code",
   "execution_count": 54,
   "id": "1e3d5a7e",
   "metadata": {},
   "outputs": [
    {
     "name": "stdout",
     "output_type": "stream",
     "text": [
      "Hello World\n"
     ]
    }
   ],
   "source": [
    "words = [\"Hello\", \"World\"]\n",
    "result = \" \".join(words)\n",
    "print(result)"
   ]
  },
  {
   "cell_type": "code",
   "execution_count": 55,
   "id": "c86d402d",
   "metadata": {},
   "outputs": [
    {
     "name": "stdout",
     "output_type": "stream",
     "text": [
      "jenifer katherine\n"
     ]
    }
   ],
   "source": [
    "names=['jenifer', 'katherine']\n",
    "result=\" \".join(names)\n",
    "print(result)"
   ]
  },
  {
   "cell_type": "code",
   "execution_count": null,
   "id": "865a9631",
   "metadata": {},
   "outputs": [],
   "source": []
  }
 ],
 "metadata": {
  "kernelspec": {
   "display_name": "Python 3 (ipykernel)",
   "language": "python",
   "name": "python3"
  },
  "language_info": {
   "codemirror_mode": {
    "name": "ipython",
    "version": 3
   },
   "file_extension": ".py",
   "mimetype": "text/x-python",
   "name": "python",
   "nbconvert_exporter": "python",
   "pygments_lexer": "ipython3",
   "version": "3.10.9"
  }
 },
 "nbformat": 4,
 "nbformat_minor": 5
}
