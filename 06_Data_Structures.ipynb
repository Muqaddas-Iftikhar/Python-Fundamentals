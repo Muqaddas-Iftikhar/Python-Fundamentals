{
 "cells": [
  {
   "cell_type": "markdown",
   "id": "38c675e1",
   "metadata": {},
   "source": [
    "# <center> DATA STRUCTURES IN PYTHON </CENTER>\n",
    "Four types of data structures are used in python. These are:\n",
    "1. Tuple\n",
    "2. List\n",
    "3. Sets\n",
    "4. Dictionaries"
   ]
  },
  {
   "cell_type": "markdown",
   "id": "63bd1439",
   "metadata": {},
   "source": [
    "# <center>Tuples<center>\n",
    "Ordered collection of elements enclosed with (). These are immutable."
   ]
  },
  {
   "cell_type": "code",
   "execution_count": 1,
   "id": "4208e80b",
   "metadata": {},
   "outputs": [
    {
     "name": "stdout",
     "output_type": "stream",
     "text": [
      "(1, 'a', True)\n"
     ]
    }
   ],
   "source": [
    "tup1=(1, 'a', True)\n",
    "print(tup1)"
   ]
  },
  {
   "cell_type": "code",
   "execution_count": 2,
   "id": "921ead39",
   "metadata": {},
   "outputs": [
    {
     "data": {
      "text/plain": [
       "tuple"
      ]
     },
     "execution_count": 2,
     "metadata": {},
     "output_type": "execute_result"
    }
   ],
   "source": [
    "type(tup1)"
   ]
  },
  {
   "cell_type": "markdown",
   "id": "abc85477",
   "metadata": {},
   "source": [
    "# Extracting Individual Elements:"
   ]
  },
  {
   "cell_type": "code",
   "execution_count": 3,
   "id": "878c0b96",
   "metadata": {},
   "outputs": [
    {
     "data": {
      "text/plain": [
       "1"
      ]
     },
     "execution_count": 3,
     "metadata": {},
     "output_type": "execute_result"
    }
   ],
   "source": [
    "tup1=(1, 'a', True, 2, 'b', False)\n",
    "tup1[0]"
   ]
  },
  {
   "cell_type": "code",
   "execution_count": 4,
   "id": "183a6ef4",
   "metadata": {},
   "outputs": [
    {
     "data": {
      "text/plain": [
       "False"
      ]
     },
     "execution_count": 4,
     "metadata": {},
     "output_type": "execute_result"
    }
   ],
   "source": [
    "tup1[-1]"
   ]
  },
  {
   "cell_type": "code",
   "execution_count": 5,
   "id": "d8a6d88d",
   "metadata": {},
   "outputs": [
    {
     "data": {
      "text/plain": [
       "('a', True, 2)"
      ]
     },
     "execution_count": 5,
     "metadata": {},
     "output_type": "execute_result"
    }
   ],
   "source": [
    "tup1[1:4]"
   ]
  },
  {
   "cell_type": "markdown",
   "id": "0ddbb8aa",
   "metadata": {},
   "source": [
    "# Modifying a Tuple:\n",
    "It cannot be modified because it is immutable."
   ]
  },
  {
   "cell_type": "code",
   "execution_count": 6,
   "id": "984aed68",
   "metadata": {},
   "outputs": [
    {
     "ename": "TypeError",
     "evalue": "'tuple' object does not support item assignment",
     "output_type": "error",
     "traceback": [
      "\u001b[1;31m---------------------------------------------------------------------------\u001b[0m",
      "\u001b[1;31mTypeError\u001b[0m                                 Traceback (most recent call last)",
      "Cell \u001b[1;32mIn[6], line 1\u001b[0m\n\u001b[1;32m----> 1\u001b[0m tup1[\u001b[38;5;241m2\u001b[39m]\u001b[38;5;241m=\u001b[39m\u001b[38;5;124m'\u001b[39m\u001b[38;5;124mhello\u001b[39m\u001b[38;5;124m'\u001b[39m\n",
      "\u001b[1;31mTypeError\u001b[0m: 'tuple' object does not support item assignment"
     ]
    }
   ],
   "source": [
    "tup1[2]='hello'"
   ]
  },
  {
   "cell_type": "code",
   "execution_count": 8,
   "id": "3746bc89",
   "metadata": {},
   "outputs": [
    {
     "ename": "TypeError",
     "evalue": "'tuple' object does not support item assignment",
     "output_type": "error",
     "traceback": [
      "\u001b[1;31m---------------------------------------------------------------------------\u001b[0m",
      "\u001b[1;31mTypeError\u001b[0m                                 Traceback (most recent call last)",
      "Cell \u001b[1;32mIn[8], line 1\u001b[0m\n\u001b[1;32m----> 1\u001b[0m tup1[\u001b[38;5;241m6\u001b[39m]\u001b[38;5;241m=\u001b[39m\u001b[38;5;124m'\u001b[39m\u001b[38;5;124mPython\u001b[39m\u001b[38;5;124m'\u001b[39m\n\u001b[0;32m      2\u001b[0m \u001b[38;5;28mprint\u001b[39m(tup1)\n",
      "\u001b[1;31mTypeError\u001b[0m: 'tuple' object does not support item assignment"
     ]
    }
   ],
   "source": [
    "tup1[6]='Python'\n",
    "print(tup1)"
   ]
  },
  {
   "cell_type": "markdown",
   "id": "ab4a8483",
   "metadata": {},
   "source": [
    "# <center>Basic Operations in Tuples <center>"
   ]
  },
  {
   "cell_type": "markdown",
   "id": "a8038358",
   "metadata": {},
   "source": [
    "# Length:"
   ]
  },
  {
   "cell_type": "code",
   "execution_count": 9,
   "id": "73b21ba0",
   "metadata": {},
   "outputs": [
    {
     "data": {
      "text/plain": [
       "6"
      ]
     },
     "execution_count": 9,
     "metadata": {},
     "output_type": "execute_result"
    }
   ],
   "source": [
    "len(tup1)"
   ]
  },
  {
   "cell_type": "markdown",
   "id": "abd88e5b",
   "metadata": {},
   "source": [
    "# Concatenation:"
   ]
  },
  {
   "cell_type": "code",
   "execution_count": 10,
   "id": "0debd315",
   "metadata": {},
   "outputs": [
    {
     "data": {
      "text/plain": [
       "(1, 2, 3, 4, 5, 6)"
      ]
     },
     "execution_count": 10,
     "metadata": {},
     "output_type": "execute_result"
    }
   ],
   "source": [
    "tup1=(1, 2, 3)\n",
    "tup2=(4, 5, 6)\n",
    "tup1+tup2"
   ]
  },
  {
   "cell_type": "code",
   "execution_count": 11,
   "id": "ea59cfc1",
   "metadata": {},
   "outputs": [
    {
     "data": {
      "text/plain": [
       "(4, 5, 6, 1, 2, 3)"
      ]
     },
     "execution_count": 11,
     "metadata": {},
     "output_type": "execute_result"
    }
   ],
   "source": [
    "tup2+tup1"
   ]
  },
  {
   "cell_type": "markdown",
   "id": "04cf8b8e",
   "metadata": {},
   "source": [
    "# Repeating Tuple Elements:"
   ]
  },
  {
   "cell_type": "code",
   "execution_count": 12,
   "id": "98dc6b61",
   "metadata": {},
   "outputs": [
    {
     "data": {
      "text/plain": [
       "('Sparta', 300, 'Sparta', 300, 'Sparta', 300)"
      ]
     },
     "execution_count": 12,
     "metadata": {},
     "output_type": "execute_result"
    }
   ],
   "source": [
    "tup1=('Sparta', 300)\n",
    "tup1*3"
   ]
  },
  {
   "cell_type": "code",
   "execution_count": 15,
   "id": "6ece36c4",
   "metadata": {},
   "outputs": [],
   "source": [
    "tup1=(1, True, 3.34)"
   ]
  },
  {
   "cell_type": "code",
   "execution_count": 16,
   "id": "99c1452e",
   "metadata": {
    "scrolled": false
   },
   "outputs": [
    {
     "data": {
      "text/plain": [
       "(1, True, 3.34, 1, True, 3.34, 1, True, 3.34)"
      ]
     },
     "execution_count": 16,
     "metadata": {},
     "output_type": "execute_result"
    }
   ],
   "source": [
    "tup1*3"
   ]
  },
  {
   "cell_type": "code",
   "execution_count": 18,
   "id": "5baaaf7e",
   "metadata": {},
   "outputs": [
    {
     "data": {
      "text/plain": [
       "('a', 'b', 'c', 'a', 'b', 'c', 'a', 'b', 'c', 'a', 'b', 'c', 'a', 'b', 'c')"
      ]
     },
     "execution_count": 18,
     "metadata": {},
     "output_type": "execute_result"
    }
   ],
   "source": [
    "tup2=(\"a\", \"b\", \"c\")\n",
    "tup2*5"
   ]
  },
  {
   "cell_type": "markdown",
   "id": "00b50eaa",
   "metadata": {},
   "source": [
    "# Repeating and Concatenating:"
   ]
  },
  {
   "cell_type": "code",
   "execution_count": 13,
   "id": "f0975fec",
   "metadata": {},
   "outputs": [
    {
     "data": {
      "text/plain": [
       "('Sparta', 300, 'Sparta', 300, 'Sparta', 300, 4, 5, 6)"
      ]
     },
     "execution_count": 13,
     "metadata": {},
     "output_type": "execute_result"
    }
   ],
   "source": [
    "tup1=('Sparta', 300)\n",
    "tup2=(4, 5, 6)\n",
    "tup1*3+tup2"
   ]
  },
  {
   "cell_type": "code",
   "execution_count": 20,
   "id": "e279da0c",
   "metadata": {},
   "outputs": [
    {
     "data": {
      "text/plain": [
       "(1, True, 3.34, 'a', 'b', 'c')"
      ]
     },
     "execution_count": 20,
     "metadata": {},
     "output_type": "execute_result"
    }
   ],
   "source": [
    "tup1=(1, True, 3.34)\n",
    "tup2=(\"a\", \"b\", \"c\")\n",
    "tup1+tup2"
   ]
  },
  {
   "cell_type": "code",
   "execution_count": 21,
   "id": "19555231",
   "metadata": {},
   "outputs": [
    {
     "data": {
      "text/plain": [
       "(1, True, 3.34, 1, True, 3.34, 'a', 'b', 'c', 'a', 'b', 'c')"
      ]
     },
     "execution_count": 21,
     "metadata": {},
     "output_type": "execute_result"
    }
   ],
   "source": [
    "tup1*2 + tup2*2"
   ]
  },
  {
   "cell_type": "markdown",
   "id": "221632dd",
   "metadata": {},
   "source": [
    "# <center> LIST  </CENTER>\n",
    "Lists are ordered collection of elements and are mutable enclosed within []. Different types of functions are used for different types of purposes."
   ]
  },
  {
   "cell_type": "code",
   "execution_count": 22,
   "id": "90713a43",
   "metadata": {},
   "outputs": [
    {
     "data": {
      "text/plain": [
       "['Sparta', 3.34, True, (2+3j)]"
      ]
     },
     "execution_count": 22,
     "metadata": {},
     "output_type": "execute_result"
    }
   ],
   "source": [
    "l1=['Sparta', 3.34, True, 2+3j]\n",
    "l1"
   ]
  },
  {
   "cell_type": "code",
   "execution_count": 23,
   "id": "fce8fdcb",
   "metadata": {},
   "outputs": [
    {
     "data": {
      "text/plain": [
       "list"
      ]
     },
     "execution_count": 23,
     "metadata": {},
     "output_type": "execute_result"
    }
   ],
   "source": [
    "type(l1)"
   ]
  },
  {
   "cell_type": "markdown",
   "id": "8fbedb32",
   "metadata": {},
   "source": [
    "# Extracting Individual Elements:"
   ]
  },
  {
   "cell_type": "code",
   "execution_count": 24,
   "id": "c35b9fef",
   "metadata": {},
   "outputs": [
    {
     "data": {
      "text/plain": [
       "2"
      ]
     },
     "execution_count": 24,
     "metadata": {},
     "output_type": "execute_result"
    }
   ],
   "source": [
    "l1=['a', 2, 'b', 3, 'c']\n",
    "l1[1]"
   ]
  },
  {
   "cell_type": "code",
   "execution_count": 26,
   "id": "7a8db7f4",
   "metadata": {},
   "outputs": [
    {
     "data": {
      "text/plain": [
       "['b', 3, 'c']"
      ]
     },
     "execution_count": 26,
     "metadata": {},
     "output_type": "execute_result"
    }
   ],
   "source": [
    "l1[2:5] # Substring"
   ]
  },
  {
   "cell_type": "markdown",
   "id": "b374ce5c",
   "metadata": {},
   "source": [
    "# Modifying a list:"
   ]
  },
  {
   "cell_type": "code",
   "execution_count": 28,
   "id": "a4111343",
   "metadata": {},
   "outputs": [
    {
     "data": {
      "text/plain": [
       "[100, 2, 'b', 3, 'c']"
      ]
     },
     "execution_count": 28,
     "metadata": {},
     "output_type": "execute_result"
    }
   ],
   "source": [
    "l1[0]=100\n",
    "l1"
   ]
  },
  {
   "cell_type": "markdown",
   "id": "c00731f5",
   "metadata": {},
   "source": [
    "# Popping the last element:"
   ]
  },
  {
   "cell_type": "code",
   "execution_count": 29,
   "id": "ed1207a4",
   "metadata": {},
   "outputs": [
    {
     "data": {
      "text/plain": [
       "'c'"
      ]
     },
     "execution_count": 29,
     "metadata": {},
     "output_type": "execute_result"
    }
   ],
   "source": [
    "l1.pop()"
   ]
  },
  {
   "cell_type": "code",
   "execution_count": 30,
   "id": "d9315568",
   "metadata": {},
   "outputs": [
    {
     "data": {
      "text/plain": [
       "[100, 2, 'b', 3]"
      ]
     },
     "execution_count": 30,
     "metadata": {},
     "output_type": "execute_result"
    }
   ],
   "source": [
    "l1"
   ]
  },
  {
   "cell_type": "markdown",
   "id": "837af1c7",
   "metadata": {},
   "source": [
    "# Appending a new element:"
   ]
  },
  {
   "cell_type": "code",
   "execution_count": 32,
   "id": "fa819617",
   "metadata": {},
   "outputs": [
    {
     "data": {
      "text/plain": [
       "[100, 2, 'b', 3, 'Sparta']"
      ]
     },
     "execution_count": 32,
     "metadata": {},
     "output_type": "execute_result"
    }
   ],
   "source": [
    "l1.append('Sparta')\n",
    "l1"
   ]
  },
  {
   "cell_type": "code",
   "execution_count": 33,
   "id": "09d0021d",
   "metadata": {},
   "outputs": [],
   "source": [
    "l1.append('Hello, Python')"
   ]
  },
  {
   "cell_type": "code",
   "execution_count": 34,
   "id": "be40e7cf",
   "metadata": {},
   "outputs": [
    {
     "data": {
      "text/plain": [
       "[100, 2, 'b', 3, 'Sparta', 'Hello, Python']"
      ]
     },
     "execution_count": 34,
     "metadata": {},
     "output_type": "execute_result"
    }
   ],
   "source": [
    "l1"
   ]
  },
  {
   "cell_type": "markdown",
   "id": "dfa6a8b5",
   "metadata": {},
   "source": [
    "# Reverse:"
   ]
  },
  {
   "cell_type": "code",
   "execution_count": 1,
   "id": "b2af563c",
   "metadata": {},
   "outputs": [
    {
     "data": {
      "text/plain": [
       "['c', 3, 'b', 2, 'a', 1]"
      ]
     },
     "execution_count": 1,
     "metadata": {},
     "output_type": "execute_result"
    }
   ],
   "source": [
    "l1=[1, 'a', 2, 'b', 3, 'c']\n",
    "l1.reverse()\n",
    "l1"
   ]
  },
  {
   "cell_type": "markdown",
   "id": "abc4d02e",
   "metadata": {},
   "source": [
    "# Sorting:"
   ]
  },
  {
   "cell_type": "code",
   "execution_count": 2,
   "id": "b8626468",
   "metadata": {},
   "outputs": [
    {
     "data": {
      "text/plain": [
       "['apple', 'banana', 'guava', 'mango']"
      ]
     },
     "execution_count": 2,
     "metadata": {},
     "output_type": "execute_result"
    }
   ],
   "source": [
    "l1=['mango', 'banana', 'guava', 'apple']\n",
    "l1.sort()\n",
    "l1"
   ]
  },
  {
   "cell_type": "markdown",
   "id": "4533ce5a",
   "metadata": {},
   "source": [
    "# Inserting element at a specific index/position:"
   ]
  },
  {
   "cell_type": "code",
   "execution_count": 3,
   "id": "c5d3bda4",
   "metadata": {},
   "outputs": [
    {
     "data": {
      "text/plain": [
       "[1, 'sparta', 'a', 2, 'b', 3, 'c']"
      ]
     },
     "execution_count": 3,
     "metadata": {},
     "output_type": "execute_result"
    }
   ],
   "source": [
    "l1=[1, 'a', 2, 'b', 3, 'c']\n",
    "l1.insert(1, 'sparta')\n",
    "l1"
   ]
  },
  {
   "cell_type": "markdown",
   "id": "f0cf0d4d",
   "metadata": {},
   "source": [
    "# Concatenation:"
   ]
  },
  {
   "cell_type": "code",
   "execution_count": 4,
   "id": "66f155ab",
   "metadata": {},
   "outputs": [
    {
     "data": {
      "text/plain": [
       "[1, 2, 3, 4, 5, 5, 4, 3, 2, 1]"
      ]
     },
     "execution_count": 4,
     "metadata": {},
     "output_type": "execute_result"
    }
   ],
   "source": [
    "l1=[1, 2, 3, 4, 5]\n",
    "l2=[5, 4, 3, 2, 1]\n",
    "l1+l2"
   ]
  },
  {
   "cell_type": "code",
   "execution_count": 5,
   "id": "b09f4b07",
   "metadata": {},
   "outputs": [
    {
     "data": {
      "text/plain": [
       "[5, 4, 3, 2, 1, 1, 2, 3, 4, 5]"
      ]
     },
     "execution_count": 5,
     "metadata": {},
     "output_type": "execute_result"
    }
   ],
   "source": [
    "l2+l1"
   ]
  },
  {
   "cell_type": "markdown",
   "id": "4d28ad79",
   "metadata": {},
   "source": [
    "# Repeating elements:"
   ]
  },
  {
   "cell_type": "code",
   "execution_count": 6,
   "id": "a63485f0",
   "metadata": {},
   "outputs": [
    {
     "data": {
      "text/plain": [
       "[1, 2, 3, 4, 5, 1, 2, 3, 4, 5, 1, 2, 3, 4, 5, 1, 2, 3, 4, 5, 1, 2, 3, 4, 5]"
      ]
     },
     "execution_count": 6,
     "metadata": {},
     "output_type": "execute_result"
    }
   ],
   "source": [
    "l1*5"
   ]
  },
  {
   "cell_type": "markdown",
   "id": "c7be8e08",
   "metadata": {},
   "source": [
    "# <center> DICTIONARIES </center>\n",
    "An unordered collection of key-value pairs enclosed with {}. It is mutable."
   ]
  },
  {
   "cell_type": "code",
   "execution_count": 7,
   "id": "54d98392",
   "metadata": {},
   "outputs": [],
   "source": [
    "fruit={'Apple':10, 'Orange':20}"
   ]
  },
  {
   "cell_type": "code",
   "execution_count": 8,
   "id": "69bdd10c",
   "metadata": {},
   "outputs": [
    {
     "data": {
      "text/plain": [
       "{'Apple': 10, 'Orange': 20}"
      ]
     },
     "execution_count": 8,
     "metadata": {},
     "output_type": "execute_result"
    }
   ],
   "source": [
    "fruit"
   ]
  },
  {
   "cell_type": "code",
   "execution_count": 9,
   "id": "e5c103a6",
   "metadata": {},
   "outputs": [
    {
     "data": {
      "text/plain": [
       "dict"
      ]
     },
     "execution_count": 9,
     "metadata": {},
     "output_type": "execute_result"
    }
   ],
   "source": [
    "type(fruit)"
   ]
  },
  {
   "cell_type": "markdown",
   "id": "61bf3732",
   "metadata": {},
   "source": [
    "# Extracting keys and values:"
   ]
  },
  {
   "cell_type": "code",
   "execution_count": 10,
   "id": "873179e1",
   "metadata": {},
   "outputs": [
    {
     "data": {
      "text/plain": [
       "dict_keys(['Apple', 'Orange', 'Banana', 'Guavea'])"
      ]
     },
     "execution_count": 10,
     "metadata": {},
     "output_type": "execute_result"
    }
   ],
   "source": [
    "fruit={'Apple':10, 'Orange':20, 'Banana':30, 'Guavea':40}\n",
    "fruit.keys()"
   ]
  },
  {
   "cell_type": "code",
   "execution_count": 11,
   "id": "7b057da6",
   "metadata": {},
   "outputs": [
    {
     "data": {
      "text/plain": [
       "dict_values([10, 20, 30, 40])"
      ]
     },
     "execution_count": 11,
     "metadata": {},
     "output_type": "execute_result"
    }
   ],
   "source": [
    "fruit.values()"
   ]
  },
  {
   "cell_type": "code",
   "execution_count": 12,
   "id": "f7bd822d",
   "metadata": {},
   "outputs": [
    {
     "data": {
      "text/plain": [
       "dict_items([('Apple', 10), ('Orange', 20), ('Banana', 30), ('Guavea', 40)])"
      ]
     },
     "execution_count": 12,
     "metadata": {},
     "output_type": "execute_result"
    }
   ],
   "source": [
    "fruit.items()"
   ]
  },
  {
   "cell_type": "markdown",
   "id": "1d3a9988",
   "metadata": {},
   "source": [
    "# <center> MODIFYING A DICTIONARY </CENTER>"
   ]
  },
  {
   "cell_type": "markdown",
   "id": "0175bd86",
   "metadata": {},
   "source": [
    "# Adding a new element:"
   ]
  },
  {
   "cell_type": "code",
   "execution_count": 13,
   "id": "11b69972",
   "metadata": {},
   "outputs": [
    {
     "data": {
      "text/plain": [
       "{'Apple': 10, 'Orange': 20, 'Banana': 30, 'Guavea': 40, 'Mango': 50}"
      ]
     },
     "execution_count": 13,
     "metadata": {},
     "output_type": "execute_result"
    }
   ],
   "source": [
    "fruit['Mango']=50\n",
    "fruit"
   ]
  },
  {
   "cell_type": "markdown",
   "id": "a6697426",
   "metadata": {},
   "source": [
    "# Changing an existing element:"
   ]
  },
  {
   "cell_type": "code",
   "execution_count": 14,
   "id": "1dbb0ca5",
   "metadata": {},
   "outputs": [
    {
     "data": {
      "text/plain": [
       "{'Apple': 100, 'Orange': 20, 'Banana': 30, 'Guavea': 40, 'Mango': 50}"
      ]
     },
     "execution_count": 14,
     "metadata": {},
     "output_type": "execute_result"
    }
   ],
   "source": [
    "fruit['Apple']=100\n",
    "fruit"
   ]
  },
  {
   "cell_type": "markdown",
   "id": "a55e2a0b",
   "metadata": {},
   "source": [
    "# <center> FUNCTIONS </CENTER>"
   ]
  },
  {
   "cell_type": "markdown",
   "id": "0a38b5cd",
   "metadata": {},
   "source": [
    "# Update one dictionary element with another:"
   ]
  },
  {
   "cell_type": "code",
   "execution_count": 15,
   "id": "cee435bf",
   "metadata": {},
   "outputs": [
    {
     "data": {
      "text/plain": [
       "{'Apple': 10, 'Orange': 20, 'Banana': 30, 'Guava': 40}"
      ]
     },
     "execution_count": 15,
     "metadata": {},
     "output_type": "execute_result"
    }
   ],
   "source": [
    "fruit1={'Apple':10, 'Orange':20}\n",
    "fruit2={\"Banana\":30, \"Guava\":40}\n",
    "fruit1.update(fruit2)\n",
    "fruit1"
   ]
  },
  {
   "cell_type": "markdown",
   "id": "7b6db8c8",
   "metadata": {},
   "source": [
    "# Popping an element:"
   ]
  },
  {
   "cell_type": "code",
   "execution_count": 16,
   "id": "c32a6313",
   "metadata": {},
   "outputs": [
    {
     "data": {
      "text/plain": [
       "{'Apple': 10, 'Banana': 30, 'Guava': 40}"
      ]
     },
     "execution_count": 16,
     "metadata": {},
     "output_type": "execute_result"
    }
   ],
   "source": [
    "fruit={\"Apple\":10, \"Orange\":20, \"Banana\":30, \"Guava\":40}\n",
    "fruit.pop(\"Orange\")\n",
    "fruit"
   ]
  },
  {
   "cell_type": "markdown",
   "id": "4e289f4f",
   "metadata": {},
   "source": [
    "# <center> SETS </center>\n",
    "It is an unordered and unindexed collection of elements enclosed within {}. Duplicates are not allowed inside the sets. "
   ]
  },
  {
   "cell_type": "code",
   "execution_count": 17,
   "id": "92e774cf",
   "metadata": {},
   "outputs": [
    {
     "data": {
      "text/plain": [
       "{1, 'Sparta'}"
      ]
     },
     "execution_count": 17,
     "metadata": {},
     "output_type": "execute_result"
    }
   ],
   "source": [
    "s1={1, 'Sparta', 1}\n",
    "s1"
   ]
  },
  {
   "cell_type": "code",
   "execution_count": 18,
   "id": "dec20de0",
   "metadata": {},
   "outputs": [
    {
     "data": {
      "text/plain": [
       "set"
      ]
     },
     "execution_count": 18,
     "metadata": {},
     "output_type": "execute_result"
    }
   ],
   "source": [
    "type(s1)"
   ]
  },
  {
   "cell_type": "markdown",
   "id": "f7b4ee68",
   "metadata": {},
   "source": [
    "# <center> SET OPERATIONS </center>"
   ]
  },
  {
   "cell_type": "markdown",
   "id": "3bf2ba4f",
   "metadata": {},
   "source": [
    "# Adding a new element:"
   ]
  },
  {
   "cell_type": "code",
   "execution_count": 19,
   "id": "c4f712af",
   "metadata": {},
   "outputs": [
    {
     "data": {
      "text/plain": [
       "{1, 2, False, 'Hello', 'a', 'b'}"
      ]
     },
     "execution_count": 19,
     "metadata": {},
     "output_type": "execute_result"
    }
   ],
   "source": [
    "s1={1, 'a', True, 2, 'b', False}\n",
    "s1.add(\"Hello\")\n",
    "s1"
   ]
  },
  {
   "cell_type": "markdown",
   "id": "9ebc707c",
   "metadata": {},
   "source": [
    "# Removing an element:"
   ]
  },
  {
   "cell_type": "code",
   "execution_count": 20,
   "id": "5eb9b2ca",
   "metadata": {},
   "outputs": [
    {
     "data": {
      "text/plain": [
       "{1, 2, False, 'Hello', 'a'}"
      ]
     },
     "execution_count": 20,
     "metadata": {},
     "output_type": "execute_result"
    }
   ],
   "source": [
    "s1.remove(\"b\")\n",
    "s1"
   ]
  },
  {
   "cell_type": "markdown",
   "id": "808db716",
   "metadata": {},
   "source": [
    "# Updating multiple elements:"
   ]
  },
  {
   "cell_type": "code",
   "execution_count": 21,
   "id": "8eaf5f0d",
   "metadata": {},
   "outputs": [
    {
     "data": {
      "text/plain": [
       "{1, 10, 2, 20, 30, False, 'Hello', 'a'}"
      ]
     },
     "execution_count": 21,
     "metadata": {},
     "output_type": "execute_result"
    }
   ],
   "source": [
    "s1.update([10, 20, 30])\n",
    "s1"
   ]
  },
  {
   "cell_type": "markdown",
   "id": "87a4fb20",
   "metadata": {},
   "source": [
    "# <center > SET FUNCTIONS </CENTER>"
   ]
  },
  {
   "cell_type": "markdown",
   "id": "fe478773",
   "metadata": {},
   "source": [
    "# Union:"
   ]
  },
  {
   "cell_type": "code",
   "execution_count": 22,
   "id": "d4d8bddc",
   "metadata": {},
   "outputs": [
    {
     "data": {
      "text/plain": [
       "{1, 2, 3, 'a', 'b', 'c'}"
      ]
     },
     "execution_count": 22,
     "metadata": {},
     "output_type": "execute_result"
    }
   ],
   "source": [
    "s1={1, 2, 3}\n",
    "s2={'a', 'b', 'c'}\n",
    "s1.union(s2)"
   ]
  },
  {
   "cell_type": "markdown",
   "id": "4aa8112e",
   "metadata": {},
   "source": [
    "# Intersection:"
   ]
  },
  {
   "cell_type": "code",
   "execution_count": 24,
   "id": "79238124",
   "metadata": {},
   "outputs": [
    {
     "data": {
      "text/plain": [
       "{5, 6}"
      ]
     },
     "execution_count": 24,
     "metadata": {},
     "output_type": "execute_result"
    }
   ],
   "source": [
    "s1={1, 2, 3, 4, 5, 6}\n",
    "s2={5, 6, 7, 8, 9}\n",
    "s1.intersection(s2)"
   ]
  },
  {
   "cell_type": "markdown",
   "id": "5684904e",
   "metadata": {},
   "source": [
    "# <center> PRACTICE QUESTIONS </center>"
   ]
  },
  {
   "cell_type": "markdown",
   "id": "28839cb6",
   "metadata": {},
   "source": [
    "# Remove Duplicates:"
   ]
  },
  {
   "cell_type": "code",
   "execution_count": 25,
   "id": "562c188d",
   "metadata": {},
   "outputs": [
    {
     "name": "stdout",
     "output_type": "stream",
     "text": [
      "[1, 2, 3, 4, 5, 6, 2, 3, 7, 1, 9, 8]\n"
     ]
    }
   ],
   "source": [
    "original_list=[1, 2, 3, 4, 5, 6, 2, 3, 7, 1, 9, 8]\n",
    "print(original_list)"
   ]
  },
  {
   "cell_type": "code",
   "execution_count": 27,
   "id": "96e59596",
   "metadata": {},
   "outputs": [],
   "source": [
    "new_list=set(original_list)"
   ]
  },
  {
   "cell_type": "code",
   "execution_count": 28,
   "id": "517a5448",
   "metadata": {},
   "outputs": [
    {
     "data": {
      "text/plain": [
       "{1, 2, 3, 4, 5, 6, 7, 8, 9}"
      ]
     },
     "execution_count": 28,
     "metadata": {},
     "output_type": "execute_result"
    }
   ],
   "source": [
    "new_list"
   ]
  },
  {
   "cell_type": "code",
   "execution_count": 31,
   "id": "28572b30",
   "metadata": {},
   "outputs": [],
   "source": [
    "#   Create two sets  one containing even numbers and \n",
    "# the other containing odd numbers from the list using python."
   ]
  },
  {
   "cell_type": "code",
   "execution_count": 32,
   "id": "cfe48696",
   "metadata": {},
   "outputs": [],
   "source": [
    "list1=[2, 4, 6, 8, 10]\n",
    "list2=[1, 3, 5, 7, 9]"
   ]
  },
  {
   "cell_type": "code",
   "execution_count": 33,
   "id": "059d8276",
   "metadata": {},
   "outputs": [],
   "source": [
    "new_list1=set(list1)"
   ]
  },
  {
   "cell_type": "code",
   "execution_count": 34,
   "id": "a82978e7",
   "metadata": {},
   "outputs": [
    {
     "data": {
      "text/plain": [
       "{2, 4, 6, 8, 10}"
      ]
     },
     "execution_count": 34,
     "metadata": {},
     "output_type": "execute_result"
    }
   ],
   "source": [
    "new_list1"
   ]
  },
  {
   "cell_type": "code",
   "execution_count": 35,
   "id": "bfbeb881",
   "metadata": {},
   "outputs": [],
   "source": [
    "new_list2=set(list2)"
   ]
  },
  {
   "cell_type": "code",
   "execution_count": 36,
   "id": "a89328fd",
   "metadata": {},
   "outputs": [
    {
     "data": {
      "text/plain": [
       "{1, 3, 5, 7, 9}"
      ]
     },
     "execution_count": 36,
     "metadata": {},
     "output_type": "execute_result"
    }
   ],
   "source": [
    "new_list2"
   ]
  },
  {
   "cell_type": "code",
   "execution_count": 37,
   "id": "a74f4b31",
   "metadata": {},
   "outputs": [],
   "source": [
    "# Calculate and print the sum, average, minimum, and maximum \n",
    "# of the input numbers using python.\n"
   ]
  },
  {
   "cell_type": "code",
   "execution_count": 38,
   "id": "b896b2be",
   "metadata": {},
   "outputs": [
    {
     "name": "stdout",
     "output_type": "stream",
     "text": [
      "Enter the first number:2\n",
      "Enter the second number:5\n"
     ]
    }
   ],
   "source": [
    "num1=int(input('Enter the first number:'))\n",
    "num2=int(input('Enter the second number:'))"
   ]
  },
  {
   "cell_type": "code",
   "execution_count": 39,
   "id": "3ebde836",
   "metadata": {},
   "outputs": [],
   "source": [
    "sum=num1+num2"
   ]
  },
  {
   "cell_type": "code",
   "execution_count": 40,
   "id": "c6c27835",
   "metadata": {},
   "outputs": [
    {
     "data": {
      "text/plain": [
       "7"
      ]
     },
     "execution_count": 40,
     "metadata": {},
     "output_type": "execute_result"
    }
   ],
   "source": [
    "sum"
   ]
  },
  {
   "cell_type": "code",
   "execution_count": 41,
   "id": "86a3fe7e",
   "metadata": {},
   "outputs": [
    {
     "data": {
      "text/plain": [
       "3.5"
      ]
     },
     "execution_count": 41,
     "metadata": {},
     "output_type": "execute_result"
    }
   ],
   "source": [
    "average=(num1+num2)/2\n",
    "average"
   ]
  },
  {
   "cell_type": "code",
   "execution_count": 42,
   "id": "263c1ff8",
   "metadata": {},
   "outputs": [],
   "source": [
    "minimum=min(num1, num2)"
   ]
  },
  {
   "cell_type": "code",
   "execution_count": 43,
   "id": "9a7e7c2b",
   "metadata": {},
   "outputs": [
    {
     "data": {
      "text/plain": [
       "2"
      ]
     },
     "execution_count": 43,
     "metadata": {},
     "output_type": "execute_result"
    }
   ],
   "source": [
    "minimum"
   ]
  },
  {
   "cell_type": "code",
   "execution_count": 45,
   "id": "1751ecfc",
   "metadata": {},
   "outputs": [
    {
     "data": {
      "text/plain": [
       "5"
      ]
     },
     "execution_count": 45,
     "metadata": {},
     "output_type": "execute_result"
    }
   ],
   "source": [
    "maximum=max(num1, num2)\n",
    "maximum"
   ]
  },
  {
   "cell_type": "code",
   "execution_count": null,
   "id": "d7592b0f",
   "metadata": {},
   "outputs": [],
   "source": []
  }
 ],
 "metadata": {
  "kernelspec": {
   "display_name": "Python 3 (ipykernel)",
   "language": "python",
   "name": "python3"
  },
  "language_info": {
   "codemirror_mode": {
    "name": "ipython",
    "version": 3
   },
   "file_extension": ".py",
   "mimetype": "text/x-python",
   "name": "python",
   "nbconvert_exporter": "python",
   "pygments_lexer": "ipython3",
   "version": "3.10.9"
  }
 },
 "nbformat": 4,
 "nbformat_minor": 5
}
