{
 "cells": [
  {
   "cell_type": "markdown",
   "id": "faf605bf",
   "metadata": {},
   "source": [
    "# <center> CONDITIONAL STATEMENTS IN PYTHON </CENTER>"
   ]
  },
  {
   "cell_type": "markdown",
   "id": "34f4be02",
   "metadata": {},
   "source": [
    "# if Statement:\n"
   ]
  },
  {
   "cell_type": "code",
   "execution_count": 1,
   "id": "9d825b74",
   "metadata": {},
   "outputs": [],
   "source": [
    "a=10\n",
    "b=20"
   ]
  },
  {
   "cell_type": "code",
   "execution_count": 2,
   "id": "a1814859",
   "metadata": {},
   "outputs": [],
   "source": [
    "if a>b:\n",
    "    print('a is greater than b')"
   ]
  },
  {
   "cell_type": "code",
   "execution_count": 3,
   "id": "01a08bff",
   "metadata": {},
   "outputs": [
    {
     "name": "stdout",
     "output_type": "stream",
     "text": [
      "b is greater than a\n"
     ]
    }
   ],
   "source": [
    "if b>a:\n",
    "    print('b is greater than a')"
   ]
  },
  {
   "cell_type": "markdown",
   "id": "799c7d88",
   "metadata": {},
   "source": [
    "# if-else Statement:"
   ]
  },
  {
   "cell_type": "code",
   "execution_count": 4,
   "id": "17c540ee",
   "metadata": {},
   "outputs": [
    {
     "name": "stdout",
     "output_type": "stream",
     "text": [
      "a is not greater than b\n"
     ]
    }
   ],
   "source": [
    "if a>b:\n",
    "    print('a is greater than b')\n",
    "else:\n",
    "    print('a is not greater than b')"
   ]
  },
  {
   "cell_type": "markdown",
   "id": "bf04a94a",
   "metadata": {},
   "source": [
    "# elif Statement:"
   ]
  },
  {
   "cell_type": "code",
   "execution_count": 5,
   "id": "2314235d",
   "metadata": {},
   "outputs": [],
   "source": [
    "a=10\n",
    "b=20\n",
    "c=30"
   ]
  },
  {
   "cell_type": "code",
   "execution_count": 6,
   "id": "8e8fe2a6",
   "metadata": {},
   "outputs": [
    {
     "name": "stdout",
     "output_type": "stream",
     "text": [
      "c is the greatest\n"
     ]
    }
   ],
   "source": [
    "if a>b and a>c:\n",
    "    print('a is the greatest')\n",
    "elif b>a and b>c:\n",
    "    print('b is the greatest')\n",
    "else:\n",
    "    print('c is the greatest')"
   ]
  },
  {
   "cell_type": "markdown",
   "id": "51b1f6b5",
   "metadata": {},
   "source": [
    "# <center> PRACTICE QUESTIONS </center>"
   ]
  },
  {
   "cell_type": "code",
   "execution_count": 17,
   "id": "5698f54c",
   "metadata": {},
   "outputs": [],
   "source": [
    "# Write a program that takes a student's score as input and \n",
    "# classifies it into grades (A, B, C, D, F) based on\n",
    "# predefined score ranges."
   ]
  },
  {
   "cell_type": "code",
   "execution_count": 32,
   "id": "1ec6005e",
   "metadata": {},
   "outputs": [
    {
     "name": "stdout",
     "output_type": "stream",
     "text": [
      "Enter the students score:85\n"
     ]
    }
   ],
   "source": [
    "grade=int(input('Enter the students score:'))"
   ]
  },
  {
   "cell_type": "code",
   "execution_count": 34,
   "id": "590ca5f1",
   "metadata": {},
   "outputs": [
    {
     "name": "stdout",
     "output_type": "stream",
     "text": [
      "B\n"
     ]
    }
   ],
   "source": [
    "if grade>=90 and grade<=100:\n",
    "    print('A')\n",
    "elif grade>=80 and grade<=89:\n",
    "    print('B')\n",
    "elif grade>=70 and grade<=79:\n",
    "    print('C')\n",
    "elif grade>=60 and grade<=69:\n",
    "    print('D')\n",
    "else:\n",
    "    print('F')"
   ]
  },
  {
   "cell_type": "code",
   "execution_count": 36,
   "id": "613eaa4c",
   "metadata": {},
   "outputs": [],
   "source": [
    "# Write a program that checks if a given year is a leap year.\n",
    "# A year is a leap year if it is divisible by 4, \n",
    "# except for years which are divisible by 100 but not 400."
   ]
  },
  {
   "cell_type": "code",
   "execution_count": 39,
   "id": "af84b105",
   "metadata": {},
   "outputs": [
    {
     "name": "stdout",
     "output_type": "stream",
     "text": [
      "Enter the year:2005\n"
     ]
    }
   ],
   "source": [
    "year=int(input('Enter the year:'))"
   ]
  },
  {
   "cell_type": "code",
   "execution_count": 40,
   "id": "135e51f7",
   "metadata": {},
   "outputs": [
    {
     "name": "stdout",
     "output_type": "stream",
     "text": [
      "This is not a leap year\n"
     ]
    }
   ],
   "source": [
    "if year%4==0:\n",
    "    print('This is a leap year')\n",
    "else:\n",
    "    print('This is not a leap year')"
   ]
  },
  {
   "cell_type": "code",
   "execution_count": 41,
   "id": "ffda209a",
   "metadata": {},
   "outputs": [],
   "source": [
    "# Given the lengths of three sides of a triangle, \n",
    "# determine whether the triangle is equilateral, \n",
    "# isosceles, or scalene.\n",
    "\n"
   ]
  },
  {
   "cell_type": "code",
   "execution_count": 51,
   "id": "9c0ff957",
   "metadata": {},
   "outputs": [
    {
     "name": "stdout",
     "output_type": "stream",
     "text": [
      "Enter the side 1 of the triangle:45\n",
      "Enter the side 2 of the triangle:45\n",
      "Enter the side 3 of the triangle:60\n"
     ]
    }
   ],
   "source": [
    "side1=int(input('Enter the side 1 of the triangle:'))\n",
    "side2=int(input('Enter the side 2 of the triangle:'))\n",
    "side3=int(input('Enter the side 3 of the triangle:'))"
   ]
  },
  {
   "cell_type": "code",
   "execution_count": 55,
   "id": "b7d4f7d8",
   "metadata": {},
   "outputs": [
    {
     "name": "stdout",
     "output_type": "stream",
     "text": [
      "This is an isoceles triangle\n"
     ]
    }
   ],
   "source": [
    "if side1==side2 and side1==side3:\n",
    "    print('This is an equilateral traingle')\n",
    "elif side1==side2 or side1==side3 or side2==side3:\n",
    "    print('This is an isoceles triangle')\n",
    "else:\n",
    "    print('This is scalene triangle')"
   ]
  },
  {
   "cell_type": "markdown",
   "id": "25531388",
   "metadata": {},
   "source": [
    "# <center> Quadratic Question Solver </center>"
   ]
  },
  {
   "cell_type": "markdown",
   "id": "ff4b74ea",
   "metadata": {},
   "source": [
    "# Input Coefficients:"
   ]
  },
  {
   "cell_type": "code",
   "execution_count": 69,
   "id": "fed9e6ac",
   "metadata": {},
   "outputs": [
    {
     "name": "stdout",
     "output_type": "stream",
     "text": [
      "Enter the coefficient 1:1\n",
      "Enter the coefficient 2:-3\n",
      "Enter the coefficient 3:2\n"
     ]
    }
   ],
   "source": [
    "a=int(input('Enter the coefficient 1:'))\n",
    "b=int(input('Enter the coefficient 2:'))\n",
    "c=int(input('Enter the coefficient 3:'))"
   ]
  },
  {
   "cell_type": "markdown",
   "id": "d7a1c072",
   "metadata": {},
   "source": [
    "# Calculate Discriminant:"
   ]
  },
  {
   "cell_type": "code",
   "execution_count": 70,
   "id": "9e67d16f",
   "metadata": {},
   "outputs": [],
   "source": [
    "D=b**2-4*a*c"
   ]
  },
  {
   "cell_type": "markdown",
   "id": "7c3206b9",
   "metadata": {},
   "source": [
    "# Determine Nature of Roots:"
   ]
  },
  {
   "cell_type": "code",
   "execution_count": 71,
   "id": "e24ea3a7",
   "metadata": {},
   "outputs": [
    {
     "name": "stdout",
     "output_type": "stream",
     "text": [
      "Nature of Roots: Real and Distinct\n",
      "Roots: 2.0 , 1.0\n"
     ]
    }
   ],
   "source": [
    "if D>0:\n",
    "    root1=(-b+D**0.5)/(2*a)\n",
    "    root2=(-b-D**0.5)/(2*a)\n",
    "    print('Nature of Roots: Real and Distinct')\n",
    "    print('Roots:', root1,',', root2)\n",
    "elif D==0:\n",
    "    root=-b/(2*a)\n",
    "    print('Nature of Roots: Real and equal')\n",
    "    print('Roots:', root)\n",
    "else:\n",
    "    real_part=-b/(2*a)\n",
    "    imaginary_part=(-D)**0.5/(2*a)\n",
    "    print('Nature of Roots: Roots are complex')\n",
    "    print('Roots:', real_part, '+', imaginary_part, 'i and', real_part, '-', imaginary_part, 'i')"
   ]
  }
 ],
 "metadata": {
  "kernelspec": {
   "display_name": "Python 3 (ipykernel)",
   "language": "python",
   "name": "python3"
  },
  "language_info": {
   "codemirror_mode": {
    "name": "ipython",
    "version": 3
   },
   "file_extension": ".py",
   "mimetype": "text/x-python",
   "name": "python",
   "nbconvert_exporter": "python",
   "pygments_lexer": "ipython3",
   "version": "3.10.9"
  }
 },
 "nbformat": 4,
 "nbformat_minor": 5
}
