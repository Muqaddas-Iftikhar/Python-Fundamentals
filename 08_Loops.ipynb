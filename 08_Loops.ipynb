{
 "cells": [
  {
   "cell_type": "markdown",
   "id": "b8cfc117",
   "metadata": {},
   "source": [
    "# <center> LOOPS IN PYTHON </CENTER>\n",
    "It is used to repeat the same task for multiple times. Two types of loops are used in python. These are:\n",
    "1. While loop\n",
    "2. For loop"
   ]
  },
  {
   "cell_type": "markdown",
   "id": "49e20f8c",
   "metadata": {},
   "source": [
    "# While loop:"
   ]
  },
  {
   "cell_type": "code",
   "execution_count": 1,
   "id": "49d0edbe",
   "metadata": {},
   "outputs": [],
   "source": [
    "i=1"
   ]
  },
  {
   "cell_type": "code",
   "execution_count": 2,
   "id": "1cd02dd9",
   "metadata": {},
   "outputs": [
    {
     "name": "stdout",
     "output_type": "stream",
     "text": [
      "1\n",
      "2\n",
      "3\n",
      "4\n",
      "5\n",
      "6\n",
      "7\n",
      "8\n",
      "9\n",
      "10\n"
     ]
    }
   ],
   "source": [
    "while i<=10:\n",
    "    print(i)\n",
    "    i=i+1"
   ]
  },
  {
   "cell_type": "markdown",
   "id": "feefb6fa",
   "metadata": {},
   "source": [
    "# Table of 2:"
   ]
  },
  {
   "cell_type": "code",
   "execution_count": 4,
   "id": "57b7cc24",
   "metadata": {},
   "outputs": [],
   "source": [
    "i=1\n",
    "n=2"
   ]
  },
  {
   "cell_type": "code",
   "execution_count": 5,
   "id": "c9f4c576",
   "metadata": {},
   "outputs": [
    {
     "name": "stdout",
     "output_type": "stream",
     "text": [
      "2 * 1 = 2\n",
      "2 * 2 = 4\n",
      "2 * 3 = 6\n",
      "2 * 4 = 8\n",
      "2 * 5 = 10\n",
      "2 * 6 = 12\n",
      "2 * 7 = 14\n",
      "2 * 8 = 16\n",
      "2 * 9 = 18\n",
      "2 * 10 = 20\n"
     ]
    }
   ],
   "source": [
    "while i<=10:\n",
    "    print(n, '*', i, '=', n*i)\n",
    "    i=i+1"
   ]
  },
  {
   "cell_type": "markdown",
   "id": "cde25b07",
   "metadata": {},
   "source": [
    "# While loop with list:"
   ]
  },
  {
   "cell_type": "code",
   "execution_count": 6,
   "id": "f7b47590",
   "metadata": {},
   "outputs": [],
   "source": [
    "list=[1, 2, 3, 4, 5]\n"
   ]
  },
  {
   "cell_type": "code",
   "execution_count": 7,
   "id": "12fb907d",
   "metadata": {},
   "outputs": [],
   "source": [
    "i=0"
   ]
  },
  {
   "cell_type": "code",
   "execution_count": 9,
   "id": "1c348059",
   "metadata": {},
   "outputs": [],
   "source": [
    "while i<len(list):\n",
    "    list[i]=list[i]+100\n",
    "    i=i+1"
   ]
  },
  {
   "cell_type": "code",
   "execution_count": 11,
   "id": "d007a1a7",
   "metadata": {},
   "outputs": [
    {
     "data": {
      "text/plain": [
       "[201, 202, 203, 204, 205]"
      ]
     },
     "execution_count": 11,
     "metadata": {},
     "output_type": "execute_result"
    }
   ],
   "source": [
    "list"
   ]
  },
  {
   "cell_type": "markdown",
   "id": "d32907c9",
   "metadata": {},
   "source": [
    "# For loop:\n",
    "It is used to iterate over a sequence (i.e. tuple, list, dictionary, sets...)"
   ]
  },
  {
   "cell_type": "code",
   "execution_count": 12,
   "id": "f7d7fc62",
   "metadata": {},
   "outputs": [],
   "source": [
    "l1=['Apple', 'Banana', 'Orange']"
   ]
  },
  {
   "cell_type": "code",
   "execution_count": 13,
   "id": "bcc80836",
   "metadata": {},
   "outputs": [
    {
     "name": "stdout",
     "output_type": "stream",
     "text": [
      "Apple\n",
      "Banana\n",
      "Orange\n"
     ]
    }
   ],
   "source": [
    "for i in l1:\n",
    "    print(i)"
   ]
  },
  {
   "cell_type": "code",
   "execution_count": 14,
   "id": "ba6b57bc",
   "metadata": {},
   "outputs": [],
   "source": [
    "l1=['Orange', 'Blue', 'Black', 'red']\n",
    "l2=['Book', 'chair', 'table', 'dressing']"
   ]
  },
  {
   "cell_type": "code",
   "execution_count": 16,
   "id": "71fcfdfe",
   "metadata": {},
   "outputs": [
    {
     "name": "stdout",
     "output_type": "stream",
     "text": [
      "Orange Book\n",
      "Orange chair\n",
      "Orange table\n",
      "Orange dressing\n",
      "Blue Book\n",
      "Blue chair\n",
      "Blue table\n",
      "Blue dressing\n",
      "Black Book\n",
      "Black chair\n",
      "Black table\n",
      "Black dressing\n",
      "red Book\n",
      "red chair\n",
      "red table\n",
      "red dressing\n"
     ]
    }
   ],
   "source": [
    "for i in l1:\n",
    "    for j in l2:\n",
    "        print(i, j)"
   ]
  },
  {
   "cell_type": "code",
   "execution_count": null,
   "id": "082fc6e3",
   "metadata": {},
   "outputs": [],
   "source": []
  }
 ],
 "metadata": {
  "kernelspec": {
   "display_name": "Python 3 (ipykernel)",
   "language": "python",
   "name": "python3"
  },
  "language_info": {
   "codemirror_mode": {
    "name": "ipython",
    "version": 3
   },
   "file_extension": ".py",
   "mimetype": "text/x-python",
   "name": "python",
   "nbconvert_exporter": "python",
   "pygments_lexer": "ipython3",
   "version": "3.10.9"
  }
 },
 "nbformat": 4,
 "nbformat_minor": 5
}
