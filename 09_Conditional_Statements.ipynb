{
 "cells": [
  {
   "cell_type": "markdown",
   "id": "0afc5a60",
   "metadata": {},
   "source": [
    "# Conditional Statements:"
   ]
  },
  {
   "cell_type": "markdown",
   "id": "4085c388",
   "metadata": {},
   "source": [
    "# Conditions:"
   ]
  },
  {
   "cell_type": "code",
   "execution_count": 2,
   "id": "677454a8",
   "metadata": {},
   "outputs": [],
   "source": [
    "a=5"
   ]
  },
  {
   "cell_type": "code",
   "execution_count": 3,
   "id": "bacc99aa",
   "metadata": {},
   "outputs": [
    {
     "data": {
      "text/plain": [
       "False"
      ]
     },
     "execution_count": 3,
     "metadata": {},
     "output_type": "execute_result"
    }
   ],
   "source": [
    "a==6"
   ]
  },
  {
   "cell_type": "code",
   "execution_count": 4,
   "id": "9c8ead38",
   "metadata": {},
   "outputs": [],
   "source": [
    "i=6"
   ]
  },
  {
   "cell_type": "code",
   "execution_count": 5,
   "id": "8a9def53",
   "metadata": {},
   "outputs": [
    {
     "data": {
      "text/plain": [
       "False"
      ]
     },
     "execution_count": 5,
     "metadata": {},
     "output_type": "execute_result"
    }
   ],
   "source": [
    "i=2\n",
    "i>5"
   ]
  },
  {
   "cell_type": "code",
   "execution_count": 6,
   "id": "84c339a4",
   "metadata": {},
   "outputs": [
    {
     "data": {
      "text/plain": [
       "True"
      ]
     },
     "execution_count": 6,
     "metadata": {},
     "output_type": "execute_result"
    }
   ],
   "source": [
    "i=6\n",
    "i>5"
   ]
  },
  {
   "cell_type": "code",
   "execution_count": 7,
   "id": "010cc23e",
   "metadata": {},
   "outputs": [
    {
     "data": {
      "text/plain": [
       "True"
      ]
     },
     "execution_count": 7,
     "metadata": {},
     "output_type": "execute_result"
    }
   ],
   "source": [
    "i=2\n",
    "i!=6"
   ]
  },
  {
   "cell_type": "code",
   "execution_count": 8,
   "id": "87a17556",
   "metadata": {},
   "outputs": [
    {
     "data": {
      "text/plain": [
       "False"
      ]
     },
     "execution_count": 8,
     "metadata": {},
     "output_type": "execute_result"
    }
   ],
   "source": [
    "i=6\n",
    "i!=6"
   ]
  },
  {
   "cell_type": "code",
   "execution_count": 9,
   "id": "6f5bfdd3",
   "metadata": {},
   "outputs": [
    {
     "data": {
      "text/plain": [
       "False"
      ]
     },
     "execution_count": 9,
     "metadata": {},
     "output_type": "execute_result"
    }
   ],
   "source": [
    "\"ACDC\"==\"Michael Jackson\""
   ]
  },
  {
   "cell_type": "code",
   "execution_count": 10,
   "id": "a5913b12",
   "metadata": {},
   "outputs": [
    {
     "data": {
      "text/plain": [
       "True"
      ]
     },
     "execution_count": 10,
     "metadata": {},
     "output_type": "execute_result"
    }
   ],
   "source": [
    "\"ACDC\"!=\"Michael Jackson\""
   ]
  },
  {
   "cell_type": "code",
   "execution_count": 11,
   "id": "9348b88c",
   "metadata": {},
   "outputs": [
    {
     "data": {
      "text/plain": [
       "False"
      ]
     },
     "execution_count": 11,
     "metadata": {},
     "output_type": "execute_result"
    }
   ],
   "source": [
    "'A'>'B'"
   ]
  },
  {
   "cell_type": "code",
   "execution_count": 12,
   "id": "843d85f6",
   "metadata": {},
   "outputs": [
    {
     "data": {
      "text/plain": [
       "True"
      ]
     },
     "execution_count": 12,
     "metadata": {},
     "output_type": "execute_result"
    }
   ],
   "source": [
    "'BA'>'AB'"
   ]
  },
  {
   "cell_type": "markdown",
   "id": "b5564f72",
   "metadata": {},
   "source": [
    "# Branching:"
   ]
  },
  {
   "cell_type": "code",
   "execution_count": 15,
   "id": "1d6bc00d",
   "metadata": {},
   "outputs": [
    {
     "name": "stdout",
     "output_type": "stream",
     "text": [
      "You can enter.\n"
     ]
    }
   ],
   "source": [
    "age=19\n",
    "if age>18:\n",
    "    print('You can enter.')\n",
    "else:\n",
    "    print(\"You cannnot enter.\")"
   ]
  },
  {
   "cell_type": "code",
   "execution_count": 17,
   "id": "37e4e6fc",
   "metadata": {},
   "outputs": [
    {
     "name": "stdout",
     "output_type": "stream",
     "text": [
      "You cannot enter.\n",
      "Move on!\n"
     ]
    }
   ],
   "source": [
    "age=18\n",
    "if age>18:\n",
    "    print(\"You can enter.\")\n",
    "else:\n",
    "    print(\"You cannot enter.\")\n",
    "print(\"Move on!\")    "
   ]
  },
  {
   "cell_type": "code",
   "execution_count": 18,
   "id": "21a15d02",
   "metadata": {},
   "outputs": [
    {
     "name": "stdout",
     "output_type": "stream",
     "text": [
      "Go to meatloaf.\n",
      "Move on!\n"
     ]
    }
   ],
   "source": [
    "age=18\n",
    "if age>18:\n",
    "    print(\"You can enter.\")\n",
    "elif age==18:\n",
    "    print(\"Go to meatloaf.\")\n",
    "else:\n",
    "    print(\"You cannot enter.\")\n",
    "print(\"Move on!\")    "
   ]
  },
  {
   "cell_type": "code",
   "execution_count": 19,
   "id": "0a612157",
   "metadata": {},
   "outputs": [
    {
     "name": "stdout",
     "output_type": "stream",
     "text": [
      "do somehting!\n"
     ]
    }
   ],
   "source": [
    "album_year=1983\n",
    "album_year=1970\n",
    "if album_year>1980:\n",
    "    print(\"Album year is greater than 1980.\")\n",
    "else:\n",
    "    print(\"do somehting!\")"
   ]
  },
  {
   "cell_type": "code",
   "execution_count": 20,
   "id": "073f7116",
   "metadata": {},
   "outputs": [],
   "source": [
    "# 1. There are 2 sisters, Annie and Jane, born in 1996 and 1999 respectively. \n",
    "# They want to know who was born in a leap year. \n",
    "# Write an if-else statement to determine who was born in a leap year."
   ]
  },
  {
   "cell_type": "code",
   "execution_count": 26,
   "id": "9f856502",
   "metadata": {},
   "outputs": [
    {
     "name": "stdout",
     "output_type": "stream",
     "text": [
      "Annie was born in leap year.\n",
      "End of program.\n"
     ]
    }
   ],
   "source": [
    "annie=1996\n",
    "jane=1999\n",
    "if annie%4==0:\n",
    "    print(\"Annie was born in leap year.\")\n",
    "elif jane%4==0:\n",
    "    print(\"Jane was born in leap year.\")\n",
    "else:\n",
    "    print(\"Ok\")\n",
    "print(\"End of program.\")    "
   ]
  },
  {
   "cell_type": "code",
   "execution_count": 27,
   "id": "b3eaaefb",
   "metadata": {},
   "outputs": [],
   "source": [
    "# Click here for the solution\n",
    "# In a school canteen, children under the age of 9\n",
    "# are only given milk porridge for breakfast. \n",
    "# Children from 10 to 14 are given a sandwich, \n",
    "# and children from 15 to 17 are given a burger.\n",
    "# The canteen master asks the age of the student and \n",
    "# gives them breakfast accordingly. Sam's age is 10.\n",
    "# Use if-else statement to determine\n",
    "# what the canteen master will offer to him."
   ]
  },
  {
   "cell_type": "code",
   "execution_count": 29,
   "id": "207a5a2a",
   "metadata": {},
   "outputs": [
    {
     "name": "stdout",
     "output_type": "stream",
     "text": [
      "Sandwitch for breakfast.\n"
     ]
    }
   ],
   "source": [
    "age=10\n",
    "if age<=9:\n",
    "    print(\"Milk poridge for breakfast.\")\n",
    "elif age>=10 and age<=14:\n",
    "    print(\"Sandwitch for breakfast.\")\n",
    "elif age>=15 and age<=17:\n",
    "    print(\"Burger for breakfast.\")\n",
    "else:\n",
    "    print(\"Sam's age is not within the range of the breakfast.\")"
   ]
  },
  {
   "cell_type": "markdown",
   "id": "48200489",
   "metadata": {},
   "source": [
    "# Practice Questions:"
   ]
  },
  {
   "cell_type": "code",
   "execution_count": 1,
   "id": "bdcb34bf",
   "metadata": {},
   "outputs": [
    {
     "name": "stdout",
     "output_type": "stream",
     "text": [
      "Enter the total purchase amount: 20\n"
     ]
    }
   ],
   "source": [
    "total_purchase_amount=int(input(\"Enter the total purchase amount: \"))"
   ]
  },
  {
   "cell_type": "code",
   "execution_count": 3,
   "id": "eaf5b8dc",
   "metadata": {},
   "outputs": [
    {
     "name": "stdout",
     "output_type": "stream",
     "text": [
      "Total Amount: 25\n",
      "End of program.\n"
     ]
    }
   ],
   "source": [
    "if total_purchase_amount<50:\n",
    "    shipping_amount=5\n",
    "    total_amount=total_purchase_amount+shipping_amount\n",
    "    print(\"Total Amount:\", total_amount)\n",
    "elif total_purchase_amount>=50 and total_purchase_amount<=100:\n",
    "    shipping_amount=10\n",
    "    total_purchase_amount=total_purchase_amount+shipping_amount\n",
    "    print(\"Total Amount:\", total_amount)\n",
    "elif total_purchase_amount>100:\n",
    "    print(\"Shipping cost is free.\")\n",
    "else:\n",
    "    print(\"-_-\")\n",
    "print(\"End of program.\")    "
   ]
  },
  {
   "cell_type": "code",
   "execution_count": 9,
   "id": "50c9c111",
   "metadata": {},
   "outputs": [
    {
     "name": "stdout",
     "output_type": "stream",
     "text": [
      "Enter the total purchase amount: 75\n",
      "Shipping cost:  10\n",
      "Total Amount:  85\n",
      "End of program.\n"
     ]
    }
   ],
   "source": [
    "total_purchase_amount=int(input(\"Enter the total purchase amount: \"))\n",
    "if total_purchase_amount<50:\n",
    "    shipping_amount=5\n",
    "    \n",
    "elif total_purchase_amount>=50 and total_purchase_amount<=100:\n",
    "    shipping_amount=10\n",
    "    \n",
    "else:\n",
    "    shipping_amount=0\n",
    "\n",
    "total_amount=total_purchase_amount+shipping_amount\n",
    "print(\"Shipping cost: \", shipping_amount)\n",
    "print(\"Total Amount: \", total_amount)\n",
    "print(\"End of program.\") "
   ]
  },
  {
   "cell_type": "markdown",
   "id": "be6918b7",
   "metadata": {},
   "source": [
    "# 2."
   ]
  },
  {
   "cell_type": "code",
   "execution_count": 15,
   "id": "a8ffa7d5",
   "metadata": {},
   "outputs": [
    {
     "name": "stdout",
     "output_type": "stream",
     "text": [
      "Enter the year: 1900\n",
      "This is not a leap year.\n"
     ]
    }
   ],
   "source": [
    "year=int(input(\"Enter the year: \"))\n",
    "\n",
    "if (year%4==0 and year % 100!=0) or (year%400==0):\n",
    "    print('This is a leap year.')\n",
    "else:\n",
    "    print('This is not a leap year.')"
   ]
  },
  {
   "cell_type": "code",
   "execution_count": 16,
   "id": "592d7cdc",
   "metadata": {},
   "outputs": [
    {
     "name": "stdout",
     "output_type": "stream",
     "text": [
      "Enter the year:1900\n",
      "This is a leap year.\n"
     ]
    }
   ],
   "source": [
    "year=int(input(\"Enter the year:\"))\n",
    "if (year%4==0):\n",
    "    print(\"This is a leap year.\")\n",
    "else:\n",
    "    prunt(\"This is not a leap year.\")"
   ]
  },
  {
   "cell_type": "markdown",
   "id": "57d03a3e",
   "metadata": {},
   "source": [
    "# 3."
   ]
  },
  {
   "cell_type": "code",
   "execution_count": 17,
   "id": "ddf03c4b",
   "metadata": {},
   "outputs": [
    {
     "name": "stdout",
     "output_type": "stream",
     "text": [
      "Enter the duration of the movie (in minutes):120\n"
     ]
    }
   ],
   "source": [
    "duration=int(input(\"Enter the duration of the movie (in minutes):\"))"
   ]
  },
  {
   "cell_type": "code",
   "execution_count": 18,
   "id": "a50e1a85",
   "metadata": {},
   "outputs": [
    {
     "name": "stdout",
     "output_type": "stream",
     "text": [
      "Feature Film\n"
     ]
    }
   ],
   "source": [
    "if duration < 90:\n",
    "    print(\"Short Film\")\n",
    "elif duration >=90 and duration <=150:\n",
    "    print(\"Feature Film\")\n",
    "else:\n",
    "    print('Epic')"
   ]
  },
  {
   "cell_type": "code",
   "execution_count": null,
   "id": "7c80a46a",
   "metadata": {},
   "outputs": [],
   "source": []
  }
 ],
 "metadata": {
  "kernelspec": {
   "display_name": "Python 3 (ipykernel)",
   "language": "python",
   "name": "python3"
  },
  "language_info": {
   "codemirror_mode": {
    "name": "ipython",
    "version": 3
   },
   "file_extension": ".py",
   "mimetype": "text/x-python",
   "name": "python",
   "nbconvert_exporter": "python",
   "pygments_lexer": "ipython3",
   "version": "3.10.9"
  }
 },
 "nbformat": 4,
 "nbformat_minor": 5
}
