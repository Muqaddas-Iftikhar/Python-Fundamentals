{
 "cells": [
  {
   "cell_type": "markdown",
   "id": "09fe1352",
   "metadata": {},
   "source": [
    "# Objects and Classes in Python:"
   ]
  },
  {
   "cell_type": "code",
   "execution_count": 3,
   "id": "7ca3fdcf",
   "metadata": {},
   "outputs": [],
   "source": [
    "class Car(object):\n",
    "    def __init__(self, make, model, color, owner_number):\n",
    "        self.make=make\n",
    "        self.model=model\n",
    "        self.color=color\n",
    "        self.owner_number=owner_number\n",
    "    def car_info(self):\n",
    "        print(\"Make:\", self.make)\n",
    "        print(\"Model:\", self.model)\n",
    "        print(\"Color:\", self.color)\n",
    "        print(\"Owner Number:\", self.owner_number)\n",
    "    def sell(self):\n",
    "        self.owner_number=self.owner_number+1"
   ]
  },
  {
   "cell_type": "code",
   "execution_count": 7,
   "id": "3c591557",
   "metadata": {},
   "outputs": [
    {
     "ename": "NameError",
     "evalue": "name 'owner_number' is not defined",
     "output_type": "error",
     "traceback": [
      "\u001b[1;31m---------------------------------------------------------------------------\u001b[0m",
      "\u001b[1;31mNameError\u001b[0m                                 Traceback (most recent call last)",
      "Cell \u001b[1;32mIn[7], line 1\u001b[0m\n\u001b[1;32m----> 1\u001b[0m my_Car\u001b[38;5;241m=\u001b[39mCar(make, model, color, \u001b[43mowner_number\u001b[49m)\n\u001b[0;32m      2\u001b[0m make\u001b[38;5;241m=\u001b[39m\u001b[38;5;124m\"\u001b[39m\u001b[38;5;124mBMW\u001b[39m\u001b[38;5;124m\"\u001b[39m\n\u001b[0;32m      3\u001b[0m model\u001b[38;5;241m=\u001b[39m\u001b[38;5;124m'\u001b[39m\u001b[38;5;124mM3\u001b[39m\u001b[38;5;124m'\u001b[39m\n",
      "\u001b[1;31mNameError\u001b[0m: name 'owner_number' is not defined"
     ]
    }
   ],
   "source": [
    "my_Car=Car(make, model, color, owner_number)\n",
    "make=\"BMW\"\n",
    "model='M3'\n",
    "color=\"Red\""
   ]
  },
  {
   "cell_type": "code",
   "execution_count": 9,
   "id": "893d9770",
   "metadata": {},
   "outputs": [],
   "source": [
    "import matplotlib.pyplot as plt\n",
    "%matplotlib inline"
   ]
  },
  {
   "cell_type": "code",
   "execution_count": 11,
   "id": "e9f3c0e8",
   "metadata": {},
   "outputs": [],
   "source": [
    "class Circle(object):\n",
    "    def __init__(self, color, radius):\n",
    "        self.color=color\n",
    "        self.radius=radius\n",
    "    def add_radius(self, r):\n",
    "        self.radius=self.radius+r\n",
    "        return (self.radius)"
   ]
  },
  {
   "cell_type": "code",
   "execution_count": 12,
   "id": "8e0ffa46",
   "metadata": {},
   "outputs": [],
   "source": [
    "class Cricle(object):\n",
    "    def __init__(self, radius=3, color='blue'):\n",
    "        self.radius=radius\n",
    "        self.color=color\n",
    "    def add_radius(self, r):\n",
    "        self.radius=self.radius+r\n",
    "        return (self.radius)\n",
    "    def drawCircle(self):\n",
    "        plt.gca().add_patch(plt.Circle((0, 0), radius=self.radius,fc=self.color))\n",
    "        plt.axis('scaled')\n",
    "        plt.show()"
   ]
  },
  {
   "cell_type": "code",
   "execution_count": 13,
   "id": "1ff2faa4",
   "metadata": {},
   "outputs": [],
   "source": [
    "redCircle=Circle(10, 'red')"
   ]
  },
  {
   "cell_type": "code",
   "execution_count": 14,
   "id": "b538553c",
   "metadata": {},
   "outputs": [
    {
     "data": {
      "text/plain": [
       "['__class__',\n",
       " '__delattr__',\n",
       " '__dict__',\n",
       " '__dir__',\n",
       " '__doc__',\n",
       " '__eq__',\n",
       " '__format__',\n",
       " '__ge__',\n",
       " '__getattribute__',\n",
       " '__gt__',\n",
       " '__hash__',\n",
       " '__init__',\n",
       " '__init_subclass__',\n",
       " '__le__',\n",
       " '__lt__',\n",
       " '__module__',\n",
       " '__ne__',\n",
       " '__new__',\n",
       " '__reduce__',\n",
       " '__reduce_ex__',\n",
       " '__repr__',\n",
       " '__setattr__',\n",
       " '__sizeof__',\n",
       " '__str__',\n",
       " '__subclasshook__',\n",
       " '__weakref__',\n",
       " 'add_radius',\n",
       " 'color',\n",
       " 'radius']"
      ]
     },
     "execution_count": 14,
     "metadata": {},
     "output_type": "execute_result"
    }
   ],
   "source": [
    "dir(redCircle)"
   ]
  },
  {
   "cell_type": "code",
   "execution_count": 16,
   "id": "e829a2de",
   "metadata": {},
   "outputs": [
    {
     "data": {
      "text/plain": [
       "'red'"
      ]
     },
     "execution_count": 16,
     "metadata": {},
     "output_type": "execute_result"
    }
   ],
   "source": [
    "redCircle.radius"
   ]
  },
  {
   "cell_type": "code",
   "execution_count": 17,
   "id": "a8f52b7a",
   "metadata": {},
   "outputs": [
    {
     "data": {
      "text/plain": [
       "10"
      ]
     },
     "execution_count": 17,
     "metadata": {},
     "output_type": "execute_result"
    }
   ],
   "source": [
    "redCircle.color"
   ]
  },
  {
   "cell_type": "code",
   "execution_count": 18,
   "id": "1779fa36",
   "metadata": {},
   "outputs": [
    {
     "data": {
      "text/plain": [
       "1"
      ]
     },
     "execution_count": 18,
     "metadata": {},
     "output_type": "execute_result"
    }
   ],
   "source": [
    "redCircle.radius=1\n",
    "redCircle.radius"
   ]
  },
  {
   "cell_type": "code",
   "execution_count": 19,
   "id": "47488718",
   "metadata": {},
   "outputs": [
    {
     "ename": "AttributeError",
     "evalue": "'Circle' object has no attribute 'drawCircle'",
     "output_type": "error",
     "traceback": [
      "\u001b[1;31m---------------------------------------------------------------------------\u001b[0m",
      "\u001b[1;31mAttributeError\u001b[0m                            Traceback (most recent call last)",
      "Cell \u001b[1;32mIn[19], line 1\u001b[0m\n\u001b[1;32m----> 1\u001b[0m \u001b[43mredCircle\u001b[49m\u001b[38;5;241;43m.\u001b[39;49m\u001b[43mdrawCircle\u001b[49m()\n",
      "\u001b[1;31mAttributeError\u001b[0m: 'Circle' object has no attribute 'drawCircle'"
     ]
    }
   ],
   "source": [
    "redCircle.drawCircle()"
   ]
  },
  {
   "cell_type": "code",
   "execution_count": 20,
   "id": "0b3bfcae",
   "metadata": {},
   "outputs": [
    {
     "data": {
      "text/plain": [
       "8"
      ]
     },
     "execution_count": 20,
     "metadata": {},
     "output_type": "execute_result"
    }
   ],
   "source": [
    "redCircle.add_radius(2)\n",
    "redCircle.add_radius(5)"
   ]
  },
  {
   "cell_type": "code",
   "execution_count": 21,
   "id": "0e2065b6",
   "metadata": {},
   "outputs": [],
   "source": [
    "class Car(object):\n",
    "    def __init__(self, make, model, color):\n",
    "        self.make=make\n",
    "        self.model=model\n",
    "        self.color=color"
   ]
  },
  {
   "cell_type": "code",
   "execution_count": 24,
   "id": "45511313",
   "metadata": {},
   "outputs": [],
   "source": [
    "myCar=Car('Honda', 'Accord', 'Blue')"
   ]
  },
  {
   "cell_type": "code",
   "execution_count": 25,
   "id": "99e6e311",
   "metadata": {},
   "outputs": [],
   "source": [
    "myCar=Car(make='Honda', model='Accord', color='Blue')"
   ]
  },
  {
   "cell_type": "code",
   "execution_count": 26,
   "id": "4c6df67a",
   "metadata": {},
   "outputs": [],
   "source": [
    "myCar=Car( model='Accord', make='Honda', color='Blue')"
   ]
  },
  {
   "cell_type": "code",
   "execution_count": 27,
   "id": "9a64ed0e",
   "metadata": {},
   "outputs": [],
   "source": [
    "myCar=Car( 'Accord', 'Honda', 'Blue')"
   ]
  },
  {
   "cell_type": "code",
   "execution_count": null,
   "id": "b683fce3",
   "metadata": {},
   "outputs": [],
   "source": []
  }
 ],
 "metadata": {
  "kernelspec": {
   "display_name": "Python 3 (ipykernel)",
   "language": "python",
   "name": "python3"
  },
  "language_info": {
   "codemirror_mode": {
    "name": "ipython",
    "version": 3
   },
   "file_extension": ".py",
   "mimetype": "text/x-python",
   "name": "python",
   "nbconvert_exporter": "python",
   "pygments_lexer": "ipython3",
   "version": "3.10.9"
  }
 },
 "nbformat": 4,
 "nbformat_minor": 5
}
