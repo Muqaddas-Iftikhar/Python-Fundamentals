{
 "cells": [
  {
   "cell_type": "markdown",
   "id": "534b140b",
   "metadata": {},
   "source": [
    "# <center> COMPLETE OOP CONCEPTS </CENTER>"
   ]
  },
  {
   "cell_type": "code",
   "execution_count": 1,
   "id": "f2135f17",
   "metadata": {},
   "outputs": [],
   "source": [
    "class Atm: # ATM Class \n",
    "    \n",
    "    def __init__(self): # constructor\n",
    "        self.__pin=''\n",
    "        self.__balance=0\n",
    "        \n",
    "        print(id(self))\n",
    "\n",
    "        self.menu()\n",
    "        \n",
    "    def __menu(self): # Method\n",
    "        user_input=input('''\n",
    "        Hello, how would you like to proceed?\n",
    "        1. Enter 1 to create pin\n",
    "        2. Enter 2 to deposit\n",
    "        3. Enter 3 to withdraw\n",
    "        4. Enter 4 to check balance\n",
    "        5. Enter 5 to exit\n",
    "        ''')\n",
    "        \n",
    "        if user_input=='1':\n",
    "            self.create_pin()\n",
    "        elif user_input=='2':\n",
    "            self.deposit()\n",
    "        elif user_input=='3':\n",
    "            self.withdraw()\n",
    "        elif user_input=='4':\n",
    "            self.check_balance()\n",
    "        else:\n",
    "            print('bye')\n",
    "            \n",
    "    def create_pin(self):\n",
    "        self.__pin=input('Enter your pin:')\n",
    "        print('Pin set successfully')\n",
    "        \n",
    "    def deposit(self):\n",
    "        temp=input('Enter your pin:')\n",
    "        if temp==self.__pin:\n",
    "            amount=int(input('Enter the amount:'))\n",
    "            self.__balance=self.__balance+amount\n",
    "            print('Deposit successfully')\n",
    "        else:\n",
    "            print('Invalid pin')\n",
    "           \n",
    "    def withdraw(self):\n",
    "        temp=input('Enter your pin:')\n",
    "        if temp==self.__pin:\n",
    "            amount=int(input('Enter the amount:'))\n",
    "            if amount<self.__balance:\n",
    "                self.__balance=self.__balance-amount\n",
    "                print('Operation successful')\n",
    "            else:\n",
    "                print('insufficient funds')\n",
    "        else:\n",
    "            print('Invalid pin')\n",
    "            \n",
    "    def check_balance(self):\n",
    "        temp=input('Enter your pin:')\n",
    "        if temp==self.__pin:\n",
    "            print(self.__balance)\n",
    "        else:\n",
    "            print('Invalid pin')\n",
    "            \n",
    "    def exit(self):\n",
    "        temp=input('Enter your pin:')\n",
    "        print('Exit')"
   ]
  },
  {
   "cell_type": "code",
   "execution_count": 2,
   "id": "68fbbe58",
   "metadata": {},
   "outputs": [
    {
     "name": "stdout",
     "output_type": "stream",
     "text": [
      "2334798756640\n",
      "\n",
      "        Hello, how would you like to proceed?\n",
      "        1. Enter 1 to create pin\n",
      "        2. Enter 2 to deposit\n",
      "        3. Enter 3 to withdraw\n",
      "        4. Enter 4 to check balance\n",
      "        5. Enter 5 to exit\n",
      "        123\n",
      "bye\n"
     ]
    }
   ],
   "source": [
    "a1=Atm() # a1 is the object or instance of the ATM Class"
   ]
  },
  {
   "cell_type": "code",
   "execution_count": 3,
   "id": "89aec17d",
   "metadata": {},
   "outputs": [
    {
     "name": "stdout",
     "output_type": "stream",
     "text": [
      "Enter your pin:123\n",
      "Invalid pin\n"
     ]
    }
   ],
   "source": [
    "a1.deposit()"
   ]
  },
  {
   "cell_type": "code",
   "execution_count": 4,
   "id": "18ec4ebc",
   "metadata": {},
   "outputs": [
    {
     "name": "stdout",
     "output_type": "stream",
     "text": [
      "Enter your pin:123\n",
      "Invalid pin\n"
     ]
    }
   ],
   "source": [
    "a1.withdraw()"
   ]
  },
  {
   "cell_type": "code",
   "execution_count": 5,
   "id": "73f48d18",
   "metadata": {},
   "outputs": [
    {
     "name": "stdout",
     "output_type": "stream",
     "text": [
      "Enter your pin:123\n",
      "Invalid pin\n"
     ]
    }
   ],
   "source": [
    "a1.check_balance()"
   ]
  },
  {
   "cell_type": "code",
   "execution_count": 6,
   "id": "85d15ffc",
   "metadata": {},
   "outputs": [
    {
     "name": "stdout",
     "output_type": "stream",
     "text": [
      "Enter your pin:123\n",
      "Exit\n"
     ]
    }
   ],
   "source": [
    "a1.exit()"
   ]
  },
  {
   "cell_type": "code",
   "execution_count": 5,
   "id": "ac27e8e3",
   "metadata": {},
   "outputs": [
    {
     "name": "stdout",
     "output_type": "stream",
     "text": [
      "\n",
      "        Hello, how would you like to proceed?\n",
      "        1. Enter 1 to create pin\n",
      "        2. Enter 2 to deposit\n",
      "        3. Enter 3 to withdraw\n",
      "        4. Enter 4 to check balance\n",
      "        5. Enter 5 to exit\n",
      "        1\n",
      "Enter your pin:236\n",
      "Pin set successfully\n"
     ]
    }
   ],
   "source": [
    "a2=Atm()"
   ]
  },
  {
   "cell_type": "code",
   "execution_count": 6,
   "id": "4157661e",
   "metadata": {},
   "outputs": [
    {
     "name": "stdout",
     "output_type": "stream",
     "text": [
      "Enter your pin:256\n",
      "Invalid pin\n"
     ]
    }
   ],
   "source": [
    "a2.deposit()"
   ]
  },
  {
   "cell_type": "code",
   "execution_count": 8,
   "id": "51106365",
   "metadata": {},
   "outputs": [
    {
     "name": "stdout",
     "output_type": "stream",
     "text": [
      "Enter your pin:123\n",
      "Invalid pin\n"
     ]
    }
   ],
   "source": [
    "a2.withdraw()"
   ]
  },
  {
   "cell_type": "code",
   "execution_count": 9,
   "id": "fb782115",
   "metadata": {},
   "outputs": [
    {
     "name": "stdout",
     "output_type": "stream",
     "text": [
      "Enter your pin:236\n",
      "0\n"
     ]
    }
   ],
   "source": [
    "a2.check_balance()"
   ]
  },
  {
   "cell_type": "code",
   "execution_count": null,
   "id": "97196641",
   "metadata": {},
   "outputs": [],
   "source": [
    "a2.exit()"
   ]
  },
  {
   "cell_type": "code",
   "execution_count": 3,
   "id": "4b82af34",
   "metadata": {},
   "outputs": [
    {
     "data": {
      "text/plain": [
       "2181614767072"
      ]
     },
     "execution_count": 3,
     "metadata": {},
     "output_type": "execute_result"
    }
   ],
   "source": [
    "id(a1)"
   ]
  },
  {
   "cell_type": "markdown",
   "id": "b89b73f1",
   "metadata": {},
   "source": [
    "# Fraction Class:"
   ]
  },
  {
   "cell_type": "code",
   "execution_count": 61,
   "id": "9d1301d7",
   "metadata": {},
   "outputs": [],
   "source": [
    "class Fraction:\n",
    "    def __init__(self, denominator, numerator):\n",
    "        self.denominator=denominator\n",
    "        self.numerator=numerator \n",
    "    \n",
    "    def __str__(self):\n",
    "        return \"{}/{}\".format(self.numerator, self.denominator)\n",
    "    \n",
    "    def __add__(self, other):\n",
    "        temp_num=self.numerator * other.denominator + other.numerator * self.denominator\n",
    "        temp_den=self.denominator*other.denominator\n",
    "        return Fraction(temp_num, temp_den)\n",
    "    \n",
    "    def __sub__(self, other):\n",
    "        temp_num=self.numerator * other.denominator - other.numerator * self.denominator\n",
    "        temp_den=self.denominator*other.denominator\n",
    "        return Fraction(temp_num, temp_den)\n",
    "    \n",
    "    def __mul__(self, other):\n",
    "        temp_num=self.numerator * other.numerator\n",
    "        temp_den=self.denominator*other.denominator\n",
    "        return Fraction(temp_num, temp_den)\n",
    "    \n",
    "    def __truediv__(self, other):\n",
    "        temp_num=self.numerator / other.denominator\n",
    "        temp_den=self.denominator*other.denominator\n",
    "        return Fraction(temp_num, temp_den)"
   ]
  },
  {
   "cell_type": "code",
   "execution_count": 62,
   "id": "30a0a8c7",
   "metadata": {},
   "outputs": [],
   "source": [
    "fraction1=Fraction(5, 6)"
   ]
  },
  {
   "cell_type": "code",
   "execution_count": 63,
   "id": "1b841b4a",
   "metadata": {},
   "outputs": [],
   "source": [
    "fraction2=Fraction(3, 4)"
   ]
  },
  {
   "cell_type": "code",
   "execution_count": 64,
   "id": "20a20fdb",
   "metadata": {},
   "outputs": [],
   "source": [
    "sum=fraction1+fraction2"
   ]
  },
  {
   "cell_type": "code",
   "execution_count": 65,
   "id": "a564af13",
   "metadata": {},
   "outputs": [],
   "source": [
    "subtract=fraction1-fraction2"
   ]
  },
  {
   "cell_type": "code",
   "execution_count": 66,
   "id": "01fff2ae",
   "metadata": {},
   "outputs": [],
   "source": [
    "product=fraction1*fraction2"
   ]
  },
  {
   "cell_type": "code",
   "execution_count": 67,
   "id": "83e58813",
   "metadata": {},
   "outputs": [],
   "source": [
    "division=fraction1/fraction2"
   ]
  },
  {
   "cell_type": "code",
   "execution_count": 68,
   "id": "a2e83981",
   "metadata": {},
   "outputs": [
    {
     "name": "stdout",
     "output_type": "stream",
     "text": [
      "6/5 + 4/3 = 15/38\n",
      "6/5 - 4/3 = 15/-2\n",
      "6/5 * 4/3 = 15/24\n",
      "6/5 / 4/3 = 15/2.0\n"
     ]
    }
   ],
   "source": [
    "print(fraction1, '+', fraction2, '=', sum)\n",
    "print(fraction1, '-', fraction2, '=', subtract)\n",
    "print(fraction1, '*', fraction2, '=', product)\n",
    "print(fraction1, '/', fraction2, '=', division)"
   ]
  },
  {
   "cell_type": "code",
   "execution_count": null,
   "id": "b4b5ce2d",
   "metadata": {},
   "outputs": [],
   "source": []
  }
 ],
 "metadata": {
  "kernelspec": {
   "display_name": "Python 3 (ipykernel)",
   "language": "python",
   "name": "python3"
  },
  "language_info": {
   "codemirror_mode": {
    "name": "ipython",
    "version": 3
   },
   "file_extension": ".py",
   "mimetype": "text/x-python",
   "name": "python",
   "nbconvert_exporter": "python",
   "pygments_lexer": "ipython3",
   "version": "3.10.9"
  }
 },
 "nbformat": 4,
 "nbformat_minor": 5
}
