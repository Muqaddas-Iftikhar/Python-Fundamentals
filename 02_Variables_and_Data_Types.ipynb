{
 "cells": [
  {
   "cell_type": "markdown",
   "id": "155839ee",
   "metadata": {},
   "source": [
    "# <center> Variables and Data Types </center>"
   ]
  },
  {
   "cell_type": "markdown",
   "id": "b00badf4",
   "metadata": {},
   "source": [
    "# <CENTER> VARIABLES </CENTER>\n",
    "A variable is a temporary storage location in which we store the value. We can change the value of the variable as it is used to temporary store the value in the variable."
   ]
  },
  {
   "cell_type": "code",
   "execution_count": 1,
   "id": "691d77c3",
   "metadata": {},
   "outputs": [
    {
     "name": "stdout",
     "output_type": "stream",
     "text": [
      "John\n"
     ]
    }
   ],
   "source": [
    "employee_name=\"John\"\n",
    "print(employee_name)"
   ]
  },
  {
   "cell_type": "code",
   "execution_count": 2,
   "id": "766f20d6",
   "metadata": {},
   "outputs": [
    {
     "name": "stdout",
     "output_type": "stream",
     "text": [
      "Sam\n"
     ]
    }
   ],
   "source": [
    "employee_name='Sam'\n",
    "print(employee_name)"
   ]
  },
  {
   "cell_type": "code",
   "execution_count": 3,
   "id": "787035c5",
   "metadata": {},
   "outputs": [
    {
     "name": "stdout",
     "output_type": "stream",
     "text": [
      "Matt\n"
     ]
    }
   ],
   "source": [
    "employee_name='Matt'\n",
    "print(employee_name)"
   ]
  },
  {
   "cell_type": "markdown",
   "id": "408272b7",
   "metadata": {},
   "source": [
    "# <center> DATA TYPES </center>\n",
    "Every variable is associated with a data type. Different types of variables are used for different purposes such as:\n",
    "1. integer (i.e. numerical value without decimals)\n",
    "2. Float (i.e. numerical value with decimals)\n",
    "3. Boolean (i.e. True/False)\n",
    "4. String (i.e. textual data enclosed within the single, double or triple quotation marks)"
   ]
  },
  {
   "cell_type": "markdown",
   "id": "226e709b",
   "metadata": {},
   "source": [
    "# Integer data type:"
   ]
  },
  {
   "cell_type": "code",
   "execution_count": 4,
   "id": "c24af109",
   "metadata": {},
   "outputs": [
    {
     "name": "stdout",
     "output_type": "stream",
     "text": [
      "100\n"
     ]
    }
   ],
   "source": [
    "a1=100\n",
    "print(a1)"
   ]
  },
  {
   "cell_type": "code",
   "execution_count": 5,
   "id": "0f9625ef",
   "metadata": {},
   "outputs": [
    {
     "data": {
      "text/plain": [
       "int"
      ]
     },
     "execution_count": 5,
     "metadata": {},
     "output_type": "execute_result"
    }
   ],
   "source": [
    "type(a1)"
   ]
  },
  {
   "cell_type": "markdown",
   "id": "5a096ddc",
   "metadata": {},
   "source": [
    "# Floating Point:"
   ]
  },
  {
   "cell_type": "code",
   "execution_count": 8,
   "id": "7ae53edd",
   "metadata": {},
   "outputs": [
    {
     "name": "stdout",
     "output_type": "stream",
     "text": [
      "3.14\n"
     ]
    },
    {
     "data": {
      "text/plain": [
       "float"
      ]
     },
     "execution_count": 8,
     "metadata": {},
     "output_type": "execute_result"
    }
   ],
   "source": [
    "a1=3.14\n",
    "print(a1)\n",
    "type(a1)"
   ]
  },
  {
   "cell_type": "markdown",
   "id": "889c0894",
   "metadata": {},
   "source": [
    "# Boolean:"
   ]
  },
  {
   "cell_type": "code",
   "execution_count": 9,
   "id": "22b938d8",
   "metadata": {},
   "outputs": [
    {
     "name": "stdout",
     "output_type": "stream",
     "text": [
      "True\n"
     ]
    },
    {
     "data": {
      "text/plain": [
       "bool"
      ]
     },
     "execution_count": 9,
     "metadata": {},
     "output_type": "execute_result"
    }
   ],
   "source": [
    "a1=True\n",
    "print(a1)\n",
    "type(a1)"
   ]
  },
  {
   "cell_type": "markdown",
   "id": "e9609737",
   "metadata": {},
   "source": [
    "# String:"
   ]
  },
  {
   "cell_type": "code",
   "execution_count": 10,
   "id": "ef32e798",
   "metadata": {},
   "outputs": [
    {
     "name": "stdout",
     "output_type": "stream",
     "text": [
      "Muqaddas\n"
     ]
    },
    {
     "data": {
      "text/plain": [
       "str"
      ]
     },
     "execution_count": 10,
     "metadata": {},
     "output_type": "execute_result"
    }
   ],
   "source": [
    "a1='Muqaddas'\n",
    "print(a1)\n",
    "type(a1)"
   ]
  },
  {
   "cell_type": "markdown",
   "id": "d9bbeb18",
   "metadata": {},
   "source": [
    "# Complex:"
   ]
  },
  {
   "cell_type": "code",
   "execution_count": 11,
   "id": "e549ff8d",
   "metadata": {},
   "outputs": [
    {
     "name": "stdout",
     "output_type": "stream",
     "text": [
      "(3+5j)\n"
     ]
    },
    {
     "data": {
      "text/plain": [
       "complex"
      ]
     },
     "execution_count": 11,
     "metadata": {},
     "output_type": "execute_result"
    }
   ],
   "source": [
    "a1=3+5j\n",
    "print(a1)\n",
    "type(a1)"
   ]
  },
  {
   "cell_type": "markdown",
   "id": "4a5bd39b",
   "metadata": {},
   "source": []
  }
 ],
 "metadata": {
  "kernelspec": {
   "display_name": "Python 3 (ipykernel)",
   "language": "python",
   "name": "python3"
  },
  "language_info": {
   "codemirror_mode": {
    "name": "ipython",
    "version": 3
   },
   "file_extension": ".py",
   "mimetype": "text/x-python",
   "name": "python",
   "nbconvert_exporter": "python",
   "pygments_lexer": "ipython3",
   "version": "3.10.9"
  }
 },
 "nbformat": 4,
 "nbformat_minor": 5
}
