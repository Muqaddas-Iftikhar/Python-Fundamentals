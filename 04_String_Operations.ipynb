{
 "cells": [
  {
   "cell_type": "markdown",
   "id": "3d169f67",
   "metadata": {},
   "source": [
    "# String Operations:"
   ]
  },
  {
   "cell_type": "code",
   "execution_count": 1,
   "id": "fe8f92e6",
   "metadata": {},
   "outputs": [
    {
     "name": "stdout",
     "output_type": "stream",
     "text": [
      "0123456\n"
     ]
    }
   ],
   "source": [
    "numbers=\"0123456\"\n",
    "print(numbers)"
   ]
  },
  {
   "cell_type": "code",
   "execution_count": 2,
   "id": "717adf52",
   "metadata": {},
   "outputs": [
    {
     "name": "stdout",
     "output_type": "stream",
     "text": [
      "<class 'str'>\n"
     ]
    }
   ],
   "source": [
    "print(type(numbers))"
   ]
  },
  {
   "cell_type": "code",
   "execution_count": 3,
   "id": "e2b94d0a",
   "metadata": {},
   "outputs": [
    {
     "data": {
      "text/plain": [
       "'0246'"
      ]
     },
     "execution_count": 3,
     "metadata": {},
     "output_type": "execute_result"
    }
   ],
   "source": [
    "numbers[::2]"
   ]
  },
  {
   "cell_type": "code",
   "execution_count": 4,
   "id": "50033744",
   "metadata": {},
   "outputs": [
    {
     "data": {
      "text/plain": [
       "1"
      ]
     },
     "execution_count": 4,
     "metadata": {},
     "output_type": "execute_result"
    }
   ],
   "source": [
    "\"0123456\".find('1')"
   ]
  },
  {
   "cell_type": "code",
   "execution_count": 7,
   "id": "eb047621",
   "metadata": {},
   "outputs": [
    {
     "data": {
      "text/plain": [
       "2"
      ]
     },
     "execution_count": 7,
     "metadata": {},
     "output_type": "execute_result"
    }
   ],
   "source": [
    "\"01234562253\".find('2')"
   ]
  },
  {
   "cell_type": "code",
   "execution_count": 8,
   "id": "0d73f975",
   "metadata": {},
   "outputs": [
    {
     "data": {
      "text/plain": [
       "'Michael Jackson'"
      ]
     },
     "execution_count": 8,
     "metadata": {},
     "output_type": "execute_result"
    }
   ],
   "source": [
    "'Michael Jackson' # single quotation marks"
   ]
  },
  {
   "cell_type": "code",
   "execution_count": 9,
   "id": "cf924511",
   "metadata": {},
   "outputs": [
    {
     "data": {
      "text/plain": [
       "'Michael Jackson'"
      ]
     },
     "execution_count": 9,
     "metadata": {},
     "output_type": "execute_result"
    }
   ],
   "source": [
    "\"Michael Jackson\" # double quotation marks"
   ]
  },
  {
   "cell_type": "code",
   "execution_count": 10,
   "id": "150db45d",
   "metadata": {},
   "outputs": [
    {
     "data": {
      "text/plain": [
       "'Michael Jackson'"
      ]
     },
     "execution_count": 10,
     "metadata": {},
     "output_type": "execute_result"
    }
   ],
   "source": [
    "'''Michael Jackson''' # triple single quotation marks''"
   ]
  },
  {
   "cell_type": "code",
   "execution_count": 11,
   "id": "75deec6a",
   "metadata": {},
   "outputs": [
    {
     "data": {
      "text/plain": [
       "'Michael Jackson'"
      ]
     },
     "execution_count": 11,
     "metadata": {},
     "output_type": "execute_result"
    }
   ],
   "source": [
    "\"\"\"Michael Jackson\"\"\" # triple double quotation marks"
   ]
  },
  {
   "cell_type": "code",
   "execution_count": 12,
   "id": "8d7969bf",
   "metadata": {},
   "outputs": [
    {
     "data": {
      "text/plain": [
       "'123456'"
      ]
     },
     "execution_count": 12,
     "metadata": {},
     "output_type": "execute_result"
    }
   ],
   "source": [
    "'123456'"
   ]
  },
  {
   "cell_type": "code",
   "execution_count": 13,
   "id": "9d558e48",
   "metadata": {},
   "outputs": [
    {
     "data": {
      "text/plain": [
       "'1 2 3 4 5 6'"
      ]
     },
     "execution_count": 13,
     "metadata": {},
     "output_type": "execute_result"
    }
   ],
   "source": [
    "'1 2 3 4 5 6'"
   ]
  },
  {
   "cell_type": "code",
   "execution_count": 14,
   "id": "26e234e5",
   "metadata": {},
   "outputs": [
    {
     "data": {
      "text/plain": [
       "'@#$%&*'"
      ]
     },
     "execution_count": 14,
     "metadata": {},
     "output_type": "execute_result"
    }
   ],
   "source": [
    "'@#$%&*'"
   ]
  },
  {
   "cell_type": "code",
   "execution_count": 15,
   "id": "f2a18c57",
   "metadata": {},
   "outputs": [
    {
     "name": "stdout",
     "output_type": "stream",
     "text": [
      "Hello!\n"
     ]
    }
   ],
   "source": [
    "print(\"Hello!\")"
   ]
  },
  {
   "cell_type": "code",
   "execution_count": 17,
   "id": "38219cf5",
   "metadata": {},
   "outputs": [],
   "source": [
    "name='Machael Jackson'"
   ]
  },
  {
   "cell_type": "code",
   "execution_count": 18,
   "id": "7d8e9ae8",
   "metadata": {},
   "outputs": [
    {
     "data": {
      "text/plain": [
       "'Machael Jackson'"
      ]
     },
     "execution_count": 18,
     "metadata": {},
     "output_type": "execute_result"
    }
   ],
   "source": [
    "name"
   ]
  },
  {
   "cell_type": "code",
   "execution_count": 19,
   "id": "cfbf936f",
   "metadata": {},
   "outputs": [
    {
     "name": "stdout",
     "output_type": "stream",
     "text": [
      "M\n"
     ]
    }
   ],
   "source": [
    "print(name[0])"
   ]
  },
  {
   "cell_type": "code",
   "execution_count": 20,
   "id": "8dec900a",
   "metadata": {},
   "outputs": [
    {
     "name": "stdout",
     "output_type": "stream",
     "text": [
      "l\n"
     ]
    }
   ],
   "source": [
    "print(name[6])"
   ]
  },
  {
   "cell_type": "code",
   "execution_count": 21,
   "id": "2ee2df4f",
   "metadata": {},
   "outputs": [
    {
     "name": "stdout",
     "output_type": "stream",
     "text": [
      "o\n"
     ]
    }
   ],
   "source": [
    "print(name[13])"
   ]
  },
  {
   "cell_type": "code",
   "execution_count": 22,
   "id": "7e7679dc",
   "metadata": {},
   "outputs": [
    {
     "name": "stdout",
     "output_type": "stream",
     "text": [
      "n\n"
     ]
    }
   ],
   "source": [
    "print(name[-1])"
   ]
  },
  {
   "cell_type": "code",
   "execution_count": 23,
   "id": "0a7076e2",
   "metadata": {},
   "outputs": [
    {
     "name": "stdout",
     "output_type": "stream",
     "text": [
      "M\n"
     ]
    }
   ],
   "source": [
    "print(name[-15])"
   ]
  },
  {
   "cell_type": "code",
   "execution_count": 24,
   "id": "4c0180d7",
   "metadata": {},
   "outputs": [
    {
     "name": "stdout",
     "output_type": "stream",
     "text": [
      "15\n"
     ]
    }
   ],
   "source": [
    "print(len(name))"
   ]
  },
  {
   "cell_type": "code",
   "execution_count": 25,
   "id": "6b913224",
   "metadata": {},
   "outputs": [
    {
     "data": {
      "text/plain": [
       "'Mach'"
      ]
     },
     "execution_count": 25,
     "metadata": {},
     "output_type": "execute_result"
    }
   ],
   "source": [
    "name[0:4]"
   ]
  },
  {
   "cell_type": "code",
   "execution_count": 26,
   "id": "9f070da2",
   "metadata": {},
   "outputs": [
    {
     "data": {
      "text/plain": [
       "'Jack'"
      ]
     },
     "execution_count": 26,
     "metadata": {},
     "output_type": "execute_result"
    }
   ],
   "source": [
    "name[8:12]"
   ]
  },
  {
   "cell_type": "code",
   "execution_count": 27,
   "id": "aa72c52d",
   "metadata": {},
   "outputs": [],
   "source": [
    "name=\"Michael Jackson\""
   ]
  },
  {
   "cell_type": "code",
   "execution_count": 28,
   "id": "f79456b9",
   "metadata": {},
   "outputs": [
    {
     "name": "stdout",
     "output_type": "stream",
     "text": [
      "Michael Jackson\n"
     ]
    }
   ],
   "source": [
    "print(name)"
   ]
  },
  {
   "cell_type": "code",
   "execution_count": 29,
   "id": "4e3107e5",
   "metadata": {},
   "outputs": [
    {
     "name": "stdout",
     "output_type": "stream",
     "text": [
      "<class 'str'>\n"
     ]
    }
   ],
   "source": [
    "print(type(name))"
   ]
  },
  {
   "cell_type": "code",
   "execution_count": 30,
   "id": "4f97fd05",
   "metadata": {},
   "outputs": [
    {
     "name": "stdout",
     "output_type": "stream",
     "text": [
      "15\n"
     ]
    }
   ],
   "source": [
    "print(len(name))"
   ]
  },
  {
   "cell_type": "code",
   "execution_count": 31,
   "id": "f1b12c88",
   "metadata": {},
   "outputs": [
    {
     "name": "stdout",
     "output_type": "stream",
     "text": [
      "McalJcsn\n"
     ]
    }
   ],
   "source": [
    "# stride\n",
    "print(name[::2])"
   ]
  },
  {
   "cell_type": "code",
   "execution_count": 32,
   "id": "5a3b9dfd",
   "metadata": {},
   "outputs": [
    {
     "name": "stdout",
     "output_type": "stream",
     "text": [
      "Mhlas\n"
     ]
    }
   ],
   "source": [
    "print(name[::3])"
   ]
  },
  {
   "cell_type": "code",
   "execution_count": 33,
   "id": "89daaeb5",
   "metadata": {},
   "outputs": [
    {
     "data": {
      "text/plain": [
       "'Mca'"
      ]
     },
     "execution_count": 33,
     "metadata": {},
     "output_type": "execute_result"
    }
   ],
   "source": [
    "name[0:5:2]"
   ]
  },
  {
   "cell_type": "code",
   "execution_count": 41,
   "id": "ef0dd83f",
   "metadata": {},
   "outputs": [],
   "source": [
    "name=name+' is the best.'"
   ]
  },
  {
   "cell_type": "code",
   "execution_count": 42,
   "id": "c543594d",
   "metadata": {},
   "outputs": [
    {
     "name": "stdout",
     "output_type": "stream",
     "text": [
      "Michael Jacksonis the best. is the best. is the best.\n"
     ]
    }
   ],
   "source": [
    "print(name)"
   ]
  },
  {
   "cell_type": "code",
   "execution_count": 43,
   "id": "2c5ce7a1",
   "metadata": {},
   "outputs": [
    {
     "data": {
      "text/plain": [
       "'Michael Jacksonis the best. is the best. is the best.Michael Jacksonis the best. is the best. is the best.Michael Jacksonis the best. is the best. is the best.'"
      ]
     },
     "execution_count": 43,
     "metadata": {},
     "output_type": "execute_result"
    }
   ],
   "source": [
    "3*name"
   ]
  },
  {
   "cell_type": "markdown",
   "id": "4dde7df2",
   "metadata": {},
   "source": [
    "# <center> ESCAPE SEQUENCES <CENTER>"
   ]
  },
  {
   "cell_type": "code",
   "execution_count": 45,
   "id": "34249b72",
   "metadata": {},
   "outputs": [
    {
     "name": "stdout",
     "output_type": "stream",
     "text": [
      "Michael Jackson \n",
      "is the best\n"
     ]
    }
   ],
   "source": [
    "print(\"Michael Jackson \\nis the best\")"
   ]
  },
  {
   "cell_type": "code",
   "execution_count": 47,
   "id": "6378e048",
   "metadata": {},
   "outputs": [
    {
     "name": "stdout",
     "output_type": "stream",
     "text": [
      "Michael Jackson \tis the best\n"
     ]
    }
   ],
   "source": [
    "print(\"Michael Jackson \\tis the best\")"
   ]
  },
  {
   "cell_type": "code",
   "execution_count": 48,
   "id": "03207262",
   "metadata": {},
   "outputs": [
    {
     "name": "stdout",
     "output_type": "stream",
     "text": [
      "Michael Jackson \\is the best\n"
     ]
    }
   ],
   "source": [
    "print(\"Michael Jackson \\\\is the best\")"
   ]
  },
  {
   "cell_type": "code",
   "execution_count": 49,
   "id": "187b0ffc",
   "metadata": {},
   "outputs": [
    {
     "name": "stdout",
     "output_type": "stream",
     "text": [
      "Michael Jackson \\ is the best\n"
     ]
    }
   ],
   "source": [
    "print(r\"Michael Jackson \\ is the best\")"
   ]
  },
  {
   "cell_type": "code",
   "execution_count": 50,
   "id": "0142eb83",
   "metadata": {},
   "outputs": [
    {
     "name": "stdout",
     "output_type": "stream",
     "text": [
      "before upper: Thriller is the sixth studio album\n",
      "after uppercase: THRILLER IS THE SIXTH STUDIO ALBUM\n"
     ]
    }
   ],
   "source": [
    "a=\"Thriller is the sixth studio album\"\n",
    "print('before upper:', a)\n",
    "b=a.upper()\n",
    "print('after uppercase:', b)"
   ]
  },
  {
   "cell_type": "code",
   "execution_count": 51,
   "id": "7996c1b4",
   "metadata": {},
   "outputs": [
    {
     "name": "stdout",
     "output_type": "stream",
     "text": [
      "before lower: MICHAEL JACKSON IS THE BEST\n",
      "after lower: michael jackson is the best\n"
     ]
    }
   ],
   "source": [
    "a=\"MICHAEL JACKSON IS THE BEST\"\n",
    "print('before lower:', a)\n",
    "b=a.lower()\n",
    "print('after lower:', b)"
   ]
  },
  {
   "cell_type": "code",
   "execution_count": 52,
   "id": "a2322b03",
   "metadata": {},
   "outputs": [
    {
     "name": "stdout",
     "output_type": "stream",
     "text": [
      "Jenifer Jackson is the best.\n"
     ]
    }
   ],
   "source": [
    "statement=\"Michael Jackson is the best.\"\n",
    "new_statement=statement.replace('Michael', 'Jenifer')\n",
    "print(new_statement)"
   ]
  },
  {
   "cell_type": "code",
   "execution_count": 53,
   "id": "b5841778",
   "metadata": {},
   "outputs": [
    {
     "name": "stdout",
     "output_type": "stream",
     "text": [
      "Hello! Michael Jackson has: 12 characters.\n"
     ]
    }
   ],
   "source": [
    "a = \"Hello! Michael Jackson has: 12 characters.\"\n",
    "print(a)"
   ]
  },
  {
   "cell_type": "code",
   "execution_count": 54,
   "id": "df05d882",
   "metadata": {},
   "outputs": [
    {
     "name": "stdout",
     "output_type": "stream",
     "text": [
      "Hello Michael Jackson has 12 characters\n"
     ]
    }
   ],
   "source": [
    "b=a.replace('!', '').replace(\":\", '').replace(\".\", '')\n",
    "print(b)"
   ]
  },
  {
   "cell_type": "code",
   "execution_count": 55,
   "id": "4006d18d",
   "metadata": {},
   "outputs": [
    {
     "data": {
      "text/plain": [
       "5"
      ]
     },
     "execution_count": 55,
     "metadata": {},
     "output_type": "execute_result"
    }
   ],
   "source": [
    "name.find('el')"
   ]
  },
  {
   "cell_type": "code",
   "execution_count": 57,
   "id": "dd1b5f4f",
   "metadata": {},
   "outputs": [
    {
     "data": {
      "text/plain": [
       "8"
      ]
     },
     "execution_count": 57,
     "metadata": {},
     "output_type": "execute_result"
    }
   ],
   "source": [
    "name.find('Jack')"
   ]
  },
  {
   "cell_type": "code",
   "execution_count": 58,
   "id": "425f3db3",
   "metadata": {},
   "outputs": [
    {
     "name": "stdout",
     "output_type": "stream",
     "text": [
      "Michael Jackson\n"
     ]
    }
   ],
   "source": [
    "name=\"Michael Jackson\"\n",
    "print(name)"
   ]
  },
  {
   "cell_type": "code",
   "execution_count": 59,
   "id": "94b587cf",
   "metadata": {},
   "outputs": [
    {
     "data": {
      "text/plain": [
       "['Michael', 'Jackson']"
      ]
     },
     "execution_count": 59,
     "metadata": {},
     "output_type": "execute_result"
    }
   ],
   "source": [
    "name.split()"
   ]
  },
  {
   "cell_type": "markdown",
   "id": "01c65c8c",
   "metadata": {},
   "source": [
    "# <center> REGULAR EXPRESSIONS </CENTER>"
   ]
  },
  {
   "cell_type": "code",
   "execution_count": 1,
   "id": "c06b8ae3",
   "metadata": {},
   "outputs": [],
   "source": [
    "import re"
   ]
  },
  {
   "cell_type": "code",
   "execution_count": 2,
   "id": "ca944655",
   "metadata": {},
   "outputs": [
    {
     "data": {
      "text/plain": [
       "'Michael Jackson is the best.'"
      ]
     },
     "execution_count": 2,
     "metadata": {},
     "output_type": "execute_result"
    }
   ],
   "source": [
    "s1=\"Michael Jackson is the best.\"\n",
    "s1"
   ]
  },
  {
   "cell_type": "code",
   "execution_count": 5,
   "id": "d05949bb",
   "metadata": {},
   "outputs": [],
   "source": [
    "pattern=r\"Jackson\""
   ]
  },
  {
   "cell_type": "code",
   "execution_count": 6,
   "id": "9cd3b2ac",
   "metadata": {},
   "outputs": [],
   "source": [
    "result=re.search(pattern, s1)"
   ]
  },
  {
   "cell_type": "code",
   "execution_count": 7,
   "id": "14f75cae",
   "metadata": {},
   "outputs": [
    {
     "name": "stdout",
     "output_type": "stream",
     "text": [
      "Match found.\n"
     ]
    }
   ],
   "source": [
    "if result:\n",
    "    print('Match found.')\n",
    "else:\n",
    "    print(\"Match not found.\")"
   ]
  },
  {
   "cell_type": "code",
   "execution_count": 9,
   "id": "8f0f795f",
   "metadata": {},
   "outputs": [
    {
     "name": "stdout",
     "output_type": "stream",
     "text": [
      "Match found.\n"
     ]
    }
   ],
   "source": [
    "import re\n",
    "s1=\"Michael Jackson is the best.\"\n",
    "pattern=r\"Jackson\"\n",
    "result=re.search(pattern, s1)\n",
    "if result:\n",
    "    print(\"Match found.\")\n",
    "else:\n",
    "    print(\"Match not found.\")"
   ]
  },
  {
   "cell_type": "code",
   "execution_count": 10,
   "id": "1c859684",
   "metadata": {},
   "outputs": [
    {
     "name": "stdout",
     "output_type": "stream",
     "text": [
      "Match found.\n"
     ]
    }
   ],
   "source": [
    "number=\"My phone number is 1234567890\"\n",
    "pattern=r\"\\d\\d\\d\\d\\d\\d\\d\\d\\d\\d\"\n",
    "match=re.search(pattern, number)\n",
    "if match:\n",
    "    print(\"Match found.\")\n",
    "else:\n",
    "    print(\"Match not found.\")"
   ]
  },
  {
   "cell_type": "code",
   "execution_count": null,
   "id": "4514b26a",
   "metadata": {},
   "outputs": [],
   "source": []
  }
 ],
 "metadata": {
  "kernelspec": {
   "display_name": "Python 3 (ipykernel)",
   "language": "python",
   "name": "python3"
  },
  "language_info": {
   "codemirror_mode": {
    "name": "ipython",
    "version": 3
   },
   "file_extension": ".py",
   "mimetype": "text/x-python",
   "name": "python",
   "nbconvert_exporter": "python",
   "pygments_lexer": "ipython3",
   "version": "3.10.9"
  }
 },
 "nbformat": 4,
 "nbformat_minor": 5
}
