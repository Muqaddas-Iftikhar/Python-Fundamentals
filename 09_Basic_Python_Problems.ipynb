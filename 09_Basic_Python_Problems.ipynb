{
 "cells": [
  {
   "cell_type": "markdown",
   "id": "74118526",
   "metadata": {},
   "source": [
    "# <center> BASIC PYTHON PROBLEMS </center>"
   ]
  },
  {
   "cell_type": "code",
   "execution_count": 2,
   "id": "6bb59a20",
   "metadata": {},
   "outputs": [
    {
     "name": "stdout",
     "output_type": "stream",
     "text": [
      "Enter the number:1\n",
      "1 is odd\n"
     ]
    }
   ],
   "source": [
    "num=int(input('Enter the number:'))\n",
    "if (num%2)==0:\n",
    "    print(num, 'is even')\n",
    "else:\n",
    "    print(num, 'is odd')"
   ]
  },
  {
   "cell_type": "code",
   "execution_count": 5,
   "id": "0d86bf0a",
   "metadata": {},
   "outputs": [
    {
     "name": "stdout",
     "output_type": "stream",
     "text": [
      "Enter the number:0\n",
      "0 are equal\n"
     ]
    }
   ],
   "source": [
    "num=int(input('Enter the number:'))\n",
    "if num>0:\n",
    "    print(num, 'is positive')\n",
    "elif num==0:\n",
    "    print(num, 'are equal')\n",
    "else:\n",
    "    print(num, 'is negative')"
   ]
  },
  {
   "cell_type": "code",
   "execution_count": 5,
   "id": "061d8cf8",
   "metadata": {},
   "outputs": [
    {
     "name": "stdout",
     "output_type": "stream",
     "text": [
      "Enter the number:5\n",
      "5 1\n",
      "5 2\n",
      "5 6\n",
      "5 24\n",
      "5 120\n"
     ]
    }
   ],
   "source": [
    "num=int(input('Enter the number:'))\n",
    "factorial=1\n",
    "if num<0:\n",
    "    print('The number is negative. So its factorial is not possible.')\n",
    "elif num==0:\n",
    "    print('The number is equal to zero')\n",
    "else:\n",
    "    for i in range(1, num+1):\n",
    "        factorial*=i\n",
    "        print(num, factorial)"
   ]
  },
  {
   "cell_type": "code",
   "execution_count": 8,
   "id": "04624bb6",
   "metadata": {},
   "outputs": [
    {
     "name": "stdout",
     "output_type": "stream",
     "text": [
      "Enter a number:123\n",
      "Reverse of the number is 3\n",
      "Reverse of the number is 32\n",
      "Reverse of the number is 321\n"
     ]
    }
   ],
   "source": [
    "num=int(input('Enter a number:'))\n",
    "reverse=0\n",
    "while num>0:\n",
    "    digit=num%10\n",
    "    reverse=reverse*10+digit\n",
    "    num=num//10\n",
    "    print('Reverse of the number is', reverse)"
   ]
  },
  {
   "cell_type": "code",
   "execution_count": 10,
   "id": "2b61c168",
   "metadata": {},
   "outputs": [
    {
     "name": "stdout",
     "output_type": "stream",
     "text": [
      "Enter a number:125\n",
      "the number is not a palindrome\n"
     ]
    }
   ],
   "source": [
    "num=int(input('Enter a number:'))\n",
    "temp=num\n",
    "reverse=0\n",
    "while num>0:\n",
    "    digit=num%10\n",
    "    reverse=reverse*10+digit\n",
    "    num=num//10\n",
    "if temp==reverse:\n",
    "    print('the number is a palindrome')\n",
    "else:\n",
    "    print('the number is not a palindrome')"
   ]
  },
  {
   "cell_type": "code",
   "execution_count": 11,
   "id": "bf2f30c3",
   "metadata": {},
   "outputs": [
    {
     "name": "stdout",
     "output_type": "stream",
     "text": [
      "Enter a number:12\n",
      "1\n",
      "2\n",
      "3\n",
      "5\n",
      "8\n",
      "13\n",
      "21\n",
      "34\n",
      "55\n",
      "89\n"
     ]
    }
   ],
   "source": [
    "num=int(input('Enter a number:'))\n",
    "a=0\n",
    "b=1\n",
    "if num<0:\n",
    "    print('Incorrect')\n",
    "    print(a)\n",
    "elif num==0:\n",
    "    print('Incorrect')\n",
    "    print(a)\n",
    "elif num==1:\n",
    "    print(a)\n",
    "else:\n",
    "    for i in range(2, num):\n",
    "        c=a+b\n",
    "        a=b\n",
    "        b=c\n",
    "        print(b)"
   ]
  },
  {
   "cell_type": "markdown",
   "id": "16ea5405",
   "metadata": {},
   "source": [
    "# <center> PRACTICE QUESTIONS </center>"
   ]
  },
  {
   "cell_type": "code",
   "execution_count": 12,
   "id": "3c3d107b",
   "metadata": {},
   "outputs": [],
   "source": [
    "# Write a program to calculate the sum of all natural numbers up to a given number n.\n",
    "# Input: An integer n.\n",
    "# Output: The sum of natural numbers up to n"
   ]
  },
  {
   "cell_type": "code",
   "execution_count": 6,
   "id": "6cea9f50",
   "metadata": {},
   "outputs": [
    {
     "name": "stdout",
     "output_type": "stream",
     "text": [
      "Enter the number:3\n"
     ]
    }
   ],
   "source": [
    "num=int(input('Enter the number:'))"
   ]
  },
  {
   "cell_type": "code",
   "execution_count": 14,
   "id": "0c4a353d",
   "metadata": {},
   "outputs": [
    {
     "name": "stdout",
     "output_type": "stream",
     "text": [
      "3 1\n",
      "3 3\n",
      "3 6\n"
     ]
    }
   ],
   "source": [
    "total=0\n",
    "for i in range(1, num+1):\n",
    "    total+=i\n",
    "    print(num, total)"
   ]
  },
  {
   "cell_type": "markdown",
   "id": "3fe0a05f",
   "metadata": {},
   "source": [
    "# <center> ROAD TRIP BUDGET </center>"
   ]
  },
  {
   "cell_type": "code",
   "execution_count": 1,
   "id": "7ddf1128",
   "metadata": {},
   "outputs": [
    {
     "name": "stdout",
     "output_type": "stream",
     "text": [
      "Enter the total budget for the trip:1000\n",
      "Enter the number of days of the trip:3\n",
      "Day1 Expenses:\n",
      "Gas:50\n",
      "Food:25\n",
      "Lodging:70\n",
      "Day2 Expenses:\n",
      "Gas:45\n",
      "Food:60\n",
      "Lodging:20\n",
      "Day3 Expenses:\n",
      "Gas:70\n",
      "Food:40\n",
      "Lodging:60\n",
      "Total spent on gas: 165\n",
      "Total spent on food: 125\n",
      "Total spent on lodging: 150\n",
      "Total Expenses: 440\n",
      "You stayed within your budget!\n"
     ]
    }
   ],
   "source": [
    "total_budget=int(input('Enter the total budget for the trip:'))\n",
    "num_of_days=int(input('Enter the number of days of the trip:'))\n",
    "total_gas=0\n",
    "total_food=0\n",
    "total_lodging=0\n",
    "for day in range(1, num_of_days+1):\n",
    "    print(f'Day{day} Expenses:')\n",
    "    gas=int(input('Gas:'))\n",
    "    food=int(input('Food:'))\n",
    "    lodging=int(input('Lodging:'))\n",
    "    total_gas+=gas\n",
    "    total_food+=food\n",
    "    total_lodging+=lodging\n",
    "total_expenses=total_gas+total_food+total_lodging\n",
    "print('Total spent on gas:', total_gas)\n",
    "print('Total spent on food:', total_food)\n",
    "print('Total spent on lodging:', total_lodging)\n",
    "print('Total Expenses:', total_expenses)\n",
    "if total_expenses<=total_budget:\n",
    "    print('You stayed within your budget!')\n",
    "else:    \n",
    "    print('You are out of budget!')"
   ]
  },
  {
   "cell_type": "markdown",
   "id": "d460b2f9",
   "metadata": {},
   "source": [
    "# <>"
   ]
  }
 ],
 "metadata": {
  "kernelspec": {
   "display_name": "Python 3 (ipykernel)",
   "language": "python",
   "name": "python3"
  },
  "language_info": {
   "codemirror_mode": {
    "name": "ipython",
    "version": 3
   },
   "file_extension": ".py",
   "mimetype": "text/x-python",
   "name": "python",
   "nbconvert_exporter": "python",
   "pygments_lexer": "ipython3",
   "version": "3.10.9"
  }
 },
 "nbformat": 4,
 "nbformat_minor": 5
}
