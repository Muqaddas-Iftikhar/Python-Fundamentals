{
 "cells": [
  {
   "cell_type": "markdown",
   "id": "116300b3",
   "metadata": {},
   "source": [
    "# <center> SIMPLE APIs </center>"
   ]
  },
  {
   "cell_type": "code",
   "execution_count": 1,
   "id": "544be6ed",
   "metadata": {},
   "outputs": [],
   "source": [
    "import requests"
   ]
  },
  {
   "cell_type": "code",
   "execution_count": 2,
   "id": "26f7bf4b",
   "metadata": {},
   "outputs": [],
   "source": [
    "import os\n",
    "from PIL import Image\n",
    "from IPython.display import IFrame"
   ]
  },
  {
   "cell_type": "code",
   "execution_count": 3,
   "id": "e0afcfba",
   "metadata": {},
   "outputs": [],
   "source": [
    "url=\"https://www.ibm.com/\"\n",
    "r=requests.get(url)"
   ]
  },
  {
   "cell_type": "code",
   "execution_count": 4,
   "id": "67ce9511",
   "metadata": {},
   "outputs": [
    {
     "data": {
      "text/plain": [
       "200"
      ]
     },
     "execution_count": 4,
     "metadata": {},
     "output_type": "execute_result"
    }
   ],
   "source": [
    "r.status_code"
   ]
  },
  {
   "cell_type": "code",
   "execution_count": 6,
   "id": "2626b2b8",
   "metadata": {},
   "outputs": [
    {
     "name": "stdout",
     "output_type": "stream",
     "text": [
      "{'User-Agent': 'python-requests/2.28.1', 'Accept-Encoding': 'gzip, deflate, br', 'Accept': '*/*', 'Connection': 'keep-alive', 'Cookie': '_abck=692903684F69EDB01A055EB727EEF559~-1~YAAQOUw5FwAavH2PAQAAFYrXkAsAisBVFsM/V+ECy6v4Ry4OxPqYup0sjPFykFmbs7ySRGrXnpE8b8i0OoqlWl5gRkyWZzM6suwOiumqx72zCf5IWxY52QgAO41v+Fg02/eUeqJzpHvK7IlnWz+jf81S+gI/vxgwksemBOIIMmJob3vEoCmtDH2mCIzIuiJNaWiuQHAFdUE95WXeDE+kyOFurz7TP94qvktuyepsAe6T9lseDaU8v322cgN7ujRCC2SsLFtDVtMdSNufYoQ8ry/8UfShivx6sUQWt3MHK5u/JUwK6/D7foyJUJi2wq4asKWm1kiWLs29Nl94Y060v+ty9y2ot/ROHnGo9KXwv7GdYyCrq5c=~-1~-1~-1; bm_sz=9C2C25DA603D720AF6B983483D74D78F~YAAQOUw5FwEavH2PAQAAFYrXkBfx7hyALVUu6OeMMFggThzNPYaZckNSFE1is3qgVStJEoSkNJWLliA58Ka1f1ZDunPh2DRyUKTl2wcaWVR5VZcAFqMqpzxeBIswXo0T31ncMVIRjyFmB/b3HMItCMr8cRnYB2RJi6VwYl3UiIzAwP2yQKO60TJkV42pbnDxWVihW6y2x0is9N6w1H9D0paJ8hN9VXUrqYgB/l1iSKHAENv4wx3PppdjKjmxZDlkLdpWE0aqiz5nay+B75uWr8FY+I+uskNPAOTXVhVs0DHtD0DjpXmAlLBKXY2GNzKp7TpDxj/McPSIKfTxciMQyKu56Y4k1o58XYB1~3420470~3682616'}\n"
     ]
    }
   ],
   "source": [
    "print(r.request.headers)"
   ]
  },
  {
   "cell_type": "code",
   "execution_count": 7,
   "id": "e36b6ee4",
   "metadata": {},
   "outputs": [
    {
     "name": "stdout",
     "output_type": "stream",
     "text": [
      "Request Body: None\n"
     ]
    }
   ],
   "source": [
    "print(\"Request Body:\", r.request.body)"
   ]
  },
  {
   "cell_type": "code",
   "execution_count": 8,
   "id": "baeee853",
   "metadata": {},
   "outputs": [
    {
     "name": "stdout",
     "output_type": "stream",
     "text": [
      "{'Content-Security-Policy': 'upgrade-insecure-requests', 'x-frame-options': 'SAMEORIGIN', 'Last-Modified': 'Sun, 19 May 2024 12:16:49 GMT', 'ETag': '\"15e96-618cd8f2b32b1-gzip\"', 'Accept-Ranges': 'bytes', 'Content-Type': 'text/html;charset=utf-8', 'X-Content-Type-Options': 'nosniff', 'Cache-Control': 'max-age=76', 'Expires': 'Sun, 19 May 2024 12:34:33 GMT', 'X-Akamai-Transformed': '9 11959 0 pmb=mTOE,2', 'Content-Encoding': 'gzip', 'Date': 'Sun, 19 May 2024 12:33:17 GMT', 'Content-Length': '12152', 'Connection': 'keep-alive', 'Vary': 'Accept-Encoding', 'Strict-Transport-Security': 'max-age=31536000'}\n"
     ]
    }
   ],
   "source": [
    "headers=r.headers\n",
    "print(r.headers)"
   ]
  },
  {
   "cell_type": "code",
   "execution_count": 10,
   "id": "90cae835",
   "metadata": {},
   "outputs": [
    {
     "data": {
      "text/plain": [
       "'Sun, 19 May 2024 12:33:17 GMT'"
      ]
     },
     "execution_count": 10,
     "metadata": {},
     "output_type": "execute_result"
    }
   ],
   "source": [
    "headers['date']"
   ]
  },
  {
   "cell_type": "code",
   "execution_count": 11,
   "id": "9455640b",
   "metadata": {},
   "outputs": [
    {
     "data": {
      "text/plain": [
       "'text/html;charset=utf-8'"
      ]
     },
     "execution_count": 11,
     "metadata": {},
     "output_type": "execute_result"
    }
   ],
   "source": [
    "headers['Content-Type']"
   ]
  },
  {
   "cell_type": "code",
   "execution_count": 12,
   "id": "a27dbb6d",
   "metadata": {},
   "outputs": [
    {
     "data": {
      "text/plain": [
       "'utf-8'"
      ]
     },
     "execution_count": 12,
     "metadata": {},
     "output_type": "execute_result"
    }
   ],
   "source": [
    "r.encoding"
   ]
  },
  {
   "cell_type": "code",
   "execution_count": 13,
   "id": "d587a700",
   "metadata": {},
   "outputs": [
    {
     "data": {
      "text/plain": [
       "'\\n<!DOCTYPE HTML>\\n<html lang=\"en-us\">\\n<head>\\r\\n    \\r\\n    \\r\\n    \\r\\n    \\r\\n    \\r\\n    \\r\\n    <meta charset=\"'"
      ]
     },
     "execution_count": 13,
     "metadata": {},
     "output_type": "execute_result"
    }
   ],
   "source": [
    "r.text[0:100]"
   ]
  },
  {
   "cell_type": "code",
   "execution_count": null,
   "id": "f5265ea9",
   "metadata": {},
   "outputs": [],
   "source": []
  }
 ],
 "metadata": {
  "kernelspec": {
   "display_name": "Python 3 (ipykernel)",
   "language": "python",
   "name": "python3"
  },
  "language_info": {
   "codemirror_mode": {
    "name": "ipython",
    "version": 3
   },
   "file_extension": ".py",
   "mimetype": "text/x-python",
   "name": "python",
   "nbconvert_exporter": "python",
   "pygments_lexer": "ipython3",
   "version": "3.10.9"
  }
 },
 "nbformat": 4,
 "nbformat_minor": 5
}
