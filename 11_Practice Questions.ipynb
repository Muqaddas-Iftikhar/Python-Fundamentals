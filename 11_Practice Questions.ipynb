{
 "cells": [
  {
   "cell_type": "markdown",
   "id": "4af11baf",
   "metadata": {},
   "source": [
    "# Practice Questions:"
   ]
  },
  {
   "cell_type": "code",
   "execution_count": 4,
   "id": "779dea0e",
   "metadata": {},
   "outputs": [
    {
     "name": "stdout",
     "output_type": "stream",
     "text": [
      "The numbers divisible by 7 are:\n",
      "0.0\n"
     ]
    }
   ],
   "source": [
    "numbers1=2000\n",
    "numbers2=3200\n",
    "if numbers1 <= numbers2:\n",
    "    print(\"The numbers divisible by 7 are:\")\n",
    "    numbers=numbers/7\n",
    "    print(numbers)\n",
    "else:\n",
    "    print(\"Incorrect\")"
   ]
  },
  {
   "cell_type": "code",
   "execution_count": 6,
   "id": "73335416",
   "metadata": {},
   "outputs": [
    {
     "name": "stdout",
     "output_type": "stream",
     "text": [
      "[2002, 2009, 2016, 2023, 2037, 2044, 2051, 2058, 2072, 2079, 2086, 2093, 2107, 2114, 2121, 2128, 2142, 2149, 2156, 2163, 2177, 2184, 2191, 2198, 2212, 2219, 2226, 2233, 2247, 2254, 2261, 2268, 2282, 2289, 2296, 2303, 2317, 2324, 2331, 2338, 2352, 2359, 2366, 2373, 2387, 2394, 2401, 2408, 2422, 2429, 2436, 2443, 2457, 2464, 2471, 2478, 2492, 2499, 2506, 2513, 2527, 2534, 2541, 2548, 2562, 2569, 2576, 2583, 2597, 2604, 2611, 2618, 2632, 2639, 2646, 2653, 2667, 2674, 2681, 2688, 2702, 2709, 2716, 2723, 2737, 2744, 2751, 2758, 2772, 2779, 2786, 2793, 2807, 2814, 2821, 2828, 2842, 2849, 2856, 2863, 2877, 2884, 2891, 2898, 2912, 2919, 2926, 2933, 2947, 2954, 2961, 2968, 2982, 2989, 2996, 3003, 3017, 3024, 3031, 3038, 3052, 3059, 3066, 3073, 3087, 3094, 3101, 3108, 3122, 3129, 3136, 3143, 3157, 3164, 3171, 3178, 3192, 3199]\n"
     ]
    }
   ],
   "source": [
    "result=[]\n",
    "for num in range(2000, 3201):\n",
    "    if num%7==0 and num%5!=0:\n",
    "        result.append(num)\n",
    "# print(','.join(map(str, result))) \n",
    "print(result)"
   ]
  },
  {
   "cell_type": "markdown",
   "id": "85653d61",
   "metadata": {},
   "source": [
    "# 2."
   ]
  },
  {
   "cell_type": "code",
   "execution_count": 9,
   "id": "0465c91c",
   "metadata": {},
   "outputs": [
    {
     "name": "stdout",
     "output_type": "stream",
     "text": [
      "Factorial of 8 is 40320\n"
     ]
    }
   ],
   "source": [
    "factorial=1\n",
    "for i in range(1, 9):\n",
    "    factorial*=i\n",
    "print('Factorial of 8 is', factorial)    \n"
   ]
  },
  {
   "cell_type": "markdown",
   "id": "5d03e711",
   "metadata": {},
   "source": [
    "# 3. "
   ]
  },
  {
   "cell_type": "code",
   "execution_count": 1,
   "id": "95849769",
   "metadata": {},
   "outputs": [],
   "source": [
    "# Write a Python program that takes two lists as input and concatenates them \n",
    "# into a single list without using the built-in + operator."
   ]
  },
  {
   "cell_type": "code",
   "execution_count": 4,
   "id": "0740dce6",
   "metadata": {},
   "outputs": [
    {
     "name": "stdout",
     "output_type": "stream",
     "text": [
      "['red', 'blue', 'green', 'black', 'purple', 'pink']\n"
     ]
    }
   ],
   "source": [
    "list1=['red', 'blue', 'green']\n",
    "list2=['black', 'purple', 'pink']\n",
    "list3=list1+list2 # concatenation\n",
    "print(list3)"
   ]
  },
  {
   "cell_type": "code",
   "execution_count": 5,
   "id": "f890a56a",
   "metadata": {},
   "outputs": [
    {
     "name": "stdout",
     "output_type": "stream",
     "text": [
      "Type the list1:['red', 'blue', 'green']\n"
     ]
    }
   ],
   "source": [
    "list1=input('Type the list1:')"
   ]
  },
  {
   "cell_type": "code",
   "execution_count": 6,
   "id": "0cd61f8b",
   "metadata": {},
   "outputs": [
    {
     "name": "stdout",
     "output_type": "stream",
     "text": [
      "Type the list2:['black', 'purple', 'pink']\n"
     ]
    }
   ],
   "source": [
    "list2=input('Type the list2:')"
   ]
  },
  {
   "cell_type": "code",
   "execution_count": 7,
   "id": "a51a4526",
   "metadata": {},
   "outputs": [],
   "source": [
    "list3=list1+list2"
   ]
  },
  {
   "cell_type": "code",
   "execution_count": 8,
   "id": "d75e7f0d",
   "metadata": {},
   "outputs": [
    {
     "name": "stdout",
     "output_type": "stream",
     "text": [
      "['red', 'blue', 'green']['black', 'purple', 'pink']\n"
     ]
    }
   ],
   "source": [
    "print(list3)"
   ]
  },
  {
   "cell_type": "code",
   "execution_count": 9,
   "id": "2e431e3e",
   "metadata": {},
   "outputs": [
    {
     "name": "stdout",
     "output_type": "stream",
     "text": [
      "Enter the elements of the first list separated by spaces: red, green, blue\n",
      "Enter the elements of the second list separated by spaces: black, purple, pink\n",
      "Concatenated list: ['red,', 'green,', 'blue', 'black,', 'purple,', 'pink']\n"
     ]
    }
   ],
   "source": [
    "# Taking input lists from the user\n",
    "list1 = input(\"Enter the elements of the first list separated by spaces: \").split()\n",
    "list2 = input(\"Enter the elements of the second list separated by spaces: \").split()\n",
    "\n",
    "# Concatenating the lists without using +\n",
    "concatenated_list = list1[:]\n",
    "concatenated_list.extend(list2)\n",
    "\n",
    "# Displaying the concatenated list\n",
    "print(\"Concatenated list:\", concatenated_list)\n"
   ]
  },
  {
   "cell_type": "code",
   "execution_count": 10,
   "id": "75f45966",
   "metadata": {},
   "outputs": [
    {
     "name": "stdout",
     "output_type": "stream",
     "text": [
      "Enter the elements of the first list separated by spaces: red green blue\n",
      "Enter the elements of the second list separated by spaces: black purple pink\n",
      "Concatenated list: ['red', 'green', 'blue', 'black', 'purple', 'pink']\n"
     ]
    }
   ],
   "source": [
    "# Taking input lists from the user\n",
    "list1 = input(\"Enter the elements of the first list separated by spaces: \").split()\n",
    "list2 = input(\"Enter the elements of the second list separated by spaces: \").split()\n",
    "\n",
    "# Concatenating the lists without using +\n",
    "concatenated_list = list1[:]\n",
    "concatenated_list.extend(list2)\n",
    "\n",
    "# Displaying the concatenated list\n",
    "print(\"Concatenated list:\", concatenated_list)"
   ]
  },
  {
   "cell_type": "code",
   "execution_count": 11,
   "id": "13024b28",
   "metadata": {},
   "outputs": [],
   "source": [
    "# Write a Python program that takes two lists as input and concatenates them \n",
    "# into a single list without using the built-in + operator."
   ]
  },
  {
   "cell_type": "code",
   "execution_count": 4,
   "id": "3bc1aad7",
   "metadata": {},
   "outputs": [
    {
     "name": "stdout",
     "output_type": "stream",
     "text": [
      "Enter the first list elements:red\n",
      "Enter the second list elements:black\n",
      "['red', 'black']\n"
     ]
    }
   ],
   "source": [
    "list1=input(\"Enter the first list elements:\").split()\n",
    "list2=input(\"Enter the second list elements:\").split()\n",
    "concatenated_list=list1[:]\n",
    "concatenated_list.extend(list2)\n",
    "print(concatenated_list)"
   ]
  },
  {
   "cell_type": "code",
   "execution_count": 5,
   "id": "444d9cc7",
   "metadata": {},
   "outputs": [],
   "source": [
    "# Given a list of numbers, write a Python program to filter out all the even numbers and store them in a new list."
   ]
  },
  {
   "cell_type": "code",
   "execution_count": 8,
   "id": "ca6de584",
   "metadata": {},
   "outputs": [
    {
     "name": "stdout",
     "output_type": "stream",
     "text": [
      "[2, 4, 6, 8, 10, 12, 14, 16, 18, 20]\n"
     ]
    }
   ],
   "source": [
    "even_numbers=[2, 4, 6, 8, 10, 12, 14, 16, 18, 20]\n",
    "numbers=even_numbers\n",
    "print(numbers)"
   ]
  },
  {
   "cell_type": "markdown",
   "id": "04d3c7cd",
   "metadata": {},
   "source": [
    "# 4."
   ]
  },
  {
   "cell_type": "code",
   "execution_count": 1,
   "id": "1d8a0cfb",
   "metadata": {},
   "outputs": [
    {
     "name": "stdout",
     "output_type": "stream",
     "text": [
      "Enter the age of the person:18\n"
     ]
    }
   ],
   "source": [
    "age=int(input(\"Enter the age of the person:\"))"
   ]
  },
  {
   "cell_type": "code",
   "execution_count": 2,
   "id": "2e10924e",
   "metadata": {},
   "outputs": [
    {
     "name": "stdout",
     "output_type": "stream",
     "text": [
      "You are eligible for voting.\n",
      "End of the program.\n"
     ]
    }
   ],
   "source": [
    "if age>=18:\n",
    "    print(\"You are eligible for voting.\")\n",
    "else:\n",
    "    print(\"Oops! You are not eligible for voting.\", end=\" \")\n",
    "    print(\"Try next year.\")\n",
    "print(\"End of the program.\")"
   ]
  },
  {
   "cell_type": "markdown",
   "id": "de474a0c",
   "metadata": {},
   "source": [
    "# 5."
   ]
  },
  {
   "cell_type": "code",
   "execution_count": 3,
   "id": "6eea70d8",
   "metadata": {},
   "outputs": [
    {
     "name": "stdout",
     "output_type": "stream",
     "text": [
      "Temperature in Celsius is:37\n"
     ]
    }
   ],
   "source": [
    "temperature=int(input(\"Temperature in Celsius is:\"))"
   ]
  },
  {
   "cell_type": "code",
   "execution_count": 5,
   "id": "22ba68ab",
   "metadata": {},
   "outputs": [
    {
     "name": "stdout",
     "output_type": "stream",
     "text": [
      "You are well.\n",
      "Great Job\n"
     ]
    }
   ],
   "source": [
    "if temperature>37:\n",
    "    print(\"You have a fever.\")\n",
    "else:\n",
    "    print(\"You are well.\")\n",
    "print(\"Great Job\")    "
   ]
  },
  {
   "cell_type": "markdown",
   "id": "e2ee8956",
   "metadata": {},
   "source": [
    "# 6."
   ]
  },
  {
   "cell_type": "code",
   "execution_count": 8,
   "id": "acf8bbe1",
   "metadata": {},
   "outputs": [
    {
     "name": "stdout",
     "output_type": "stream",
     "text": [
      "Enter the password:1 2 3 4 5 6\n"
     ]
    },
    {
     "ename": "ValueError",
     "evalue": "invalid literal for int() with base 10: '1 2 3 4 5 6'",
     "output_type": "error",
     "traceback": [
      "\u001b[1;31m---------------------------------------------------------------------------\u001b[0m",
      "\u001b[1;31mValueError\u001b[0m                                Traceback (most recent call last)",
      "Cell \u001b[1;32mIn[8], line 1\u001b[0m\n\u001b[1;32m----> 1\u001b[0m password\u001b[38;5;241m=\u001b[39m\u001b[38;5;28;43mint\u001b[39;49m\u001b[43m(\u001b[49m\u001b[38;5;28;43minput\u001b[39;49m\u001b[43m(\u001b[49m\u001b[38;5;124;43m\"\u001b[39;49m\u001b[38;5;124;43mEnter the password:\u001b[39;49m\u001b[38;5;124;43m\"\u001b[39;49m\u001b[43m)\u001b[49m\u001b[43m)\u001b[49m\n\u001b[0;32m      2\u001b[0m \u001b[38;5;28mprint\u001b[39m(\u001b[38;5;124m\"\u001b[39m\u001b[38;5;124mYour password is\u001b[39m\u001b[38;5;124m\"\u001b[39m, password)\n\u001b[0;32m      3\u001b[0m \u001b[38;5;28mprint\u001b[39m(\u001b[38;5;124m'\u001b[39m\u001b[38;5;124mLength of the password is\u001b[39m\u001b[38;5;124m'\u001b[39m, \u001b[38;5;28mlen\u001b[39m(password))\n",
      "\u001b[1;31mValueError\u001b[0m: invalid literal for int() with base 10: '1 2 3 4 5 6'"
     ]
    }
   ],
   "source": [
    "password=int(input(\"Enter the password:\"))\n",
    "print(\"Your password is\", password)\n",
    "print('Length of the password is', len(password))"
   ]
  },
  {
   "cell_type": "code",
   "execution_count": 9,
   "id": "d6e67623",
   "metadata": {},
   "outputs": [
    {
     "name": "stdout",
     "output_type": "stream",
     "text": [
      "Enter your password:12345678\n",
      "Your password is strong.\n"
     ]
    }
   ],
   "source": [
    "password=input('Enter your password:')\n",
    "if len(password)>=8:\n",
    "    print(\"Your password is strong.\")\n",
    "else:\n",
    "    print(\"Your password is weak. It should be at least 8 characters long.\")"
   ]
  },
  {
   "cell_type": "markdown",
   "id": "7d9f8809",
   "metadata": {},
   "source": [
    "# 7."
   ]
  },
  {
   "cell_type": "code",
   "execution_count": 12,
   "id": "a4b07274",
   "metadata": {},
   "outputs": [
    {
     "name": "stdout",
     "output_type": "stream",
     "text": [
      "Enter the first number:1\n",
      "Enter the second number:2\n",
      "Enter the third number:3\n",
      "2 is smallest.\n"
     ]
    }
   ],
   "source": [
    "num1=int(input('Enter the first number:'))\n",
    "num2=int(input('Enter the second number:'))\n",
    "num3=int(input('Enter the third number:'))\n",
    "\n",
    "if num1>num2 or num1>num3:\n",
    "    print(num1, 'is largest.')\n",
    "elif num2>num3 or num2>num1:\n",
    "    print(num2, 'is smallest.')\n",
    "else:\n",
    "    print('Ok good. Ab jao!')"
   ]
  },
  {
   "cell_type": "markdown",
   "id": "628e6d24",
   "metadata": {},
   "source": [
    "# 8."
   ]
  },
  {
   "cell_type": "code",
   "execution_count": 13,
   "id": "65659e66",
   "metadata": {},
   "outputs": [
    {
     "name": "stdout",
     "output_type": "stream",
     "text": [
      "0\n"
     ]
    }
   ],
   "source": [
    "list=[3, 7, 11, 15, 22, 30, 42]\n",
    "sum=0\n",
    "if sum%2==0:\n",
    "    print(sum)"
   ]
  },
  {
   "cell_type": "code",
   "execution_count": null,
   "id": "e5f297ff",
   "metadata": {},
   "outputs": [],
   "source": []
  }
 ],
 "metadata": {
  "kernelspec": {
   "display_name": "Python 3 (ipykernel)",
   "language": "python",
   "name": "python3"
  },
  "language_info": {
   "codemirror_mode": {
    "name": "ipython",
    "version": 3
   },
   "file_extension": ".py",
   "mimetype": "text/x-python",
   "name": "python",
   "nbconvert_exporter": "python",
   "pygments_lexer": "ipython3",
   "version": "3.10.9"
  }
 },
 "nbformat": 4,
 "nbformat_minor": 5
}
