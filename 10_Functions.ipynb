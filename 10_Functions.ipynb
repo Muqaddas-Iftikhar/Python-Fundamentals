{
 "cells": [
  {
   "cell_type": "markdown",
   "id": "53f14077",
   "metadata": {},
   "source": [
    "# <center> FUNCTIONS IN PYTHON </center>\n",
    "It is a block of code which performs a specific task. There are different types of functions used in python, These are:\n",
    "1. Normal Functions\n",
    "2. Lambda Functions\n",
    "3. Map Functions\n",
    "4. Filter Functions"
   ]
  },
  {
   "cell_type": "markdown",
   "id": "af212010",
   "metadata": {},
   "source": [
    "# Normal Functions:"
   ]
  },
  {
   "cell_type": "code",
   "execution_count": 2,
   "id": "9126d3d0",
   "metadata": {},
   "outputs": [
    {
     "name": "stdout",
     "output_type": "stream",
     "text": [
      "Hello World!\n"
     ]
    }
   ],
   "source": [
    "def hello(): # function definition\n",
    "    print('Hello World!')\n",
    "hello()   # function call"
   ]
  },
  {
   "cell_type": "code",
   "execution_count": 3,
   "id": "c845073f",
   "metadata": {},
   "outputs": [],
   "source": [
    "# function with parameter"
   ]
  },
  {
   "cell_type": "code",
   "execution_count": 4,
   "id": "a5c748a6",
   "metadata": {},
   "outputs": [
    {
     "data": {
      "text/plain": [
       "20"
      ]
     },
     "execution_count": 4,
     "metadata": {},
     "output_type": "execute_result"
    }
   ],
   "source": [
    "def add10(x):\n",
    "    return x+10\n",
    "add10(10)"
   ]
  },
  {
   "cell_type": "code",
   "execution_count": 5,
   "id": "a9797ee3",
   "metadata": {},
   "outputs": [],
   "source": [
    "# check if the number is even or odd."
   ]
  },
  {
   "cell_type": "code",
   "execution_count": 8,
   "id": "f60a1122",
   "metadata": {},
   "outputs": [
    {
     "name": "stdout",
     "output_type": "stream",
     "text": [
      "5 is odd\n"
     ]
    }
   ],
   "source": [
    "def even_odd_numbers(x):\n",
    "    if x%2==0:\n",
    "        print(x, 'is even')\n",
    "    else:\n",
    "        print(x, 'is odd')\n",
    "even_odd_numbers(5)        "
   ]
  },
  {
   "cell_type": "code",
   "execution_count": 9,
   "id": "4934092d",
   "metadata": {},
   "outputs": [],
   "source": [
    "# check if the number is even or odd using user input."
   ]
  },
  {
   "cell_type": "code",
   "execution_count": 25,
   "id": "5ed705fa",
   "metadata": {},
   "outputs": [
    {
     "name": "stdout",
     "output_type": "stream",
     "text": [
      "Enter any number:5\n",
      "5 is odd\n"
     ]
    }
   ],
   "source": [
    "number=int(input('Enter any number:'))\n",
    "def even_odd_numbers(x):\n",
    "    if x%2==0:\n",
    "        print(x, 'is even')\n",
    "    else:\n",
    "        print(x, 'is odd')\n",
    "even_odd_numbers(number) "
   ]
  },
  {
   "cell_type": "code",
   "execution_count": 24,
   "id": "e0eb7748",
   "metadata": {
    "scrolled": true
   },
   "outputs": [
    {
     "name": "stdout",
     "output_type": "stream",
     "text": [
      "Hello, World!\n"
     ]
    }
   ],
   "source": [
    "def greet():\n",
    "    print('Hello, World!')\n",
    "greet()    "
   ]
  },
  {
   "cell_type": "markdown",
   "id": "73e54d3e",
   "metadata": {},
   "source": [
    "# <center> LAMBDA FUNCTIONS </center>"
   ]
  },
  {
   "cell_type": "code",
   "execution_count": 13,
   "id": "21d234ab",
   "metadata": {},
   "outputs": [
    {
     "name": "stdout",
     "output_type": "stream",
     "text": [
      "343\n"
     ]
    }
   ],
   "source": [
    "g=lambda x: x*x*x\n",
    "print(g(7))"
   ]
  },
  {
   "cell_type": "code",
   "execution_count": 14,
   "id": "e404eabd",
   "metadata": {},
   "outputs": [],
   "source": [
    "# lambda functions with filter"
   ]
  },
  {
   "cell_type": "code",
   "execution_count": 15,
   "id": "cdcea0ba",
   "metadata": {},
   "outputs": [
    {
     "name": "stdout",
     "output_type": "stream",
     "text": [
      "[5, 7, 97, 77, 23, 73, 61]\n"
     ]
    }
   ],
   "source": [
    "l1=[5, 7, 22, 97, 54, 62, 77, 23, 73, 61]\n",
    "final_list=list(filter(lambda x: (x%2!=0), l1))\n",
    "print(final_list)"
   ]
  },
  {
   "cell_type": "code",
   "execution_count": 16,
   "id": "fa3a221b",
   "metadata": {},
   "outputs": [],
   "source": [
    "# lambda functions with map"
   ]
  },
  {
   "cell_type": "code",
   "execution_count": 17,
   "id": "ff2ee5a4",
   "metadata": {},
   "outputs": [
    {
     "name": "stdout",
     "output_type": "stream",
     "text": [
      "[10, 14, 44, 194, 108, 124, 154, 46, 146, 122]\n"
     ]
    }
   ],
   "source": [
    "l1=[5, 7, 22, 97, 54, 62, 77, 23, 73, 61]\n",
    "final_list=list(map(lambda x: (x*2), l1))\n",
    "print(final_list)"
   ]
  },
  {
   "cell_type": "code",
   "execution_count": 18,
   "id": "89a474b7",
   "metadata": {},
   "outputs": [],
   "source": [
    "# lambda functions with reduce"
   ]
  },
  {
   "cell_type": "code",
   "execution_count": 23,
   "id": "46051361",
   "metadata": {},
   "outputs": [
    {
     "name": "stdout",
     "output_type": "stream",
     "text": [
      "193\n"
     ]
    }
   ],
   "source": [
    "from functools import reduce\n",
    "l1=[5, 8, 10, 20, 50, 100]\n",
    "sum=reduce((lambda x, y: x+y), l1)\n",
    "print(sum)"
   ]
  },
  {
   "cell_type": "markdown",
   "id": "702e05e2",
   "metadata": {},
   "source": [
    "# <center> PRACTICE QUESTIONS </CENTER>"
   ]
  },
  {
   "cell_type": "code",
   "execution_count": 26,
   "id": "abaeb10a",
   "metadata": {},
   "outputs": [
    {
     "name": "stdout",
     "output_type": "stream",
     "text": [
      "Hello, World!\n"
     ]
    }
   ],
   "source": [
    "def greet():\n",
    "    print('Hello, World!')\n",
    "greet()    "
   ]
  },
  {
   "cell_type": "code",
   "execution_count": 27,
   "id": "f9805eea",
   "metadata": {},
   "outputs": [],
   "source": [
    "# Write a function called add that takes two numbers as parameters \n",
    "# and returns their sum.#\n",
    "# Call the function with two numbers and print the result."
   ]
  },
  {
   "cell_type": "code",
   "execution_count": 33,
   "id": "4acabfa8",
   "metadata": {},
   "outputs": [
    {
     "name": "stdout",
     "output_type": "stream",
     "text": [
      "Enter the first number:2\n",
      "Enter the second number:3\n",
      "The sum of two numbers is 5\n"
     ]
    }
   ],
   "source": [
    "num1=int(input('Enter the first number:'))\n",
    "num2=int(input('Enter the second number:'))\n",
    "def add(x, y):\n",
    "    z=x+y\n",
    "    return z\n",
    "add(num1, num2)\n",
    "print('The sum of two numbers is', num1+num2)"
   ]
  },
  {
   "cell_type": "code",
   "execution_count": 34,
   "id": "0ef21f26",
   "metadata": {},
   "outputs": [],
   "source": [
    "# Write a function called multiply that takes two parameters,\n",
    "# a and b, and returns their product. Give b a default value of 1.\n",
    "# Call the function with one and two arguments and print the results."
   ]
  },
  {
   "cell_type": "code",
   "execution_count": 41,
   "id": "2f2cea02",
   "metadata": {},
   "outputs": [
    {
     "name": "stdout",
     "output_type": "stream",
     "text": [
      "Enter the first number:3\n",
      "Enter the second number:6\n",
      "18\n"
     ]
    }
   ],
   "source": [
    "num1=int(input('Enter the first number:'))\n",
    "num2=int(input('Enter the second number:'))\n",
    "def multiply(a, b=1): # variable b has a default value of 1\n",
    "    product=a*b\n",
    "    return product\n",
    "result1=multiply(num1, num2)\n",
    "print(result1)"
   ]
  },
  {
   "cell_type": "code",
   "execution_count": 43,
   "id": "2ca272e3",
   "metadata": {},
   "outputs": [
    {
     "name": "stdout",
     "output_type": "stream",
     "text": [
      "Enter the first number:2\n",
      "Do you want to provide the second number? (yes/no):yes\n",
      "Enter the second number:3\n",
      "The result is 6\n"
     ]
    }
   ],
   "source": [
    "def mulitply(a, b=1):\n",
    "    return a*b\n",
    "a=int(input('Enter the first number:'))\n",
    "use_second_input=input('Do you want to provide the second number? (yes/no):').strip().lower()\n",
    "if use_second_input=='yes':\n",
    "    b=int(input('Enter the second number:'))\n",
    "    result=multiply(a, b)\n",
    "else:\n",
    "    result=multiply(a)\n",
    "print('The result is', result)    "
   ]
  },
  {
   "cell_type": "code",
   "execution_count": 39,
   "id": "d5c65dd3",
   "metadata": {},
   "outputs": [
    {
     "name": "stdout",
     "output_type": "stream",
     "text": [
      "15\n"
     ]
    }
   ],
   "source": [
    "result2=multiply(5, 3)\n",
    "print(result2)"
   ]
  },
  {
   "cell_type": "code",
   "execution_count": 44,
   "id": "d8fbc203",
   "metadata": {},
   "outputs": [],
   "source": [
    "# Return Statement"
   ]
  },
  {
   "cell_type": "code",
   "execution_count": 45,
   "id": "fb6c87a6",
   "metadata": {},
   "outputs": [],
   "source": [
    "# Write a function called square that takes a number as a parameter \n",
    "# and returns its square. Call the function with a number and\n",
    "# print the result."
   ]
  },
  {
   "cell_type": "code",
   "execution_count": 46,
   "id": "c0002208",
   "metadata": {},
   "outputs": [
    {
     "name": "stdout",
     "output_type": "stream",
     "text": [
      "25\n"
     ]
    }
   ],
   "source": [
    "def Square(num):\n",
    "    square=num**2\n",
    "    return square\n",
    "result=Square(5)\n",
    "print(result)"
   ]
  },
  {
   "cell_type": "code",
   "execution_count": 47,
   "id": "05ea20c0",
   "metadata": {},
   "outputs": [],
   "source": [
    "# through user input"
   ]
  },
  {
   "cell_type": "code",
   "execution_count": 50,
   "id": "9b8703a9",
   "metadata": {},
   "outputs": [
    {
     "name": "stdout",
     "output_type": "stream",
     "text": [
      "Enter any number:2\n",
      "The square of 2 is 4\n"
     ]
    }
   ],
   "source": [
    "num=int(input('Enter any number:'))\n",
    "def Square(num):\n",
    "    square=num**2\n",
    "    return square\n",
    "result=Square(num)\n",
    "print('The square of', num, 'is', result)"
   ]
  },
  {
   "cell_type": "code",
   "execution_count": 51,
   "id": "eae7509b",
   "metadata": {},
   "outputs": [],
   "source": [
    "# Write a function called subtract that takes two numbers as parameters \n",
    "# and returns their difference. \n",
    "# Add a docstring to the function explaining what it does. \n",
    "# Print the docstring."
   ]
  },
  {
   "cell_type": "code",
   "execution_count": 53,
   "id": "8fa07802",
   "metadata": {},
   "outputs": [
    {
     "name": "stdout",
     "output_type": "stream",
     "text": [
      "Enter the first number:2\n",
      "Enter the second number:3\n",
      "The difference of 2 and 3 is -1\n"
     ]
    }
   ],
   "source": [
    "num1=int(input('Enter the first number:'))\n",
    "num2=int(input('Enter the second number:'))\n",
    "def Subtract(num1, num2):\n",
    "    difference=num1-num2\n",
    "    return difference\n",
    "result=Subtract(num1, num2)\n",
    "print('The difference of',num1, 'and', num2, 'is', result)"
   ]
  },
  {
   "cell_type": "code",
   "execution_count": 2,
   "id": "679de19e",
   "metadata": {},
   "outputs": [],
   "source": [
    "price=round(6.8275, 2)"
   ]
  },
  {
   "cell_type": "code",
   "execution_count": 3,
   "id": "895ffec5",
   "metadata": {},
   "outputs": [
    {
     "name": "stdout",
     "output_type": "stream",
     "text": [
      "6.83\n"
     ]
    }
   ],
   "source": [
    "print(price)"
   ]
  },
  {
   "cell_type": "code",
   "execution_count": 8,
   "id": "2e40e5e1",
   "metadata": {},
   "outputs": [
    {
     "data": {
      "text/plain": [
       "6.8252"
      ]
     },
     "execution_count": 8,
     "metadata": {},
     "output_type": "execute_result"
    }
   ],
   "source": [
    "round(6.8252, 4)"
   ]
  },
  {
   "cell_type": "code",
   "execution_count": 9,
   "id": "5f3b17b7",
   "metadata": {},
   "outputs": [],
   "source": [
    "def cubeVolume(sideLength): # function header\n",
    "    volume=sideLength**3\n",
    "    return volume"
   ]
  },
  {
   "cell_type": "code",
   "execution_count": 10,
   "id": "04756e81",
   "metadata": {},
   "outputs": [],
   "source": [
    "result1=cubeVolume(2)"
   ]
  },
  {
   "cell_type": "code",
   "execution_count": 11,
   "id": "9b42a2d1",
   "metadata": {},
   "outputs": [
    {
     "name": "stdout",
     "output_type": "stream",
     "text": [
      "8\n"
     ]
    }
   ],
   "source": [
    "print(result1)"
   ]
  },
  {
   "cell_type": "code",
   "execution_count": 12,
   "id": "8905a710",
   "metadata": {},
   "outputs": [
    {
     "name": "stdout",
     "output_type": "stream",
     "text": [
      "1000\n"
     ]
    }
   ],
   "source": [
    "result2=cubeVolume(10)\n",
    "print(result2)"
   ]
  },
  {
   "cell_type": "code",
   "execution_count": 16,
   "id": "d9610fba",
   "metadata": {},
   "outputs": [
    {
     "name": "stdout",
     "output_type": "stream",
     "text": [
      "1000\n"
     ]
    }
   ],
   "source": [
    "print(cubeVolume(10))\n"
   ]
  },
  {
   "cell_type": "code",
   "execution_count": 17,
   "id": "d9924b59",
   "metadata": {},
   "outputs": [],
   "source": [
    "def main():\n",
    "    result=cubeVolume(2)\n",
    "    print(result)"
   ]
  },
  {
   "cell_type": "code",
   "execution_count": 18,
   "id": "9d87c412",
   "metadata": {},
   "outputs": [],
   "source": [
    "def cubeVolume(sideLength): # function header\n",
    "    volume=sideLength**3\n",
    "    return volume"
   ]
  },
  {
   "cell_type": "code",
   "execution_count": 19,
   "id": "8eefcb97",
   "metadata": {},
   "outputs": [
    {
     "name": "stdout",
     "output_type": "stream",
     "text": [
      "8\n"
     ]
    }
   ],
   "source": [
    "main()"
   ]
  },
  {
   "cell_type": "markdown",
   "id": "72bb25b8",
   "metadata": {},
   "source": [
    "# Parameter Passing:"
   ]
  },
  {
   "cell_type": "code",
   "execution_count": 20,
   "id": "322d2992",
   "metadata": {},
   "outputs": [
    {
     "name": "stdout",
     "output_type": "stream",
     "text": [
      "8\n"
     ]
    }
   ],
   "source": [
    "result1=cubeVolume(2)\n",
    "print(result1)"
   ]
  },
  {
   "cell_type": "code",
   "execution_count": 21,
   "id": "d14c9d0c",
   "metadata": {},
   "outputs": [],
   "source": [
    "# A function that returns multiple values, \n",
    "# typically as a tuple, such as returning both the name\n",
    "# and age of a person."
   ]
  },
  {
   "cell_type": "code",
   "execution_count": 23,
   "id": "bd7a4217",
   "metadata": {},
   "outputs": [
    {
     "name": "stdout",
     "output_type": "stream",
     "text": [
      "Enter the name of the person:Katherine\n",
      "Enter the age of the person:23\n"
     ]
    }
   ],
   "source": [
    "name=input('Enter the name of the person:')\n",
    "age=int(input('Enter the age of the person:'))"
   ]
  },
  {
   "cell_type": "code",
   "execution_count": 24,
   "id": "2c1ad522",
   "metadata": {},
   "outputs": [],
   "source": [
    "def Person(name, age):\n",
    "    return name, age"
   ]
  },
  {
   "cell_type": "code",
   "execution_count": 25,
   "id": "2688fdb6",
   "metadata": {},
   "outputs": [
    {
     "name": "stdout",
     "output_type": "stream",
     "text": [
      "The name of the person is Katherine and the age is 23\n"
     ]
    }
   ],
   "source": [
    "Perosn1=Person(name, age)\n",
    "print('The name of the person is', name, 'and the age is', age)"
   ]
  },
  {
   "cell_type": "code",
   "execution_count": 1,
   "id": "6d3f1987",
   "metadata": {},
   "outputs": [],
   "source": [
    "def short_function(x):\n",
    "    return x*2"
   ]
  },
  {
   "cell_type": "code",
   "execution_count": 2,
   "id": "e484cce3",
   "metadata": {},
   "outputs": [
    {
     "name": "stdout",
     "output_type": "stream",
     "text": [
      "<function <lambda> at 0x0000020788E11900>\n"
     ]
    }
   ],
   "source": [
    "equi_anon=lambda x: x*2\n",
    "print(equi_anon)"
   ]
  },
  {
   "cell_type": "code",
   "execution_count": 3,
   "id": "c7a16041",
   "metadata": {},
   "outputs": [],
   "source": [
    "def apply_to_list(some_list, f):\n",
    "    return [f(x) for x in some_list]"
   ]
  },
  {
   "cell_type": "code",
   "execution_count": 4,
   "id": "17d42c14",
   "metadata": {},
   "outputs": [
    {
     "data": {
      "text/plain": [
       "[8, 0, 2, 10, 12]"
      ]
     },
     "execution_count": 4,
     "metadata": {},
     "output_type": "execute_result"
    }
   ],
   "source": [
    "ints=[4, 0, 1, 5, 6]\n",
    "apply_to_list(ints, lambda x: x*2)"
   ]
  },
  {
   "cell_type": "code",
   "execution_count": 5,
   "id": "e307cadd",
   "metadata": {},
   "outputs": [
    {
     "data": {
      "text/plain": [
       "['aaaa', 'foo', 'abab', 'bar', 'card']"
      ]
     },
     "execution_count": 5,
     "metadata": {},
     "output_type": "execute_result"
    }
   ],
   "source": [
    "strings=['foo', 'card', 'bar', 'aaaa', 'abab']\n",
    "strings.sort(key=lambda x: len(set(list(x))))\n",
    "strings"
   ]
  },
  {
   "cell_type": "code",
   "execution_count": 7,
   "id": "f14264f2",
   "metadata": {},
   "outputs": [
    {
     "data": {
      "text/plain": [
       "['Alan Kay', 'Dennis Ritchie', 'John Backus', 'James Gosling']"
      ]
     },
     "execution_count": 7,
     "metadata": {},
     "output_type": "execute_result"
    }
   ],
   "source": [
    "names=['Dennis Ritchie', 'Alan Kay', 'John Backus', 'James Gosling']\n",
    "names.sort(key=lambda x: len(set(list(x))))\n",
    "names"
   ]
  },
  {
   "cell_type": "code",
   "execution_count": 8,
   "id": "8bb29740",
   "metadata": {},
   "outputs": [
    {
     "data": {
      "text/plain": [
       "'John Backus, James Gosling, Alan Kay, Dennis Ritchie'"
      ]
     },
     "execution_count": 8,
     "metadata": {},
     "output_type": "execute_result"
    }
   ],
   "source": [
    "names=['Dennis Ritchie', 'Alan Kay', 'John Backus', 'James Gosling']\n",
    "names.sort(key=lambda x: x.split()[-1])\n",
    "nameString=\", \".join(names)\n",
    "nameString"
   ]
  },
  {
   "cell_type": "markdown",
   "id": "f55b1565",
   "metadata": {},
   "source": [
    "# Map Functions:"
   ]
  },
  {
   "cell_type": "code",
   "execution_count": 4,
   "id": "c29df988",
   "metadata": {},
   "outputs": [
    {
     "data": {
      "text/plain": [
       "[1, 8, 27, 64, 125, 216]"
      ]
     },
     "execution_count": 4,
     "metadata": {},
     "output_type": "execute_result"
    }
   ],
   "source": [
    "lst=[1, 2, 3, 4, 5, 6]\n",
    "list(map(lambda x: x**3, lst))"
   ]
  },
  {
   "cell_type": "code",
   "execution_count": 3,
   "id": "8bdaa855",
   "metadata": {},
   "outputs": [
    {
     "name": "stdout",
     "output_type": "stream",
     "text": [
      "[1, 8, 27, 64, 125, 216]\n"
     ]
    }
   ],
   "source": [
    "lst = [1, 2, 3, 4, 5, 6]\n",
    "result = list(map(lambda x: x**3, lst))\n",
    "print(result)\n"
   ]
  },
  {
   "cell_type": "code",
   "execution_count": 1,
   "id": "09af1183",
   "metadata": {},
   "outputs": [
    {
     "name": "stdout",
     "output_type": "stream",
     "text": [
      "['hawk', 'hen', 'lion']\n"
     ]
    }
   ],
   "source": [
    "animals=['hawk', 'hen', 'lion']\n",
    "print(animals)"
   ]
  },
  {
   "cell_type": "code",
   "execution_count": 2,
   "id": "b25540fd",
   "metadata": {},
   "outputs": [
    {
     "data": {
      "text/plain": [
       "[4, 3, 4]"
      ]
     },
     "execution_count": 2,
     "metadata": {},
     "output_type": "execute_result"
    }
   ],
   "source": [
    "list(map(lambda animal: len(animal), animals))"
   ]
  },
  {
   "cell_type": "markdown",
   "id": "8f3df91b",
   "metadata": {},
   "source": [
    "# Filter Functions:"
   ]
  },
  {
   "cell_type": "code",
   "execution_count": 5,
   "id": "57153208",
   "metadata": {},
   "outputs": [],
   "source": [
    "words=['Hello', 'World', 'Python', 'Great', 'OK']\n",
    "result=filter(lambda s: len(s)>2, words)"
   ]
  },
  {
   "cell_type": "code",
   "execution_count": 7,
   "id": "cefa00ff",
   "metadata": {},
   "outputs": [
    {
     "data": {
      "text/plain": [
       "['Hello', 'World', 'Python', 'Great']"
      ]
     },
     "execution_count": 7,
     "metadata": {},
     "output_type": "execute_result"
    }
   ],
   "source": [
    "list(result)"
   ]
  },
  {
   "cell_type": "code",
   "execution_count": 8,
   "id": "a2885421",
   "metadata": {},
   "outputs": [],
   "source": [
    "sports=('Cricket', 'Soccer', 'Hockey', 'Baseball')\n",
    "result2=filter(lambda s: len(s)%2==0, sports)"
   ]
  },
  {
   "cell_type": "code",
   "execution_count": 9,
   "id": "e2b492ce",
   "metadata": {},
   "outputs": [
    {
     "data": {
      "text/plain": [
       "<filter at 0x20c050ec160>"
      ]
     },
     "execution_count": 9,
     "metadata": {},
     "output_type": "execute_result"
    }
   ],
   "source": [
    "result2"
   ]
  },
  {
   "cell_type": "code",
   "execution_count": 10,
   "id": "ed27f64f",
   "metadata": {},
   "outputs": [
    {
     "data": {
      "text/plain": [
       "['Soccer', 'Hockey', 'Baseball']"
      ]
     },
     "execution_count": 10,
     "metadata": {},
     "output_type": "execute_result"
    }
   ],
   "source": [
    "list(result2)"
   ]
  },
  {
   "cell_type": "code",
   "execution_count": 11,
   "id": "46346d18",
   "metadata": {},
   "outputs": [],
   "source": [
    "colors=('Red', 'Black', 'Pink', 'Purple')\n",
    "result3=filter(lambda color: len(color)<4, colors)"
   ]
  },
  {
   "cell_type": "code",
   "execution_count": 12,
   "id": "0c05e2f3",
   "metadata": {},
   "outputs": [
    {
     "data": {
      "text/plain": [
       "['Red']"
      ]
     },
     "execution_count": 12,
     "metadata": {},
     "output_type": "execute_result"
    }
   ],
   "source": [
    "list(result3)"
   ]
  },
  {
   "cell_type": "code",
   "execution_count": 13,
   "id": "c3bbe7b2",
   "metadata": {},
   "outputs": [
    {
     "name": "stdout",
     "output_type": "stream",
     "text": [
      "[5, 6, 7, 8, 9, 10, 100, 1000, 10000]\n"
     ]
    }
   ],
   "source": [
    "numbers=[5, 6, 7, 8, 9, 10, 100, 1000, 10000]\n",
    "print(numbers)"
   ]
  },
  {
   "cell_type": "code",
   "execution_count": 14,
   "id": "1057c11a",
   "metadata": {},
   "outputs": [
    {
     "data": {
      "text/plain": [
       "[False, False, False, False, False, True, True, True, True]"
      ]
     },
     "execution_count": 14,
     "metadata": {},
     "output_type": "execute_result"
    }
   ],
   "source": [
    "list(map(lambda n: n%10==0, numbers))"
   ]
  },
  {
   "cell_type": "code",
   "execution_count": null,
   "id": "29b6646e",
   "metadata": {},
   "outputs": [],
   "source": []
  }
 ],
 "metadata": {
  "kernelspec": {
   "display_name": "Python 3 (ipykernel)",
   "language": "python",
   "name": "python3"
  },
  "language_info": {
   "codemirror_mode": {
    "name": "ipython",
    "version": 3
   },
   "file_extension": ".py",
   "mimetype": "text/x-python",
   "name": "python",
   "nbconvert_exporter": "python",
   "pygments_lexer": "ipython3",
   "version": "3.10.9"
  }
 },
 "nbformat": 4,
 "nbformat_minor": 5
}
