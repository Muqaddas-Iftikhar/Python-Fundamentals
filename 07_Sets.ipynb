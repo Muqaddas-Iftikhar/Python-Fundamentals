{
 "cells": [
  {
   "cell_type": "markdown",
   "id": "bea22c0a",
   "metadata": {},
   "source": [
    "# sets:"
   ]
  },
  {
   "cell_type": "code",
   "execution_count": 1,
   "id": "417e9ce3",
   "metadata": {},
   "outputs": [
    {
     "data": {
      "text/plain": [
       "{'A', 'B', 'C'}"
      ]
     },
     "execution_count": 1,
     "metadata": {},
     "output_type": "execute_result"
    }
   ],
   "source": [
    "list=['A','B','C','A','B','C']\n",
    "set(list)"
   ]
  },
  {
   "cell_type": "code",
   "execution_count": 2,
   "id": "e0459076",
   "metadata": {},
   "outputs": [],
   "source": [
    "S={'A','B','C'}\n",
    "S.add('D')"
   ]
  },
  {
   "cell_type": "code",
   "execution_count": 3,
   "id": "3937f64a",
   "metadata": {},
   "outputs": [
    {
     "name": "stdout",
     "output_type": "stream",
     "text": [
      "{'D', 'C', 'A', 'B'}\n"
     ]
    }
   ],
   "source": [
    "print(S)"
   ]
  },
  {
   "cell_type": "code",
   "execution_count": 4,
   "id": "f1b162d1",
   "metadata": {},
   "outputs": [
    {
     "data": {
      "text/plain": [
       "{1, 3}"
      ]
     },
     "execution_count": 4,
     "metadata": {},
     "output_type": "execute_result"
    }
   ],
   "source": [
    "A={1,2,3,4,5}\n",
    "B={1,3,9, 12}\n",
    "A.intersection(B)"
   ]
  },
  {
   "cell_type": "code",
   "execution_count": 10,
   "id": "02f94474",
   "metadata": {},
   "outputs": [],
   "source": [
    "album_list = [ \"Michael Jackson\", \"Thriller\", 1982, \"00:42:19\", \"Pop, Rock, R&B\", 46.0, 65, \"30-Nov-82\", None, 10.0]"
   ]
  },
  {
   "cell_type": "code",
   "execution_count": 11,
   "id": "5b7725f2",
   "metadata": {},
   "outputs": [
    {
     "data": {
      "text/plain": [
       "{'00:42:19',\n",
       " 10.0,\n",
       " 1982,\n",
       " '30-Nov-82',\n",
       " 46.0,\n",
       " 65,\n",
       " 'Michael Jackson',\n",
       " None,\n",
       " 'Pop, Rock, R&B',\n",
       " 'Thriller'}"
      ]
     },
     "execution_count": 11,
     "metadata": {},
     "output_type": "execute_result"
    }
   ],
   "source": [
    "set(album_list)"
   ]
  },
  {
   "cell_type": "code",
   "execution_count": 12,
   "id": "00e3ebce",
   "metadata": {},
   "outputs": [
    {
     "data": {
      "text/plain": [
       "{'R&B',\n",
       " 'disco',\n",
       " 'folk rock',\n",
       " 'hard rock',\n",
       " 'pop',\n",
       " 'progressive rock',\n",
       " 'rock',\n",
       " 'soft rock',\n",
       " 'soul'}"
      ]
     },
     "execution_count": 12,
     "metadata": {},
     "output_type": "execute_result"
    }
   ],
   "source": [
    "\n",
    "music_genres = set([\"pop\", \"pop\", \"rock\", \"folk rock\", \"hard rock\", \"soul\", \\\n",
    "                    \"progressive rock\", \"soft rock\", \"R&B\", \"disco\"])\n",
    "music_genres"
   ]
  },
  {
   "cell_type": "markdown",
   "id": "18479538",
   "metadata": {},
   "source": [
    "# Set Operations:"
   ]
  },
  {
   "cell_type": "code",
   "execution_count": 13,
   "id": "d62fc532",
   "metadata": {},
   "outputs": [
    {
     "data": {
      "text/plain": [
       "{'AC/DC', 'Back in Black', 'Thriller'}"
      ]
     },
     "execution_count": 13,
     "metadata": {},
     "output_type": "execute_result"
    }
   ],
   "source": [
    "A = set([\"Thriller\", \"Back in Black\", \"AC/DC\"])\n",
    "A"
   ]
  },
  {
   "cell_type": "code",
   "execution_count": 14,
   "id": "9f05f26e",
   "metadata": {},
   "outputs": [],
   "source": [
    "A.add(\"NSYNC\")"
   ]
  },
  {
   "cell_type": "code",
   "execution_count": 15,
   "id": "0378e525",
   "metadata": {},
   "outputs": [
    {
     "name": "stdout",
     "output_type": "stream",
     "text": [
      "{'Back in Black', 'NSYNC', 'AC/DC', 'Thriller'}\n"
     ]
    }
   ],
   "source": [
    "print(A)"
   ]
  },
  {
   "cell_type": "code",
   "execution_count": 16,
   "id": "7b3167a1",
   "metadata": {},
   "outputs": [],
   "source": [
    "# Convert the list ['rap','house','electronic music', 'rap'] to a set:"
   ]
  },
  {
   "cell_type": "code",
   "execution_count": 17,
   "id": "8d53ef9c",
   "metadata": {},
   "outputs": [
    {
     "data": {
      "text/plain": [
       "{'electronic music', 'house', 'rap'}"
      ]
     },
     "execution_count": 17,
     "metadata": {},
     "output_type": "execute_result"
    }
   ],
   "source": [
    "list=['rap', 'house', 'electronic music', 'rap']\n",
    "set(list)"
   ]
  },
  {
   "cell_type": "code",
   "execution_count": 18,
   "id": "73e3fad7",
   "metadata": {},
   "outputs": [],
   "source": [
    "# Consider the list A = [1, 2, 2, 1] and set B = set([1, 2, 2, 1]), does sum(A) == sum(B)?"
   ]
  },
  {
   "cell_type": "code",
   "execution_count": 19,
   "id": "e0c46a58",
   "metadata": {},
   "outputs": [
    {
     "data": {
      "text/plain": [
       "False"
      ]
     },
     "execution_count": 19,
     "metadata": {},
     "output_type": "execute_result"
    }
   ],
   "source": [
    "A=[1, 2, 2, 1]\n",
    "B=set([1, 2, 2, 1])\n",
    "sum(A)==sum(B)"
   ]
  },
  {
   "cell_type": "code",
   "execution_count": 20,
   "id": "13135a62",
   "metadata": {},
   "outputs": [],
   "source": [
    "# Create a new set album_set3 that is the union of album_set1 and album_set2:"
   ]
  },
  {
   "cell_type": "code",
   "execution_count": 21,
   "id": "8cf04664",
   "metadata": {},
   "outputs": [
    {
     "name": "stdout",
     "output_type": "stream",
     "text": [
      "{'Back in Black', 'AC/DC', 'The Dark Side of the Moon', 'Thriller'}\n"
     ]
    }
   ],
   "source": [
    "album_set1 = set([\"Thriller\", 'AC/DC', 'Back in Black'])\n",
    "album_set2 = set([ \"AC/DC\", \"Back in Black\", \"The Dark Side of the Moon\"])\n",
    "album_set3=album_set1.union(album_set2)\n",
    "print(album_set3)"
   ]
  },
  {
   "cell_type": "code",
   "execution_count": 22,
   "id": "c094b84d",
   "metadata": {},
   "outputs": [],
   "source": [
    "# Find out if album_set1 is a subset of album_set3:"
   ]
  },
  {
   "cell_type": "code",
   "execution_count": 24,
   "id": "0f1b90d0",
   "metadata": {},
   "outputs": [
    {
     "data": {
      "text/plain": [
       "True"
      ]
     },
     "execution_count": 24,
     "metadata": {},
     "output_type": "execute_result"
    }
   ],
   "source": [
    "album_set1.issubset(album_set3)"
   ]
  },
  {
   "cell_type": "code",
   "execution_count": null,
   "id": "5464a3b0",
   "metadata": {},
   "outputs": [],
   "source": []
  }
 ],
 "metadata": {
  "kernelspec": {
   "display_name": "Python 3 (ipykernel)",
   "language": "python",
   "name": "python3"
  },
  "language_info": {
   "codemirror_mode": {
    "name": "ipython",
    "version": 3
   },
   "file_extension": ".py",
   "mimetype": "text/x-python",
   "name": "python",
   "nbconvert_exporter": "python",
   "pygments_lexer": "ipython3",
   "version": "3.10.9"
  }
 },
 "nbformat": 4,
 "nbformat_minor": 5
}
