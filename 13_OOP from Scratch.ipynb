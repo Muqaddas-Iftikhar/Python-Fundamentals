{
 "cells": [
  {
   "cell_type": "markdown",
   "id": "76ccb566",
   "metadata": {},
   "source": [
    "# <center> OOP FROM SCRATCH </CENTER>"
   ]
  },
  {
   "cell_type": "code",
   "execution_count": 7,
   "id": "b47254e4",
   "metadata": {},
   "outputs": [
    {
     "name": "stdout",
     "output_type": "stream",
     "text": [
      "<__main__.Student object at 0x000001BE6A6D4250>\n",
      "Maryam\n"
     ]
    }
   ],
   "source": [
    "class Student:\n",
    "    name='Maryam'\n",
    "    age=22\n",
    "s1=Student() \n",
    "print(s1)\n",
    "print(s1.name)"
   ]
  },
  {
   "cell_type": "code",
   "execution_count": 8,
   "id": "d9760660",
   "metadata": {},
   "outputs": [],
   "source": [
    "s2=Student()"
   ]
  },
  {
   "cell_type": "code",
   "execution_count": 9,
   "id": "b14e4c75",
   "metadata": {},
   "outputs": [
    {
     "data": {
      "text/plain": [
       "'Maryam'"
      ]
     },
     "execution_count": 9,
     "metadata": {},
     "output_type": "execute_result"
    }
   ],
   "source": [
    "s2.name"
   ]
  },
  {
   "cell_type": "markdown",
   "id": "53c28a58",
   "metadata": {},
   "source": [
    "# Car Class:\n"
   ]
  },
  {
   "cell_type": "code",
   "execution_count": 11,
   "id": "6f3c01ac",
   "metadata": {},
   "outputs": [
    {
     "name": "stdout",
     "output_type": "stream",
     "text": [
      "black\n",
      "mercedes\n"
     ]
    }
   ],
   "source": [
    "class Car:\n",
    "    color='black'\n",
    "    brand='mercedes'\n",
    "car1=Car()\n",
    "print(car1.color)\n",
    "print(car1.brand)"
   ]
  },
  {
   "cell_type": "markdown",
   "id": "13431b8a",
   "metadata": {},
   "source": [
    "# Constructor:"
   ]
  },
  {
   "cell_type": "code",
   "execution_count": 30,
   "id": "59cbfa65",
   "metadata": {},
   "outputs": [
    {
     "name": "stdout",
     "output_type": "stream",
     "text": [
      "Adding new student in database...\n",
      "maryam\n",
      "97\n"
     ]
    }
   ],
   "source": [
    "class Student:\n",
    "    \n",
    "    def __init__(self): # default Constructor\n",
    "        pass\n",
    "    \n",
    "    def __init__(self, name, marks): # paramterized constructor\n",
    "        self.name=name\n",
    "        self.marks=marks\n",
    "        print('Adding new student in database...')\n",
    "s1=Student('maryam', 97)\n",
    "print(s1.name)\n",
    "print(s1.marks)"
   ]
  },
  {
   "cell_type": "code",
   "execution_count": 23,
   "id": "fa208f05",
   "metadata": {},
   "outputs": [
    {
     "name": "stdout",
     "output_type": "stream",
     "text": [
      "<__main__.Student object at 0x000001BE6A6D2740>\n"
     ]
    }
   ],
   "source": [
    "print(s1)"
   ]
  },
  {
   "cell_type": "code",
   "execution_count": 29,
   "id": "abcb65d9",
   "metadata": {},
   "outputs": [
    {
     "name": "stdout",
     "output_type": "stream",
     "text": [
      "Adding new student in database...\n",
      "Minahil\n",
      "95\n"
     ]
    }
   ],
   "source": [
    "s2=Student('Minahil', 95)\n",
    "print(s2.name)\n",
    "print(s2.marks)"
   ]
  },
  {
   "cell_type": "code",
   "execution_count": 31,
   "id": "7eab5a3d",
   "metadata": {},
   "outputs": [
    {
     "name": "stdout",
     "output_type": "stream",
     "text": [
      "Brown\n",
      "2500000\n",
      "3\n",
      "5\n"
     ]
    }
   ],
   "source": [
    "class House:\n",
    "    \n",
    "    def __init__(self): # default Connstructor\n",
    "        pass\n",
    "    \n",
    "    def __init__(self, color, price, rooms, people): # Parameterized Constructor\n",
    "        self.color=color\n",
    "        self.price=price\n",
    "        self.rooms=rooms\n",
    "        self.people=people\n",
    "        \n",
    "h=House('Brown', 2500000, 3, 5) # Create an object of the class\n",
    "print(h.color)\n",
    "print(h.price)\n",
    "print(h.rooms)\n",
    "print(h.people)"
   ]
  },
  {
   "cell_type": "markdown",
   "id": "9a7549d5",
   "metadata": {},
   "source": [
    "# Class and Instance Attributes:"
   ]
  },
  {
   "cell_type": "code",
   "execution_count": 36,
   "id": "29df7c48",
   "metadata": {},
   "outputs": [
    {
     "name": "stdout",
     "output_type": "stream",
     "text": [
      "Adding new student in database...\n",
      "Katherine 97\n",
      "Katherine\n",
      "Adding new student in database...\n",
      "Jenifer 95\n",
      "ABC College\n"
     ]
    }
   ],
   "source": [
    "class Student:\n",
    "    # class attribute \n",
    "    college_name='ABC College' \n",
    "    name='anonymous'\n",
    "    def __init__(self, name, marks):\n",
    "        # object attribute > class attribute\n",
    "        self.name=name\n",
    "        self.marks=marks\n",
    "        print('Adding new student in database...')\n",
    "s1=Student('Katherine', 97)\n",
    "print(s1.name, s1.marks)\n",
    "print(s1.name)\n",
    "s2=Student('Jenifer', 95)\n",
    "print(s2.name, s2.marks)\n",
    "print(s2.college_name)"
   ]
  },
  {
   "cell_type": "markdown",
   "id": "bcd0cf07",
   "metadata": {},
   "source": [
    "# Methods:"
   ]
  },
  {
   "cell_type": "code",
   "execution_count": 41,
   "id": "c74bb597",
   "metadata": {},
   "outputs": [
    {
     "name": "stdout",
     "output_type": "stream",
     "text": [
      "Welcome student Katherine\n",
      "None\n",
      "97\n"
     ]
    }
   ],
   "source": [
    "class Student:\n",
    "    # class attribute \n",
    "    college_name='ABC College' \n",
    "    name='anonymous'\n",
    "    def __init__(self, name, marks):\n",
    "        # object attribute > class attribute\n",
    "        self.name=name\n",
    "        self.marks=marks\n",
    "    def welcome(self):  \n",
    "        print('Welcome student', self.name)\n",
    "    def get_marks(self):\n",
    "        return self.marks\n",
    "s1=Student('Katherine', 97)\n",
    "print(s1.welcome())\n",
    "print(s1.get_marks())"
   ]
  },
  {
   "cell_type": "markdown",
   "id": "079aa026",
   "metadata": {},
   "source": [
    "# Let's Practice:\n",
    "\n",
    "**Question:** Create student class that takes name and marks of 3 subjects as arguments in constructor. Then create a method to print the average."
   ]
  },
  {
   "cell_type": "code",
   "execution_count": 44,
   "id": "2e0a1a93",
   "metadata": {},
   "outputs": [],
   "source": [
    "class Student:\n",
    "    \n",
    "    def __init__(self):\n",
    "        pass\n",
    "    \n",
    "    def __init__(self, name, marks1, marks2, marks3):\n",
    "        self.name=name\n",
    "        self.marks1=marks1\n",
    "        self.marks2=marks2\n",
    "        self.marks3=marks3\n",
    "        \n",
    "    def average(self):\n",
    "        print(self.name)\n",
    "        avg=(self.marks1+self.marks2+self.marks3)/3\n",
    "        print(self.marks1)\n",
    "        print(self.marks2)\n",
    "        print(self.marks3)\n",
    "        print('Average marks of the student is', avg) "
   ]
  },
  {
   "cell_type": "code",
   "execution_count": 45,
   "id": "0ba25a9b",
   "metadata": {},
   "outputs": [],
   "source": [
    "s1=Student('Katherine', 95, 97, 96)"
   ]
  },
  {
   "cell_type": "code",
   "execution_count": 46,
   "id": "3d4a8c30",
   "metadata": {},
   "outputs": [
    {
     "name": "stdout",
     "output_type": "stream",
     "text": [
      "Katherine\n",
      "95\n",
      "97\n",
      "96\n",
      "Average marks of the student is 96.0\n"
     ]
    }
   ],
   "source": [
    "s1.average()"
   ]
  },
  {
   "cell_type": "code",
   "execution_count": 51,
   "id": "fd14e9c6",
   "metadata": {},
   "outputs": [],
   "source": [
    "class Student:\n",
    "    def __init__(self, name, marks):\n",
    "        self.name=name\n",
    "        self.marks=marks\n",
    "    def get_avg(self):\n",
    "        sum=0\n",
    "        for val in self.marks:\n",
    "            sum+=val\n",
    "        print(\"Hi\", self.name, 'your avg score is:', sum/3)        "
   ]
  },
  {
   "cell_type": "code",
   "execution_count": 52,
   "id": "01743fdd",
   "metadata": {
    "scrolled": true
   },
   "outputs": [
    {
     "name": "stdout",
     "output_type": "stream",
     "text": [
      "Hi Katherine your avg score is: 97.0\n"
     ]
    }
   ],
   "source": [
    "s1=Student('Katherine', [98, 96, 97])\n",
    "s1.get_avg()"
   ]
  },
  {
   "cell_type": "code",
   "execution_count": 54,
   "id": "71e5ab9e",
   "metadata": {},
   "outputs": [],
   "source": [
    "s1.name='Maryam'"
   ]
  },
  {
   "cell_type": "code",
   "execution_count": 55,
   "id": "17765cf2",
   "metadata": {},
   "outputs": [
    {
     "name": "stdout",
     "output_type": "stream",
     "text": [
      "Maryam\n"
     ]
    }
   ],
   "source": [
    "print(s1.name)"
   ]
  },
  {
   "cell_type": "markdown",
   "id": "d476c3e5",
   "metadata": {},
   "source": [
    "# Static Methods:"
   ]
  },
  {
   "cell_type": "code",
   "execution_count": 56,
   "id": "22397558",
   "metadata": {},
   "outputs": [],
   "source": [
    "class Student:\n",
    "    \n",
    "    def __init__(self):\n",
    "        pass\n",
    "    \n",
    "    def __init__(self, name, marks1, marks2, marks3):\n",
    "        self.name=name\n",
    "        self.marks1=marks1\n",
    "        self.marks2=marks2\n",
    "        self.marks3=marks3\n",
    "      \n",
    "    @staticmethod # decorator / dunder menthod\n",
    "    def hello():\n",
    "        print('hello')\n",
    "        \n",
    "    def average(self):\n",
    "        print(self.name)\n",
    "        avg=(self.marks1+self.marks2+self.marks3)/3\n",
    "        print(self.marks1)\n",
    "        print(self.marks2)\n",
    "        print(self.marks3)\n",
    "        print('Average marks of the student is', avg) "
   ]
  },
  {
   "cell_type": "markdown",
   "id": "2a9e62d8",
   "metadata": {},
   "source": [
    "# <center> ABSTRACTION AND ENCAPSULATION </center>"
   ]
  },
  {
   "cell_type": "markdown",
   "id": "eb96e067",
   "metadata": {},
   "source": [
    "# Abstraction:"
   ]
  },
  {
   "cell_type": "code",
   "execution_count": 57,
   "id": "60af98fb",
   "metadata": {},
   "outputs": [],
   "source": [
    "class Car:\n",
    "    \n",
    "    def __init__(self):\n",
    "        self.accelerator=False\n",
    "        self.brk=False\n",
    "        self.clutch=False\n",
    "        \n",
    "    def start(self):\n",
    "        self.accelerator=True\n",
    "        self.clutch=True\n",
    "        print('Car Started..')"
   ]
  },
  {
   "cell_type": "code",
   "execution_count": 58,
   "id": "23af1afe",
   "metadata": {},
   "outputs": [],
   "source": [
    "car1=Car()"
   ]
  },
  {
   "cell_type": "code",
   "execution_count": 59,
   "id": "3f566867",
   "metadata": {},
   "outputs": [
    {
     "name": "stdout",
     "output_type": "stream",
     "text": [
      "Car Started..\n"
     ]
    }
   ],
   "source": [
    "car1.start()"
   ]
  },
  {
   "cell_type": "markdown",
   "id": "2e32fccc",
   "metadata": {},
   "source": [
    "# Let's Practice:\n",
    "\n",
    "**Question:** Create Account class with 2 attributes - balance and account number. Create methods for debit, credit and printing the balance."
   ]
  },
  {
   "cell_type": "code",
   "execution_count": 61,
   "id": "feabf560",
   "metadata": {},
   "outputs": [
    {
     "name": "stdout",
     "output_type": "stream",
     "text": [
      "Rs. 1000 was debited.\n",
      "Total balance = 9000\n",
      "Rs. 500 was credited.\n",
      "Total balance = 9500\n"
     ]
    }
   ],
   "source": [
    "class Account:\n",
    "    \n",
    "    def __init__(self, balance, account_number):\n",
    "        self.balance=balance\n",
    "        self.account_number=account_number\n",
    "        \n",
    "    # debit method\n",
    "    def debit(self, amount):\n",
    "        self.balance-=amount\n",
    "        print(\"Rs.\", amount, 'was debited.')\n",
    "        print('Total balance =', self.get_balance())\n",
    "        \n",
    "    def credit(self, amount):\n",
    "        self.balance+=amount\n",
    "        print('Rs.', amount, 'was credited.')\n",
    "        print('Total balance =', self.get_balance())\n",
    "            \n",
    "    def get_balance(self):\n",
    "        return self.balance\n",
    "    \n",
    "acc1=Account(10000, 12345) \n",
    "acc1.debit(1000)\n",
    "acc1.credit(500)"
   ]
  },
  {
   "cell_type": "code",
   "execution_count": 3,
   "id": "21aeddac",
   "metadata": {},
   "outputs": [],
   "source": [
    "class Student:\n",
    "    def __init__(self, name):\n",
    "        self.name=name\n",
    "s1=Student('Sharadha')\n",
    "del s1.name"
   ]
  },
  {
   "cell_type": "code",
   "execution_count": 4,
   "id": "74bac571",
   "metadata": {},
   "outputs": [
    {
     "ename": "AttributeError",
     "evalue": "'Student' object has no attribute 'name'",
     "output_type": "error",
     "traceback": [
      "\u001b[1;31m---------------------------------------------------------------------------\u001b[0m",
      "\u001b[1;31mAttributeError\u001b[0m                            Traceback (most recent call last)",
      "Cell \u001b[1;32mIn[4], line 1\u001b[0m\n\u001b[1;32m----> 1\u001b[0m \u001b[38;5;28mprint\u001b[39m(\u001b[43ms1\u001b[49m\u001b[38;5;241;43m.\u001b[39;49m\u001b[43mname\u001b[49m)\n",
      "\u001b[1;31mAttributeError\u001b[0m: 'Student' object has no attribute 'name'"
     ]
    }
   ],
   "source": [
    "print(s1.name)"
   ]
  },
  {
   "cell_type": "markdown",
   "id": "69e9628e",
   "metadata": {},
   "source": [
    "# Private (like) attributes and methods:"
   ]
  },
  {
   "cell_type": "code",
   "execution_count": 9,
   "id": "76fbc048",
   "metadata": {},
   "outputs": [
    {
     "name": "stdout",
     "output_type": "stream",
     "text": [
      "12345\n",
      "abcde\n",
      "None\n"
     ]
    }
   ],
   "source": [
    "class Account:\n",
    "    def __init__(self, acc_no, acc_pass):\n",
    "        self.acc_no=acc_no\n",
    "        self.__acc_pass=acc_pass\n",
    "        \n",
    "    def reset_pass(self):\n",
    "        print(self.__acc_pass)\n",
    "acc1=Account(\"12345\", 'abcde')\n",
    "print(acc1.acc_no)\n",
    "print(acc1.reset_pass())"
   ]
  },
  {
   "cell_type": "markdown",
   "id": "69223a09",
   "metadata": {},
   "source": [
    "# <center> INHERITANCE </center>        "
   ]
  },
  {
   "cell_type": "code",
   "execution_count": 15,
   "id": "3da7381f",
   "metadata": {},
   "outputs": [],
   "source": [
    "class Car:\n",
    "    \n",
    "    color='black'\n",
    "    @staticmethod\n",
    "    def start():\n",
    "        print('Car started...')\n",
    "        \n",
    "    @staticmethod\n",
    "    def stop():\n",
    "        print('Car Stopped...')        "
   ]
  },
  {
   "cell_type": "code",
   "execution_count": 16,
   "id": "408dd0c5",
   "metadata": {},
   "outputs": [],
   "source": [
    "class ToyotaCar(Car):\n",
    "    def __init__(self, name):\n",
    "        self.name=name"
   ]
  },
  {
   "cell_type": "code",
   "execution_count": 17,
   "id": "dd211234",
   "metadata": {},
   "outputs": [],
   "source": [
    "car1=ToyotaCar('Fortuner')\n",
    "car2=ToyotaCar('Prius')\n"
   ]
  },
  {
   "cell_type": "code",
   "execution_count": 18,
   "id": "3169d6d8",
   "metadata": {},
   "outputs": [
    {
     "name": "stdout",
     "output_type": "stream",
     "text": [
      "Fortuner\n",
      "Car started...\n",
      "None\n",
      "black\n"
     ]
    }
   ],
   "source": [
    "print(car1.name)\n",
    "print(car1.start())\n",
    "print(car1.color)"
   ]
  },
  {
   "cell_type": "code",
   "execution_count": 7,
   "id": "f1db0168",
   "metadata": {},
   "outputs": [
    {
     "name": "stdout",
     "output_type": "stream",
     "text": [
      "Prius\n"
     ]
    }
   ],
   "source": [
    "print(car2.name)"
   ]
  },
  {
   "cell_type": "markdown",
   "id": "e97b02be",
   "metadata": {},
   "source": [
    "# Multi-level Inheritance:"
   ]
  },
  {
   "cell_type": "code",
   "execution_count": 19,
   "id": "a296c28f",
   "metadata": {},
   "outputs": [],
   "source": [
    "class Car:\n",
    "    @staticmethod\n",
    "    def start():\n",
    "        print(\"car started...\")\n",
    "        \n",
    "    def stop():\n",
    "        print('Car Stopped...')"
   ]
  },
  {
   "cell_type": "code",
   "execution_count": 20,
   "id": "098e6521",
   "metadata": {},
   "outputs": [],
   "source": [
    "class ToyotaCar(Car):\n",
    "    def __init__(self, brand):\n",
    "        self.brand=brand"
   ]
  },
  {
   "cell_type": "code",
   "execution_count": 21,
   "id": "b60cdd2c",
   "metadata": {},
   "outputs": [],
   "source": [
    "class Fortuner(ToyotaCar):\n",
    "    def __init__(self, type):\n",
    "        self.type=type      "
   ]
  },
  {
   "cell_type": "code",
   "execution_count": 22,
   "id": "d9f89edc",
   "metadata": {},
   "outputs": [],
   "source": [
    "car1=Fortuner('diesel')"
   ]
  },
  {
   "cell_type": "code",
   "execution_count": 23,
   "id": "1e0ba9c8",
   "metadata": {},
   "outputs": [
    {
     "name": "stdout",
     "output_type": "stream",
     "text": [
      "car started...\n"
     ]
    }
   ],
   "source": [
    "car1.start()"
   ]
  },
  {
   "cell_type": "markdown",
   "id": "13c87c80",
   "metadata": {},
   "source": [
    "# Mutiple Inheritance:"
   ]
  },
  {
   "cell_type": "code",
   "execution_count": 27,
   "id": "4a2ffa91",
   "metadata": {},
   "outputs": [],
   "source": [
    "class A:\n",
    "    varA='welcome to class A'\n",
    "class B:\n",
    "    varB='welcome to class B'\n",
    "class C(A, B):\n",
    "    varC='welcome to class C'"
   ]
  },
  {
   "cell_type": "code",
   "execution_count": 28,
   "id": "5ecf6c9c",
   "metadata": {},
   "outputs": [],
   "source": [
    "c1=C()"
   ]
  },
  {
   "cell_type": "code",
   "execution_count": 29,
   "id": "4c8b8c56",
   "metadata": {},
   "outputs": [
    {
     "name": "stdout",
     "output_type": "stream",
     "text": [
      "welcome to class C\n",
      "welcome to class B\n",
      "welcome to class A\n"
     ]
    }
   ],
   "source": [
    "print(c1.varC)\n",
    "print(c1.varB)\n",
    "print(c1.varA)"
   ]
  },
  {
   "cell_type": "markdown",
   "id": "11f23721",
   "metadata": {},
   "source": [
    "# Super() Method:"
   ]
  },
  {
   "cell_type": "code",
   "execution_count": 39,
   "id": "e03f5088",
   "metadata": {},
   "outputs": [],
   "source": [
    "class Car:\n",
    "    def __init__(self, type):\n",
    "        self.type=type\n",
    "        \n",
    "    @staticmethod\n",
    "    def start():\n",
    "        print('Car Started...')\n",
    "        \n",
    "    @staticmethod\n",
    "    def stop():\n",
    "        print('Car stopped...')\n",
    "        \n",
    "class ToyotaCar(Car):\n",
    "    def __init__(self, name, type):\n",
    "        super().__init__(type)\n",
    "        self.name=name\n",
    "        super().start()"
   ]
  },
  {
   "cell_type": "code",
   "execution_count": 40,
   "id": "c90002b1",
   "metadata": {},
   "outputs": [
    {
     "name": "stdout",
     "output_type": "stream",
     "text": [
      "Car Started...\n",
      "electric\n"
     ]
    }
   ],
   "source": [
    "car1=ToyotaCar('prius', 'electric')\n",
    "print(car1.type)"
   ]
  },
  {
   "cell_type": "markdown",
   "id": "2ff78c9d",
   "metadata": {},
   "source": [
    "# Class Method:"
   ]
  },
  {
   "cell_type": "code",
   "execution_count": 50,
   "id": "1fcb3041",
   "metadata": {},
   "outputs": [],
   "source": [
    "class Person:\n",
    "    name='anonymous'\n",
    "    \n",
    "    @classmethod\n",
    "    def changeName(cls, name):\n",
    "        cls.name=name"
   ]
  },
  {
   "cell_type": "code",
   "execution_count": 51,
   "id": "302f943b",
   "metadata": {},
   "outputs": [
    {
     "name": "stdout",
     "output_type": "stream",
     "text": [
      "Rahul\n",
      "Rahul\n"
     ]
    }
   ],
   "source": [
    "p1=Person()\n",
    "p1.changeName('Rahul')\n",
    "print(p1.name)\n",
    "print(Person.name)"
   ]
  },
  {
   "cell_type": "code",
   "execution_count": 52,
   "id": "bd764e27",
   "metadata": {},
   "outputs": [
    {
     "name": "stdout",
     "output_type": "stream",
     "text": [
      "Rahul\n",
      "Rahul\n"
     ]
    }
   ],
   "source": [
    "print(Person.name)\n",
    "print(p1.name)"
   ]
  },
  {
   "cell_type": "markdown",
   "id": "3210271c",
   "metadata": {},
   "source": [
    "# Property:"
   ]
  },
  {
   "cell_type": "code",
   "execution_count": 69,
   "id": "53aa438b",
   "metadata": {},
   "outputs": [],
   "source": [
    "class Student:\n",
    "    def __init__(self, phy, chem, math):\n",
    "        self.phy=phy\n",
    "        self.chem=chem\n",
    "        self.math=math\n",
    "        \n",
    "    @property\n",
    "    def percentage(self):\n",
    "        return str((self.phy+self.chem+self.math)/3)+'%'"
   ]
  },
  {
   "cell_type": "code",
   "execution_count": 71,
   "id": "89479bc4",
   "metadata": {},
   "outputs": [
    {
     "name": "stdout",
     "output_type": "stream",
     "text": [
      "98.0%\n",
      "94.0%\n"
     ]
    }
   ],
   "source": [
    "stu1=Student(98, 97, 99)\n",
    "print(stu1.percentage)\n",
    "stu1.phy=86\n",
    "print(stu1.percentage)"
   ]
  },
  {
   "cell_type": "code",
   "execution_count": 62,
   "id": "f8e43eda",
   "metadata": {},
   "outputs": [
    {
     "name": "stdout",
     "output_type": "stream",
     "text": [
      "98.0%\n"
     ]
    }
   ],
   "source": [
    "print(stu1.percentage)"
   ]
  },
  {
   "cell_type": "markdown",
   "id": "acc63a86",
   "metadata": {},
   "source": [
    "# <CENTER> POLYMORPHISM </CENTER>"
   ]
  },
  {
   "cell_type": "code",
   "execution_count": 77,
   "id": "e80df48b",
   "metadata": {},
   "outputs": [
    {
     "name": "stdout",
     "output_type": "stream",
     "text": [
      "3\n",
      "<class 'int'>\n"
     ]
    }
   ],
   "source": [
    "print(1+2)\n",
    "print(type(1))"
   ]
  },
  {
   "cell_type": "code",
   "execution_count": 78,
   "id": "cdc520d3",
   "metadata": {},
   "outputs": [
    {
     "name": "stdout",
     "output_type": "stream",
     "text": [
      "apnacollege\n",
      "<class 'str'>\n"
     ]
    }
   ],
   "source": [
    "print(\"apna\" + 'college')\n",
    "print(type('apna'))"
   ]
  },
  {
   "cell_type": "code",
   "execution_count": 79,
   "id": "ee7c7fc4",
   "metadata": {},
   "outputs": [
    {
     "name": "stdout",
     "output_type": "stream",
     "text": [
      "[1, 2, 3, 4, 5, 6]\n",
      "<class 'list'>\n"
     ]
    }
   ],
   "source": [
    "print([1, 2, 3]+[4, 5, 6])\n",
    "print(type([1, 2, 3]))"
   ]
  },
  {
   "cell_type": "code",
   "execution_count": 90,
   "id": "b734cd8b",
   "metadata": {},
   "outputs": [
    {
     "name": "stdout",
     "output_type": "stream",
     "text": [
      "1 i + 3 j\n",
      "4 i + 6 j\n",
      "5 i + 9 j\n",
      "None\n",
      "-3 i + 9 j\n",
      "None\n",
      "4 i + 18 j\n",
      "None\n",
      "0.25 i + 0.5 j\n",
      "None\n"
     ]
    }
   ],
   "source": [
    "class Complex:\n",
    "    def __init__(self, real, img):\n",
    "        self.real=real\n",
    "        self.img=img\n",
    "        \n",
    "    def showNumber(self):\n",
    "        print(self.real, 'i +', self.img, 'j')\n",
    "    \n",
    "    def __add__(self, num2): # dunder function\n",
    "        newReal=self.real+num2.real\n",
    "        newImg=self.img+num2.img\n",
    "        return Complex(newReal, newImg)\n",
    "    \n",
    "    def __sub__(self, num2): # dunder function\n",
    "        newReal=self.real-num2.real\n",
    "        newImg=self.img+num2.img\n",
    "        return Complex(newReal, newImg)\n",
    "    \n",
    "    def __mul__(self, num2): # dunder function\n",
    "        newReal=self.real*num2.real\n",
    "        newImg=self.img*num2.img\n",
    "        return Complex(newReal, newImg)\n",
    "    \n",
    "    def __truediv__(self, num2): # dunder function\n",
    "        newReal=self.real/num2.real\n",
    "        newImg=self.img/num2.img\n",
    "        return Complex(newReal, newImg)\n",
    "        \n",
    "num1=Complex(1, 3)\n",
    "num1.showNumber()\n",
    "\n",
    "num2=Complex(4, 6)\n",
    "num2.showNumber()\n",
    "\n",
    "num3=num1+num2\n",
    "print(num3.showNumber())\n",
    "\n",
    "num4=num1-num2\n",
    "print(num4.showNumber())\n",
    "\n",
    "num5=num1*num2\n",
    "print(num5.showNumber())\n",
    "\n",
    "num6=num1/num2\n",
    "print(num6.showNumber())"
   ]
  },
  {
   "cell_type": "markdown",
   "id": "cc9a0721",
   "metadata": {},
   "source": [
    "# Let's Practice:"
   ]
  },
  {
   "cell_type": "code",
   "execution_count": 103,
   "id": "73254821",
   "metadata": {},
   "outputs": [
    {
     "name": "stdout",
     "output_type": "stream",
     "text": [
      "The area of the circle is 12.56636\n",
      "The perimeter of the circle is 12.56636\n"
     ]
    }
   ],
   "source": [
    "class Circle:\n",
    "    def __init__(self, radius):\n",
    "        self.radius=radius\n",
    "        \n",
    "    def area(self):\n",
    "        return 3.14159*self.radius**2\n",
    "    \n",
    "    def perimeter(self):\n",
    "        return 2*3.14159*self.radius\n",
    "    \n",
    "    def calculateArea(self):\n",
    "        print('The area of the circle is', self.area())\n",
    "        \n",
    "    def calculatePerimeter(self):\n",
    "        print('The perimeter of the circle is', self.perimeter())\n",
    "        \n",
    "c1=Circle(2)\n",
    "c1.calculateArea()\n",
    "c1.calculatePerimeter()"
   ]
  },
  {
   "cell_type": "code",
   "execution_count": 94,
   "id": "4a185882",
   "metadata": {},
   "outputs": [
    {
     "name": "stdout",
     "output_type": "stream",
     "text": [
      "The area of the circle is 12.56636\n",
      "The perimeter of the circle is 12.56636\n"
     ]
    }
   ],
   "source": [
    "class Circle:\n",
    "    def __init__(self, radius):\n",
    "        self.radius = radius\n",
    "        \n",
    "    def area(self):\n",
    "        return 3.14159 * self.radius**2\n",
    "    \n",
    "    def perimeter(self):\n",
    "        return 2 * 3.14159 * self.radius\n",
    "    \n",
    "    def calculateArea(self):\n",
    "        print('The area of the circle is', self.area())\n",
    "        \n",
    "    def calculatePerimeter(self):\n",
    "        print('The perimeter of the circle is', self.perimeter())\n",
    "\n",
    "c1 = Circle(2)\n",
    "c1.calculateArea()\n",
    "c1.calculatePerimeter()\n"
   ]
  },
  {
   "cell_type": "markdown",
   "id": "e3106e5a",
   "metadata": {},
   "source": [
    "# Employee Class:"
   ]
  },
  {
   "cell_type": "code",
   "execution_count": 115,
   "id": "a4ed5e4e",
   "metadata": {},
   "outputs": [
    {
     "name": "stdout",
     "output_type": "stream",
     "text": [
      "The role of employee is Data science\n",
      "The department of employee is SST\n",
      "The salary of employee is 75000\n",
      "Name of Engineer is muqaddas\n",
      "Age of enginner is 20\n"
     ]
    }
   ],
   "source": [
    "class Employee:\n",
    "    \n",
    "    def __init__(self,  role, department, salary):\n",
    "        self.role=role\n",
    "        self.department=department\n",
    "        self.salary=salary\n",
    "        \n",
    "    def showDetails(self):\n",
    "        print('The role of employee is',self.role)\n",
    "        print('The department of employee is', self.department)\n",
    "        print('The salary of employee is', self.salary)\n",
    "\n",
    "class Engineer(Employee):\n",
    "    \n",
    "    def __init__(self, name, age):\n",
    "        self.name=name\n",
    "        self.age=age\n",
    "        super().__init__('Data science', 'SST', 75000)\n",
    "        \n",
    "    def info(self):\n",
    "        print('Name of Engineer is', self.name)\n",
    "        print('Age of enginner is', self.age)\n",
    "        \n",
    "\n",
    "e2=Engineer('muqaddas', 20)     \n",
    "e2.showDetails()\n",
    "e2.info()"
   ]
  },
  {
   "cell_type": "markdown",
   "id": "ef5b2d71",
   "metadata": {},
   "source": [
    "# Question:"
   ]
  },
  {
   "cell_type": "code",
   "execution_count": 121,
   "id": "91dd39e5",
   "metadata": {},
   "outputs": [
    {
     "name": "stdout",
     "output_type": "stream",
     "text": [
      "True\n"
     ]
    }
   ],
   "source": [
    "class Order:\n",
    "    \n",
    "    def __init__(self, item, price): # constructor\n",
    "        self.item=item\n",
    "        self.price=price\n",
    "        \n",
    "    def __gt__(self, order2): # dunder function/method\n",
    "        return self.price>order2.price\n",
    "    \n",
    "    def showDetails(self): # method\n",
    "        print('Item:', self.item)\n",
    "        print('Price:', self.price)\n",
    "        \n",
    "order1=Order('Makeup', 5000) # object/instance of class\n",
    "order2=Order('Tea', 1000)\n",
    "\n",
    "print(order1>order2)"
   ]
  },
  {
   "cell_type": "code",
   "execution_count": null,
   "id": "42bf9176",
   "metadata": {},
   "outputs": [],
   "source": []
  }
 ],
 "metadata": {
  "kernelspec": {
   "display_name": "Python 3 (ipykernel)",
   "language": "python",
   "name": "python3"
  },
  "language_info": {
   "codemirror_mode": {
    "name": "ipython",
    "version": 3
   },
   "file_extension": ".py",
   "mimetype": "text/x-python",
   "name": "python",
   "nbconvert_exporter": "python",
   "pygments_lexer": "ipython3",
   "version": "3.10.9"
  }
 },
 "nbformat": 4,
 "nbformat_minor": 5
}
