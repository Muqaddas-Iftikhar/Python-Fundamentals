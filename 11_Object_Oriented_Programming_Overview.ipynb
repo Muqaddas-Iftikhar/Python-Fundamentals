{
 "cells": [
  {
   "cell_type": "markdown",
   "id": "b59773c1",
   "metadata": {},
   "source": [
    "# <center> OBJECT ORIENTED PROGRAMMING </center>\n",
    "A class is a template/blue print for real world entities. It is a user-defined data type. Object is the specific instance of the class. The object oriented programming concepts includes:\n",
    "1. Object\n",
    "2. Class\n",
    "3. Abstraction\n",
    "4. Encapsulation\n",
    "5. Inheritance\n",
    "6. Polymorphism"
   ]
  },
  {
   "cell_type": "markdown",
   "id": "11075d53",
   "metadata": {},
   "source": [
    "# <center> CLASS </CENTER>\n",
    "It is a blueprint. A class consist of two things:\n",
    "1. Data or Property\n",
    "2. Functions or Behaviour"
   ]
  },
  {
   "cell_type": "code",
   "execution_count": 1,
   "id": "a552af6c",
   "metadata": {},
   "outputs": [],
   "source": [
    "class Phone:\n",
    "    # Methods\n",
    "    def make_call(self):\n",
    "        print('Making phone call')\n",
    "    def play_game(self):\n",
    "        print('Playing Game')"
   ]
  },
  {
   "cell_type": "code",
   "execution_count": 3,
   "id": "8ab89c07",
   "metadata": {},
   "outputs": [],
   "source": [
    "p1=Phone()"
   ]
  },
  {
   "cell_type": "code",
   "execution_count": 4,
   "id": "0190e0d9",
   "metadata": {},
   "outputs": [
    {
     "name": "stdout",
     "output_type": "stream",
     "text": [
      "Making phone call\n",
      "Playing Game\n"
     ]
    }
   ],
   "source": [
    "p1.make_call()\n",
    "p1.play_game()"
   ]
  },
  {
   "cell_type": "markdown",
   "id": "0e0b75e3",
   "metadata": {},
   "source": [
    "# Adding Parameters to a Class Method:"
   ]
  },
  {
   "cell_type": "code",
   "execution_count": 11,
   "id": "4a22df08",
   "metadata": {},
   "outputs": [],
   "source": [
    "class Phone:\n",
    "    def set_color(self, color):\n",
    "        self.color=color\n",
    "    def set_cost(self, cost):\n",
    "        self.cost=cost\n",
    "    def show_color(self):\n",
    "        return self.color\n",
    "    def show_cost(self):\n",
    "        return self.cost\n",
    "    def make_call(self):\n",
    "        print('Making phone call')\n",
    "    def play_game(self):\n",
    "        print('Playing Game')"
   ]
  },
  {
   "cell_type": "code",
   "execution_count": 13,
   "id": "0997739a",
   "metadata": {},
   "outputs": [],
   "source": [
    "p2=Phone()"
   ]
  },
  {
   "cell_type": "code",
   "execution_count": 14,
   "id": "c68c3ab8",
   "metadata": {},
   "outputs": [],
   "source": [
    "p2.set_color('black')\n",
    "p2.set_cost(500)"
   ]
  },
  {
   "cell_type": "code",
   "execution_count": 15,
   "id": "4bea91ae",
   "metadata": {},
   "outputs": [
    {
     "data": {
      "text/plain": [
       "'black'"
      ]
     },
     "execution_count": 15,
     "metadata": {},
     "output_type": "execute_result"
    }
   ],
   "source": [
    "p2.show_color()"
   ]
  },
  {
   "cell_type": "code",
   "execution_count": 16,
   "id": "a1ddd1c4",
   "metadata": {},
   "outputs": [
    {
     "data": {
      "text/plain": [
       "500"
      ]
     },
     "execution_count": 16,
     "metadata": {},
     "output_type": "execute_result"
    }
   ],
   "source": [
    "p2.show_cost()"
   ]
  },
  {
   "cell_type": "code",
   "execution_count": 17,
   "id": "02f24fa0",
   "metadata": {},
   "outputs": [
    {
     "name": "stdout",
     "output_type": "stream",
     "text": [
      "Making phone call\n",
      "Playing Game\n"
     ]
    }
   ],
   "source": [
    "p2.make_call()\n",
    "p2.play_game()"
   ]
  },
  {
   "cell_type": "markdown",
   "id": "450cc7a3",
   "metadata": {},
   "source": [
    "# Creating a Class with Constructors:"
   ]
  },
  {
   "cell_type": "code",
   "execution_count": 18,
   "id": "153f175d",
   "metadata": {},
   "outputs": [],
   "source": [
    "class Employee:\n",
    "    def __init__(self, name, age, salary, gender):\n",
    "        self.name=name\n",
    "        self.age=age\n",
    "        self.salary=salary\n",
    "        self.gender=gender\n",
    "    def employee_details(self):\n",
    "        print('Name of employee is', self.name)\n",
    "        print('Age of employee is', self.age)\n",
    "        print('salary of employee is', self.salary)\n",
    "        print('Gender of employee is', self.gender)"
   ]
  },
  {
   "cell_type": "code",
   "execution_count": 19,
   "id": "8b2d6a52",
   "metadata": {},
   "outputs": [],
   "source": [
    "# Instantiating Object\n",
    "e1=Employee('Sam', 32, 85000, 'Male')"
   ]
  },
  {
   "cell_type": "code",
   "execution_count": 20,
   "id": "81ca95ea",
   "metadata": {
    "scrolled": true
   },
   "outputs": [
    {
     "name": "stdout",
     "output_type": "stream",
     "text": [
      "Name of employee is Sam\n",
      "Age of employee is 32\n",
      "salary of employee is 85000\n",
      "Gender of employee is Male\n"
     ]
    }
   ],
   "source": [
    "e1.employee_details()"
   ]
  },
  {
   "cell_type": "markdown",
   "id": "a33920a2",
   "metadata": {},
   "source": [
    "# Inheritance:\n",
    "With inheritance one class can derive the properties of another class."
   ]
  },
  {
   "cell_type": "code",
   "execution_count": 21,
   "id": "ef3c8a55",
   "metadata": {},
   "outputs": [],
   "source": [
    "class Vehicle: # Base class\n",
    "    def __init__(self, mileage, cost):\n",
    "        self.mileage=mileage\n",
    "        self.cost=cost\n",
    "        \n",
    "    def show_details(self):\n",
    "        print('I am a vehicle')\n",
    "        print('MileAge of vehicle is', self.mileage)\n",
    "        print('Cost of vehicle is', self.cost)"
   ]
  },
  {
   "cell_type": "code",
   "execution_count": 22,
   "id": "fb4cd79f",
   "metadata": {},
   "outputs": [
    {
     "name": "stdout",
     "output_type": "stream",
     "text": [
      "I am a vehicle\n",
      "MileAge of vehicle is 500\n",
      "Cost of vehicle is 500\n"
     ]
    }
   ],
   "source": [
    "v1=Vehicle(500, 500)\n",
    "v1.show_details()"
   ]
  },
  {
   "cell_type": "code",
   "execution_count": 23,
   "id": "e4fdff87",
   "metadata": {},
   "outputs": [],
   "source": [
    "class Car(Vehicle): # child class\n",
    "    def show_car(self): # child method\n",
    "        print('I am a car')"
   ]
  },
  {
   "cell_type": "code",
   "execution_count": 24,
   "id": "a92859ce",
   "metadata": {},
   "outputs": [],
   "source": [
    "c1=Car(200, 1200)"
   ]
  },
  {
   "cell_type": "code",
   "execution_count": 25,
   "id": "d479fccb",
   "metadata": {},
   "outputs": [
    {
     "name": "stdout",
     "output_type": "stream",
     "text": [
      "I am a vehicle\n",
      "MileAge of vehicle is 200\n",
      "Cost of vehicle is 1200\n"
     ]
    }
   ],
   "source": [
    "c1.show_details()"
   ]
  },
  {
   "cell_type": "code",
   "execution_count": 26,
   "id": "acfc4134",
   "metadata": {},
   "outputs": [
    {
     "name": "stdout",
     "output_type": "stream",
     "text": [
      "I am a car\n"
     ]
    }
   ],
   "source": [
    "c1.show_car()"
   ]
  },
  {
   "cell_type": "markdown",
   "id": "6edb22aa",
   "metadata": {},
   "source": [
    "# Over-riding init method:"
   ]
  },
  {
   "cell_type": "code",
   "execution_count": 28,
   "id": "e03ee86b",
   "metadata": {},
   "outputs": [],
   "source": [
    "class Car(Vehicle):\n",
    "    def __init__(self, mileage, cost, tyres, hp):\n",
    "        super().__init__(mileage, cost)\n",
    "        self.tyres=tyres\n",
    "        self.hp=hp\n",
    "    def show_car_details(self):\n",
    "        print('I am a car')\n",
    "        print('Number of tyres are', self.tyres)\n",
    "        print('Value of horse power is', self.hp)"
   ]
  },
  {
   "cell_type": "code",
   "execution_count": 29,
   "id": "a5728fe4",
   "metadata": {},
   "outputs": [],
   "source": [
    "c1=Car(20, 1200, 4, 300)"
   ]
  },
  {
   "cell_type": "code",
   "execution_count": 30,
   "id": "7d3cfe23",
   "metadata": {},
   "outputs": [
    {
     "name": "stdout",
     "output_type": "stream",
     "text": [
      "I am a vehicle\n",
      "MileAge of vehicle is 20\n",
      "Cost of vehicle is 1200\n"
     ]
    }
   ],
   "source": [
    "c1.show_details()"
   ]
  },
  {
   "cell_type": "code",
   "execution_count": 31,
   "id": "95d678d5",
   "metadata": {
    "scrolled": true
   },
   "outputs": [
    {
     "name": "stdout",
     "output_type": "stream",
     "text": [
      "I am a car\n",
      "Number of tyres are 4\n",
      "Value of horse power is 300\n"
     ]
    }
   ],
   "source": [
    "c1.show_car_details()"
   ]
  },
  {
   "cell_type": "markdown",
   "id": "5e97856e",
   "metadata": {},
   "source": [
    "# <center> TYPES OF INHERITANCE </CENTER>"
   ]
  },
  {
   "cell_type": "markdown",
   "id": "a6f0ce9c",
   "metadata": {},
   "source": [
    "# Multiple Inheritance:"
   ]
  },
  {
   "cell_type": "code",
   "execution_count": 32,
   "id": "17ce2e5f",
   "metadata": {},
   "outputs": [],
   "source": [
    "class Parent1():\n",
    "    def assign_string_one(self, str1):\n",
    "        self.str1=str1\n",
    "    def show_String_one(self):\n",
    "        return self.str1"
   ]
  },
  {
   "cell_type": "code",
   "execution_count": 33,
   "id": "b17b87dd",
   "metadata": {},
   "outputs": [],
   "source": [
    "class Parent2():\n",
    "    def assign_string_two(self, str2):\n",
    "        self.str2=str2\n",
    "    def show_String_two(self):\n",
    "        return self.str2"
   ]
  },
  {
   "cell_type": "code",
   "execution_count": 34,
   "id": "cfb306eb",
   "metadata": {},
   "outputs": [],
   "source": [
    "class Derived(Parent1, Parent2):\n",
    "    def assign_string_three(self, str3):\n",
    "        self.str3=str3\n",
    "    def show_string_three(self):\n",
    "        return self.str3"
   ]
  },
  {
   "cell_type": "code",
   "execution_count": 35,
   "id": "abba24e6",
   "metadata": {},
   "outputs": [],
   "source": [
    "d1=Derived()"
   ]
  },
  {
   "cell_type": "code",
   "execution_count": 41,
   "id": "d6a46738",
   "metadata": {},
   "outputs": [],
   "source": [
    "d1.assign_string_one('one')\n",
    "d1.assign_string_two('two')\n",
    "d1.assign_string_three('three')"
   ]
  },
  {
   "cell_type": "code",
   "execution_count": 42,
   "id": "a04fc9ea",
   "metadata": {},
   "outputs": [
    {
     "data": {
      "text/plain": [
       "'one'"
      ]
     },
     "execution_count": 42,
     "metadata": {},
     "output_type": "execute_result"
    }
   ],
   "source": [
    "d1.show_String_one()"
   ]
  },
  {
   "cell_type": "code",
   "execution_count": 43,
   "id": "f809f7b6",
   "metadata": {},
   "outputs": [
    {
     "name": "stdout",
     "output_type": "stream",
     "text": [
      "two\n",
      "three\n"
     ]
    }
   ],
   "source": [
    "print(d1.show_String_two())\n",
    "print(d1.show_string_three())"
   ]
  },
  {
   "cell_type": "markdown",
   "id": "2a3690f5",
   "metadata": {},
   "source": [
    "# Multi-Level Inheritance:"
   ]
  },
  {
   "cell_type": "code",
   "execution_count": 44,
   "id": "f756d250",
   "metadata": {},
   "outputs": [],
   "source": [
    "class Parent():\n",
    "    def assign_name(self, name):\n",
    "        self.name=name\n",
    "    def show_name(self):\n",
    "        return self.name\n",
    "class Child(Parent):\n",
    "    def assign_age(self, age):\n",
    "        self.age=age\n",
    "    def show_age(self):\n",
    "        return self.age\n",
    "class GrandChild(Child):\n",
    "    def assign_gender(self, gender):\n",
    "        self.gender=gender\n",
    "    def show_gender(self):\n",
    "        return self.gender"
   ]
  },
  {
   "cell_type": "code",
   "execution_count": 45,
   "id": "8e8eeaba",
   "metadata": {},
   "outputs": [],
   "source": [
    "g1=GrandChild()"
   ]
  },
  {
   "cell_type": "code",
   "execution_count": 46,
   "id": "2a00c4ff",
   "metadata": {},
   "outputs": [],
   "source": [
    "g1.assign_name('Katherine')\n",
    "g1.assign_age(20)\n",
    "g1.assign_gender('Female')"
   ]
  },
  {
   "cell_type": "code",
   "execution_count": 1,
   "id": "ceb49e35",
   "metadata": {},
   "outputs": [
    {
     "ename": "NameError",
     "evalue": "name 'g1' is not defined",
     "output_type": "error",
     "traceback": [
      "\u001b[1;31m---------------------------------------------------------------------------\u001b[0m",
      "\u001b[1;31mNameError\u001b[0m                                 Traceback (most recent call last)",
      "Cell \u001b[1;32mIn[1], line 1\u001b[0m\n\u001b[1;32m----> 1\u001b[0m \u001b[38;5;28mprint\u001b[39m(\u001b[43mg1\u001b[49m\u001b[38;5;241m.\u001b[39mshow_name())\n\u001b[0;32m      2\u001b[0m \u001b[38;5;28mprint\u001b[39m(g1\u001b[38;5;241m.\u001b[39mshow_age())\n\u001b[0;32m      3\u001b[0m \u001b[38;5;28mprint\u001b[39m(g1\u001b[38;5;241m.\u001b[39mshow_gender())\n",
      "\u001b[1;31mNameError\u001b[0m: name 'g1' is not defined"
     ]
    }
   ],
   "source": [
    "print(g1.show_name())\n",
    "print(g1.show_age())\n",
    "print(g1.show_gender())"
   ]
  },
  {
   "cell_type": "code",
   "execution_count": 2,
   "id": "f331cddb",
   "metadata": {},
   "outputs": [],
   "source": [
    "class Person:\n",
    "    def __init__(self, name, age, gender, cnic, address):\n",
    "        self.name=name\n",
    "        self.age=age\n",
    "        self.gender=gender\n",
    "        self.cnic=cnic\n",
    "        self.address=address\n",
    "    def show_details(self):\n",
    "        print('Name:', self.name)\n",
    "        print('Age:', self.age)\n",
    "        print('Gender:', self.gender)\n",
    "        print('CNIC:', self.cnic)\n",
    "        print('Address:', self.address)"
   ]
  },
  {
   "cell_type": "code",
   "execution_count": 4,
   "id": "e2c19511",
   "metadata": {},
   "outputs": [],
   "source": [
    "p=Person('Katherine', 20, 'Female', 3520259005020, 'LDA, Lahore')"
   ]
  },
  {
   "cell_type": "code",
   "execution_count": 5,
   "id": "03074a9f",
   "metadata": {},
   "outputs": [
    {
     "name": "stdout",
     "output_type": "stream",
     "text": [
      "Name: Katherine\n",
      "Age: 20\n",
      "Gender: Female\n",
      "CNIC: 3520259005020\n",
      "Address: LDA, Lahore\n"
     ]
    }
   ],
   "source": [
    "p.show_details()"
   ]
  },
  {
   "cell_type": "code",
   "execution_count": null,
   "id": "e87ca3e4",
   "metadata": {},
   "outputs": [],
   "source": []
  }
 ],
 "metadata": {
  "kernelspec": {
   "display_name": "Python 3 (ipykernel)",
   "language": "python",
   "name": "python3"
  },
  "language_info": {
   "codemirror_mode": {
    "name": "ipython",
    "version": 3
   },
   "file_extension": ".py",
   "mimetype": "text/x-python",
   "name": "python",
   "nbconvert_exporter": "python",
   "pygments_lexer": "ipython3",
   "version": "3.10.9"
  }
 },
 "nbformat": 4,
 "nbformat_minor": 5
}
