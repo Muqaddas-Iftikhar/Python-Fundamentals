{
 "cells": [
  {
   "cell_type": "markdown",
   "id": "b0c0b6cb",
   "metadata": {},
   "source": [
    "# Practice Questions:"
   ]
  },
  {
   "cell_type": "code",
   "execution_count": 1,
   "id": "b18c6410",
   "metadata": {},
   "outputs": [
    {
     "data": {
      "text/plain": [
       "7"
      ]
     },
     "execution_count": 1,
     "metadata": {},
     "output_type": "execute_result"
    }
   ],
   "source": [
    "3+2*2"
   ]
  },
  {
   "cell_type": "code",
   "execution_count": 2,
   "id": "0180e3b4",
   "metadata": {},
   "outputs": [],
   "source": [
    "name=\"Lizz\""
   ]
  },
  {
   "cell_type": "code",
   "execution_count": 3,
   "id": "6eb7315f",
   "metadata": {},
   "outputs": [
    {
     "name": "stdout",
     "output_type": "stream",
     "text": [
      "Lizz\n"
     ]
    }
   ],
   "source": [
    "print(name)"
   ]
  },
  {
   "cell_type": "code",
   "execution_count": 4,
   "id": "e5004b50",
   "metadata": {},
   "outputs": [
    {
     "name": "stdout",
     "output_type": "stream",
     "text": [
      "Li\n"
     ]
    }
   ],
   "source": [
    "print(name[:2])"
   ]
  },
  {
   "cell_type": "code",
   "execution_count": 5,
   "id": "e7521ead",
   "metadata": {},
   "outputs": [
    {
     "name": "stdout",
     "output_type": "stream",
     "text": [
      "0246\n"
     ]
    }
   ],
   "source": [
    "var=\"01234567\"\n",
    "print(var[::2])"
   ]
  },
  {
   "cell_type": "code",
   "execution_count": null,
   "id": "ad7917bc",
   "metadata": {},
   "outputs": [],
   "source": []
  }
 ],
 "metadata": {
  "kernelspec": {
   "display_name": "Python 3 (ipykernel)",
   "language": "python",
   "name": "python3"
  },
  "language_info": {
   "codemirror_mode": {
    "name": "ipython",
    "version": 3
   },
   "file_extension": ".py",
   "mimetype": "text/x-python",
   "name": "python",
   "nbconvert_exporter": "python",
   "pygments_lexer": "ipython3",
   "version": "3.10.9"
  }
 },
 "nbformat": 4,
 "nbformat_minor": 5
}
